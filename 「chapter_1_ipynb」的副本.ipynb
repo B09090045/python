{
  "cells": [
    {
      "cell_type": "markdown",
      "metadata": {
        "id": "N1GwvrBygEzF"
      },
      "source": [
        "# Chapter 1\n",
        "## The Field"
      ]
    },
    {
      "cell_type": "markdown",
      "metadata": {
        "id": "YGwWIQp5gEzL"
      },
      "source": [
        "## 1.1 Introduction to complex numbers"
      ]
    },
    {
      "cell_type": "code",
      "source": [
        "a=5\n",
        "b=3\n",
        "a+b\n"
      ],
      "metadata": {
        "colab": {
          "base_uri": "https://localhost:8080/"
        },
        "id": "gmnjIwxpQb-1",
        "outputId": "6f7a1c67-5222-4e46-8eb0-0e95113a99df"
      },
      "execution_count": 1,
      "outputs": [
        {
          "output_type": "execute_result",
          "data": {
            "text/plain": [
              "8"
            ]
          },
          "metadata": {},
          "execution_count": 1
        }
      ]
    },
    {
      "cell_type": "code",
      "source": [
        "import calendar\n",
        "print(calendar.month(2022,3\n",
        "                     ))"
      ],
      "metadata": {
        "colab": {
          "base_uri": "https://localhost:8080/"
        },
        "id": "SuRF9Z2rQkxx",
        "outputId": "a41b72b8-486a-4628-d22d-32ff7de40cbb"
      },
      "execution_count": 2,
      "outputs": [
        {
          "output_type": "stream",
          "name": "stdout",
          "text": [
            "     March 2022\n",
            "Mo Tu We Th Fr Sa Su\n",
            "    1  2  3  4  5  6\n",
            " 7  8  9 10 11 12 13\n",
            "14 15 16 17 18 19 20\n",
            "21 22 23 24 25 26 27\n",
            "28 29 30 31\n",
            "\n"
          ]
        }
      ]
    },
    {
      "cell_type": "code",
      "source": [
        "print(calendar.calendar(2022))"
      ],
      "metadata": {
        "colab": {
          "base_uri": "https://localhost:8080/"
        },
        "id": "5G52z809QrJl",
        "outputId": "8a6f80fc-56c8-4cc1-8c14-a1b072c33389"
      },
      "execution_count": 3,
      "outputs": [
        {
          "output_type": "stream",
          "name": "stdout",
          "text": [
            "                                  2022\n",
            "\n",
            "      January                   February                   March\n",
            "Mo Tu We Th Fr Sa Su      Mo Tu We Th Fr Sa Su      Mo Tu We Th Fr Sa Su\n",
            "                1  2          1  2  3  4  5  6          1  2  3  4  5  6\n",
            " 3  4  5  6  7  8  9       7  8  9 10 11 12 13       7  8  9 10 11 12 13\n",
            "10 11 12 13 14 15 16      14 15 16 17 18 19 20      14 15 16 17 18 19 20\n",
            "17 18 19 20 21 22 23      21 22 23 24 25 26 27      21 22 23 24 25 26 27\n",
            "24 25 26 27 28 29 30      28                        28 29 30 31\n",
            "31\n",
            "\n",
            "       April                      May                       June\n",
            "Mo Tu We Th Fr Sa Su      Mo Tu We Th Fr Sa Su      Mo Tu We Th Fr Sa Su\n",
            "             1  2  3                         1             1  2  3  4  5\n",
            " 4  5  6  7  8  9 10       2  3  4  5  6  7  8       6  7  8  9 10 11 12\n",
            "11 12 13 14 15 16 17       9 10 11 12 13 14 15      13 14 15 16 17 18 19\n",
            "18 19 20 21 22 23 24      16 17 18 19 20 21 22      20 21 22 23 24 25 26\n",
            "25 26 27 28 29 30         23 24 25 26 27 28 29      27 28 29 30\n",
            "                          30 31\n",
            "\n",
            "        July                     August                  September\n",
            "Mo Tu We Th Fr Sa Su      Mo Tu We Th Fr Sa Su      Mo Tu We Th Fr Sa Su\n",
            "             1  2  3       1  2  3  4  5  6  7                1  2  3  4\n",
            " 4  5  6  7  8  9 10       8  9 10 11 12 13 14       5  6  7  8  9 10 11\n",
            "11 12 13 14 15 16 17      15 16 17 18 19 20 21      12 13 14 15 16 17 18\n",
            "18 19 20 21 22 23 24      22 23 24 25 26 27 28      19 20 21 22 23 24 25\n",
            "25 26 27 28 29 30 31      29 30 31                  26 27 28 29 30\n",
            "\n",
            "      October                   November                  December\n",
            "Mo Tu We Th Fr Sa Su      Mo Tu We Th Fr Sa Su      Mo Tu We Th Fr Sa Su\n",
            "                1  2          1  2  3  4  5  6                1  2  3  4\n",
            " 3  4  5  6  7  8  9       7  8  9 10 11 12 13       5  6  7  8  9 10 11\n",
            "10 11 12 13 14 15 16      14 15 16 17 18 19 20      12 13 14 15 16 17 18\n",
            "17 18 19 20 21 22 23      21 22 23 24 25 26 27      19 20 21 22 23 24 25\n",
            "24 25 26 27 28 29 30      28 29 30                  26 27 28 29 30 31\n",
            "31\n",
            "\n"
          ]
        }
      ]
    },
    {
      "cell_type": "code",
      "source": [
        "import requests\n",
        "a=requests.get(\"http://www.must.edu.tw\")\n",
        "print(a.text)"
      ],
      "metadata": {
        "colab": {
          "base_uri": "https://localhost:8080/"
        },
        "id": "-Ntm1SwRQu1u",
        "outputId": "0bbb0f41-b4f8-400a-e420-9e07099ed748"
      },
      "execution_count": 4,
      "outputs": [
        {
          "output_type": "stream",
          "name": "stdout",
          "text": [
            "<!DOCTYPE html>\n",
            "<html xmlns=\"http://www.w3.org/1999/xhtml\" xml:lang=\"zh-tw\" lang=\"zh-tw\" dir=\"ltr\">\n",
            "\n",
            "<head>\n",
            "  <title>明新科技大學 - 首頁</title>\n",
            "    <!-- Required Meta Tags Start -->\n",
            "  <meta charset=\"utf-8\">\n",
            "  <meta http-equiv=\"x-ua-compatible\" content=\"ie=edge\">\n",
            "  <meta name=\"description\" content=\"\">\n",
            "  <meta name=\"keywords\" content=\"\">\n",
            "  <meta name=\"author\" content=\"must\">\n",
            "  <meta name=\"viewport\" content=\"width=device-width, initial-scale=1, shrink-to-fit=no\">\n",
            "  <!-- Required Meta Tags End -->\n",
            "\n",
            "  <!-- Favicon Tags Start -->\n",
            "  <link rel=\"shortcut icon\" href=\"https://www.must.edu.tw/favicon.ico\">\n",
            "  <!-- Favicon Tags End -->\n",
            "\n",
            "  <!-- CSS here -->\n",
            "  <link rel=\"stylesheet\" href=\"https://www.must.edu.tw/templates/plugin/plugin.css\">\n",
            "  <link rel=\"stylesheet\" href=\"https://www.must.edu.tw/templates/css/style.css\">\n",
            "  <link rel=\"stylesheet\" href=\"https://www.must.edu.tw/templates/plugin/slick/slick.css\">\n",
            "  <link rel=\"stylesheet\" href=\"https://www.must.edu.tw/templates/css/custom.css\">\n",
            "\n",
            "    <!-- Global site tag (gtag.js) - Google Analytics -->\n",
            "<script async src=\"https://www.googletagmanager.com/gtag/js?id=UA-131310035-1\"></script>\n",
            "</head>\n",
            "\n",
            "<body>\n",
            "  <!-- Mobile Header-->\n",
            "<div class=\"navbar-fixed-top d-xl-none header-mobile\">\n",
            "    <!-- LOGO-->\n",
            "    <div class=\"logo\"><a href=\"https://www.must.edu.tw/\"><img src=\"https://www.must.edu.tw/images/ui/400W.png\"\n",
            "                alt=\"明新科大logo\" width=\"400\"></a></div>\n",
            "\n",
            "    <div class=\"menu-btn\">\n",
            "        <div class=\"line-wrap\">\n",
            "            <span class=\"line-1\"></span>\n",
            "            <span class=\"line-2\"></span>\n",
            "            <span class=\"line-3\"></span>\n",
            "        </div>\n",
            "        <div>Menu</div>\n",
            "    </div>\n",
            "\n",
            "</div>\n",
            "\n",
            "<nav class=\"mobilenav\">\n",
            "    <!-- Module -->\n",
            "    <div class=\"m-menu\">\n",
            "        <ul id=\"accordion\" class=\"accordion\">\n",
            "            <li>\n",
            "                <div class=\"link\">關於明新</div>\n",
            "                <ul class=\"submenu\">\n",
            "                    <li><a href=\"https://www.must.edu.tw/about/about-4.php\" title=\"校史\">校史</a></li>\n",
            "                    <li><a href=\"https://www.must.edu.tw/about/about-2.php\" title=\"校訓\">校訓</a></li>\n",
            "                    <li><a href=\"https://www.must.edu.tw/about/about-3.php\" title=\"校歌\">校歌</a></li>\n",
            "                    <li><a href=\"https://www.must.edu.tw/about/about-18.php\" title=\"教育目標\">教育目標</a></li>\n",
            "                    <li><a href=\"https://www.must.edu.tw/about/about-16.php\" title=\"創校元老\">創校元老</a></li>\n",
            "                    <li><a href=\"http://webc1.must.edu.tw/mustj001\" title=\"董事會\">董事會</a></li>\n",
            "                    <li><a href=\"https://admin.must.edu.tw/index.aspx?UnitID=1184\" title=\"校長室\">校長室</a></li>\n",
            "                    <li><a href=\"https://admin.must.edu.tw/index.aspx?UnitID=1185\" title=\"副校長室\">副校長室</a></li>\n",
            "                    <li><a href=\"../ochart/chart.pdf\" title=\"學校組織系統圖\">學校組織系統圖</a></li>\n",
            "                    <li><a href=\"https://www.must.edu.tw/about/mustmap.php\" title=\"如何到明新\">如何到明新</a></li>\n",
            "                    <li><a href=\"http://webc1.must.edu.tw/jtmust073/index.php/2017-01-20-03-50-06/2017-01-23-06-53-36\"\n",
            "                            title=\"校內平面圖\">校內平面圖</a></li>\n",
            "                </ul>\n",
            "            </li>\n",
            "\t\t\t\n",
            "\t\t\t<li><a href=\"https://www.must.edu.tw/hall-of-fame-img-list.php\" title=\"明新的驕傲\">明新的驕傲</a></li>\n",
            "\t\t\n",
            "\t\t\t\n",
            "\t\t\t\n",
            "\t\t\t\n",
            "            <li>\n",
            "                <div class=\"link\">學術單位</div>\n",
            "                <ul class=\"submenu\">\n",
            "                    <li class=\"inner\">\n",
            "                        <div class=\"link\">半導體學院</div>\n",
            "                        <ul class=\"submenu\">\n",
            "                            <li><a href=\"http://webc1.must.edu.tw/jtmust090\" title=\"半導體學院\">半導體學院</a></li>\n",
            "\t\t\t\t\t\t\t<li><a href=\"http://webc2.must.edu.tw/jtmust005\" title=\"電機工程系(學士班、碩士班)\">電機工程系(學士班、碩士班)</a></li>\n",
            "                            <li><a href=\"http://eed.must.edu.tw/\" title=\"電子工程系(學士班、碩士班)\">電子工程系(學士班、碩士班)</a></li>\t\t\t\t\t\t\t\n",
            "\t\t\t\t\t\t\t<li><a href=\"http://webc2.must.edu.tw/jtmust020/\" title=\"應用材料科技系(原化學工程與材料科技系)(學士班、碩士班)\">應用材料科技系(原化學工程與材料科技系)(學士班、碩士班)</a></li>\n",
            "\t\t\t\t\t\t\t<li><a href=\"http://webc2.must.edu.tw/jtmust012\" title=\"半導體與光電科技系(學士班、碩士班)\">半導體與光電科技系(原光電工程系)(學士班、碩士班)</a></li>\n",
            "                        </ul>\n",
            "                    </li>\n",
            "\t\t\t\t\t\n",
            "\t\t\t\t\t<li class=\"inner\">\n",
            "                        <div class=\"link\">工程學院</div>\n",
            "                        <ul class=\"submenu\">\n",
            "                            <li><a href=\"http://smart.must.edu.tw/\" title=\"工程學院\">工程學院</a></li>\n",
            "\t\t\t\t\t\t\t<li><a href=\"http://meu.must.edu.tw/\" title=\"機械工程系(學士班、精密機電工程碩士班)\">機械工程系(學士班、精密機電工程碩士班)</a></li>\n",
            "\t\t\t\t\t\t\t<li><a href=\"http://civil.must.edu.tw/\" title=\"土木工程與環境資源管理系(學士班、碩士班)\">土木工程與環境資源管理系(學士班、碩士班)</a></li>\n",
            "\t\t\t\t\t\t\t<li><a href=\"http://csie.must.edu.tw/\" title=\"資訊工程系(學士班)\">資訊工程系(學士班)</a></li>\n",
            "                        </ul>\n",
            "                    </li>\n",
            "\t\t\t\t\t\n",
            "\t\t\t\t\t\n",
            "                    <li class=\"inner\">\n",
            "                        <div class=\"link\">管理學院</div>\n",
            "                        <ul class=\"submenu\">\n",
            "\t\t\t\t\t\t\t<li><a href=\"https://acade.must.edu.tw/index.aspx?UnitID=45\"  title=\"管理學院\">管理學院</a></li>\n",
            "                            <li><a href=\"http://webc2.must.edu.tw/jtmust028\"  title=\"工業工程與管理系(學士班、碩士班)\">工業工程與管理系(學士班、碩士班)</a></li>\n",
            "                            <li><a href=\"http://www.im.must.edu.tw/\" title=\"資訊管理系(學士班、碩士班)\">資訊管理系(學士班、碩士班)</a></li>\n",
            "                            <li><a href=\"https://acade.must.edu.tw/index.aspx?UnitID=48\" title=\"行銷與流通管理系(學士班)\">行銷與流通管理系(學士班)</a></li>\n",
            "                            <li><a href=\"https://acade.must.edu.tw/index.aspx?UnitID=49\" title=\"企業管理系(學士班)\">企業管理系(學士班)</a></li>\n",
            "                            <li><a href=\"http://webc2.must.edu.tw/jtmust021\" title=\"財務金融系(學士班)\">財務金融系(學士班)</a></li>\n",
            "                            <li><a href=\"http://webc2.must.edu.tw/jtmust022\" title=\"管理研究所(碩士班)\">管理研究所(碩士班)</a></li>\n",
            "                            <!--<li><a href=\"http://webc2.must.edu.tw/jtmust013/\" title=\"全球運籌管理中心\">全球運籌管理中心</a></li>-->\n",
            "                        </ul>\n",
            "                    </li>\n",
            "                    <li class=\"inner\">\n",
            "                        <div class=\"link\">服務產業學院</div>\n",
            "                        <ul class=\"submenu\">\n",
            "\t\t\t\t\t\t\t<li><a href=\"https://acade.must.edu.tw/index.aspx?UnitID=52\" title=\"服務產業學院\">服務產業學院</a> </li>\n",
            "                            <li><a href=\"http://webc1.must.edu.tw/jtmust044\" title=\"服務產業暨管理研究所(碩士班)\">服務產業暨管理研究所(碩士班)</a> </li>\n",
            "                            <li><a href=\"http://webc2.must.edu.tw/jtmust019\" title=\"旅館管理與廚藝創意系(學士班)\">旅館管理與廚藝創意系(學士班)</a> </li>\n",
            "                            <li><a href=\"http://child.must.edu.tw/\" title=\"幼兒保育系(學士班、碩士班)\">幼兒保育系(學士班、碩士班)</a></li>\n",
            "                            <li><a href=\"http://webc2.must.edu.tw/jtmust101\" title=\"休閒事業管理系(學士班)\">休閒事業管理系(學士班)</a></li>\n",
            "                            <li><a href=\"http://webc2.must.edu.tw/jtmust010/\" title=\"樂齡服務產業管理系(學士班)\">樂齡服務產業管理系(學士班)</a>  </li>\n",
            "                            <li><a href=\"http://webc2.must.edu.tw/jtmust011\" title=\"師資培育中心\">師資培育中心</a></li>\n",
            "                        </ul>\n",
            "                    </li>\n",
            "                    <li class=\"inner\">\n",
            "                        <div class=\"link\">人文與設計學院</div>\n",
            "                        <ul class=\"submenu\">\n",
            "                            <li><a href=\"https://acade.must.edu.tw/index.aspx?UnitID=59\" title=\"人文與設計學院\">人文與設計學院</a> </li>\n",
            "\t\t\t\t\t\t\t<li><a href=\"http://webc1.must.edu.tw/jtmust067/\" title=\"應用外語系(學士班)\">應用外語系(學士班)</a></li>\n",
            "                            <li><a href=\"http://webc1.must.edu.tw/mustj004\" title=\"運動事業管理系(學士班)\">運動事業管理系(學士班)</a></li>\n",
            "                            <li><a href=\"http://webc2.must.edu.tw/jtmust102/\" title=\"多媒體與遊戲發展系(學士班)\">多媒體與遊戲發展系(學士班)</a>  </li>\n",
            "                            <li><a href=\"http://webc1.must.edu.tw/jtmust080\" title=\"時尚造型與設計系(學士班)\">時尚造型與設計系(學士班)</a>  </li>\n",
            "                            <li><a href=\"http://webc1.must.edu.tw/jtmust048/\" title=\"化妝品應用學士學位學程\">化妝品應用學士學位學程</a></li>\n",
            "\t\t\t\t\t\t\t\n",
            "                            <!--<li><a href=\"http://webc1.must.edu.tw/jtmust041\" title=\"華語文教學中心\">華語文教學中心</a></li>-->\n",
            "                            \n",
            "                        </ul>\n",
            "                    </li>\n",
            "                    <li class=\"inner\">\n",
            "                        <div class=\"link\">共同教育學院</div>\n",
            "                        <ul class=\"submenu\">\n",
            "                            <li><a href=\"http://webc1.must.edu.tw/mustj010\" title=\"共同教育學院\">共同教育學院</a></li>\n",
            "\t\t\t\t\t\t\t<li><a href=\"http://webc2.must.edu.tw/jtmust014\" title=\"通識教育中心\">通識教育中心</a></li>\n",
            "\t\t\t\t\t\t\t<!--<li><a href=\"http://webc1.must.edu.tw/jtmust081\" title=\"人文藝術教學中心\">人文藝術教學中心</a></li>\n",
            "                            <li><a href=\"http://webc1.must.edu.tw/jtmust082\" title=\"社會科學教學中心\">社會科學教學中心</a></li>\n",
            "                            <li><a href=\"http://webc1.must.edu.tw/jtmust083\" title=\"自然科學教學中心\">自然科學教學中心</a></li>\n",
            "                            <li><a href=\"http://webc1.must.edu.tw/jtmust084\" title=\"語言教學中心\">語言教學中心</a></li>-->\n",
            "                        </ul>\n",
            "                    </li>\n",
            "                </ul>\n",
            "            </li>\n",
            "            <li>\n",
            "                <div class=\"link\">行政單位</div>\n",
            "                <ul class=\"submenu\">\n",
            "                <li><a href=\"https://admin.must.edu.tw/index.aspx?UnitID=70\" title=\"稽核處\">稽核處</a></li>\n",
            "                <li><a href=\"https://admin.must.edu.tw/index.aspx?UnitID=71\" title=\"秘書處\">秘書處</a></li>\n",
            "                <li><a href=\"https://admin.must.edu.tw/index.aspx?UnitID=72\" title=\"公共關係處\">公共關係處</a></li>\n",
            "                <li><a href=\"https://admin.must.edu.tw/index.aspx?UnitID=75\" title=\"財務處\">財務處</a></li>\n",
            "                <li><a href=\"https://admin.must.edu.tw/index.aspx?UnitID=76\" title=\"人力資源處\">人力資源處</a></li>\n",
            "                <li><a href=\"http://webc1.must.edu.tw/mustj005/\" title=\"法務處\">法務處</a></li>\n",
            "\t\t\t\t<li><a href=\"#\" title=\"原住民族教育發展處\">原住民族教育發展處</a></li>\n",
            "\t\t\t\t<li><a href=\"http://webs.must.edu.tw/ocmust012\" title=\"原住民族學生資源中心\">- 原住民族學生資源中心</a></li>\n",
            "                <li><a href=\"https://admin.must.edu.tw/index.aspx?UnitID=80\" title=\"大學社會責任辦公室 \">大學社會責任辦公室</a></li>    \n",
            "\t\t\t\t\t\n",
            "                    <li class=\"inner\">\n",
            "                        <div class=\"link\">教務處</div>\n",
            "                        <ul class=\"submenu\">\n",
            "                            <li><a href=\"https://admin.must.edu.tw/index.aspx?UnitID=81\" title=\"教務處\">教務處</a></li>\n",
            "\t\t\t\t\t\t\t<li><a href=\"https://admin.must.edu.tw/index.aspx?UnitID=82\" title=\"課務組\">課務組</a></li>\n",
            "\t\t\t\t\t\t\t<li><a href=\"https://admin.must.edu.tw/index.aspx?UnitID=83\" title=\"註冊組\">註冊組</a></li>\n",
            "\t\t\t\t\t\t\t<li><a href=\"https://admin.must.edu.tw/index.aspx?UnitID=84\" title=\"教學發展中心\">教學發展中心</a></li>\n",
            "\t\t\t\t\t\t\t<li><a href=\"https://admin.must.edu.tw/index.aspx?UnitID=85\" title=\"學生實習服務中心\">學生實習服務中心</a></li>\n",
            "\t\t\t\t\t\t\t<li><a href=\"https://admin.must.edu.tw/index.aspx?UnitID=107\" title=\"進修教務組 \">進修教務組</a></li>\n",
            "\t\t\t\t\t\t\t<li><a href=\"https://admin.must.edu.tw/view/content.aspx?UnitID=81&id=5559&tp=menu\" title=\"ROTC專案辦公室 \">ROTC專案辦公室</a></li>\n",
            "                        </ul>\n",
            "                    </li>\n",
            "                    <li class=\"inner\">\n",
            "                        <div class=\"link\">學生事務處</div>\n",
            "                        <ul class=\"submenu\">\n",
            "                            <li><a href=\"https://admin.must.edu.tw/index.aspx?UnitID=86\" title=\"學生事務處\">學生事務處</a></li>\n",
            "\t\t\t\t\t\t\t<li><a href=\"https://admin.must.edu.tw/index.aspx?UnitID=87\" title=\"生活輔導組\">生活輔導組</a></li>\n",
            "\t\t\t\t\t\t\t<li><a href=\"https://admin.must.edu.tw/index.aspx?UnitID=88\" title=\"課外活動指導組\">課外活動指導組</a></li>\n",
            "\t\t\t\t\t\t\t<li><a href=\"https://admin.must.edu.tw/index.aspx?UnitID=89\" title=\"衛生保健組\">衛生保健組</a></li>\n",
            "\t\t\t\t\t\t\t<li><a href=\"https://admin.must.edu.tw/index.aspx?UnitID=90\" title=\"體育室\">體育室</a></li>\n",
            "\t\t\t\t\t\t\t<li><a href=\"https://admin.must.edu.tw/index.aspx?UnitID=91\" title=\"諮商輔導暨職涯發展中心\">諮商輔導暨職涯發展中心</a></li>\n",
            "\t\t\t\t\t\t\t<li><a href=\"https://admin.must.edu.tw/index.aspx?UnitID=92\" title=\"諮商輔導暨職涯發展中心[資源教室]\">諮商輔導暨職涯發展中心[資源教室]</a></li>\n",
            "\t\t\t\t\t\t\t<li><a href=\"https://admin.must.edu.tw/index.aspx?UnitID=93\" title=\"校安中心\">校安中心</a>\n",
            "\t\t\t\t\t\t\t<li><a href=\"https://admin.must.edu.tw/index.aspx?UnitID=108\" title=\"進修學務組 \">進修學務組</a></li>\n",
            "                        </ul>\n",
            "                    </li>\n",
            "                    <li class=\"inner\">\n",
            "                        <div class=\"link\">總務處</div>\n",
            "                        <ul class=\"submenu\">\n",
            "                            <li><a href=\"https://admin.must.edu.tw/index.aspx?UnitID=94\" title=\"總務處\">總務處</a></li>\n",
            "\t\t\t\t\t\t\t<li><a href=\"https://admin.must.edu.tw/index.aspx?UnitID=95\" title=\"文書組\">文書組</a></li>\n",
            "\t\t\t\t\t\t\t<li><a href=\"https://admin.must.edu.tw/index.aspx?UnitID=96\" title=\"事務組\">事務組</a></li>\n",
            "\t\t\t\t\t\t\t<li><a href=\"https://admin.must.edu.tw/index.aspx?UnitID=97\" title=\"出納組\">出納組</a></li>\n",
            "\t\t\t\t\t\t\t<li><a href=\"https://admin.must.edu.tw/index.aspx?UnitID=98\" title=\"營繕組\">營繕組</a></li>\n",
            "\t\t\t\t\t\t\t<li><a href=\"https://admin.must.edu.tw/index.aspx?UnitID=99\" title=\"採購組\">採購組</a></li>\n",
            "\t\t\t\t\t\t\t<li><a href=\"https://admin.must.edu.tw/index.aspx?UnitID=100\" title=\"保管組\">保管組</a></li>\n",
            "\t\t\t\t\t\t\t<li><a href=\"https://admin.must.edu.tw/index.aspx?UnitID=101\" title=\"環境安全衛生中心\">環境安全衛生中心</a></li>\n",
            "                        </ul>\n",
            "                    </li>\n",
            "                    \n",
            "\t\t\t\t\t<li class=\"inner\">\n",
            "                        <div class=\"link\">終身教育處</div>\n",
            "                        <ul class=\"submenu\">\n",
            "\t\t\t\t\t\t\t<li><a href=\"https://admin.must.edu.tw/index.aspx?UnitID=106\" title=\"終身教育處\">終身教育處</a></li>\n",
            "\t\t\t\t\t\t\t<!--<li><a href=\"http://webc2.must.edu.tw/jtmust039\" title=\"進修推廣處課務註冊組\">進修推廣處課務註冊組</a></li>\n",
            "\t\t\t\t\t\t\t<li><a href=\"http://webc2.must.edu.tw/jtmust036\" title=\"進修推廣處綜合事務組\">進修推廣處綜合事務組</a></li>-->\n",
            "\t\t\t\t\t\t\t<li><a href=\"http://eec.must.edu.tw/\" title=\"推廣教育中心\">推廣教育中心</a></li>\n",
            "\t\t\t\t\t\t\t<li><a href=\"https://admin.must.edu.tw/index.aspx?UnitID=1218\" title=\"國軍人才培育中心\">國軍人才培育中心</a></li>\n",
            "                        </ul>\n",
            "                    </li>\n",
            "\t\t\t\t\t\n",
            "\t\t\t\t\t<li class=\"inner\">\n",
            "                        <div class=\"link\">圖書資訊處</div>\n",
            "                        <ul class=\"submenu\">\n",
            "\t\t\t\t\t\t\n",
            "\t\t\t\t\t\t<li><a href=\"https://admin.must.edu.tw/index.aspx?UnitID=74\" target=\"_blank\" title='系統維運組-將另開新視窗 '>系統維運組</a> </li>\n",
            "\t\t\t\t\t\t<li><a href=\"https://admin.must.edu.tw/index.aspx?UnitID=74\" title=\"技術服務組 \">技術服務組</a></li>\n",
            "\t\t\t\t\t\t<li><a href=\"https://admin.must.edu.tw/index.aspx?UnitID=74\" title=\"圖書資源服務組 \">圖書資源服務組</a></li>\n",
            "\t\t\t\t\t\t<li><a href=\"http://webc2.must.edu.tw/jtmust008\" title=\"藝文中心 \">藝文中心</a></li>\n",
            "                 \t\t\n",
            "                        </ul>\n",
            "                    </li>\n",
            "\t\t\t\t\t\n",
            "\t\t\t\t\t\n",
            "\t\t\t\t\t<li class=\"inner\">\n",
            "                        <div class=\"link\">研究發展處</div>\n",
            "                        <ul class=\"submenu\">\n",
            "\t\t\t\t\t\t\t<li><a href=\"https://admin.must.edu.tw/index.aspx?UnitID=115\" title=\"研究發展處\">研究發展處</a></li>\n",
            "\t\t\t\t\t\t\t<li><a href=\"https://admin.must.edu.tw/index.aspx?UnitID=116\" title=\"校務研究中心\">校務研究中心</a></li>\n",
            "\t\t\t\t\t\t\t<li><a href=\"https://admin.must.edu.tw/index.aspx?UnitID=117\" title=\"校務企劃中心\">校務企劃中心</a></li>\n",
            "\t\t\t\t\t\t\t<li><a href=\"https://admin.must.edu.tw/index.aspx?UnitID=118\" title=\"研究與技術中心\">研究技術中心</a></li>\n",
            "\t\t\t\t\t\t\t\n",
            "                        </ul>\n",
            "                    </li>\n",
            "\t\t\t\t\t\n",
            "\t\t\t\t\t<li class=\"inner\">\n",
            "                        <div class=\"link\">產學營運處</div>\n",
            "                        <ul class=\"submenu\">\n",
            "                            <li><a href=\"https://admin.must.edu.tw/index.aspx?UnitID=119\" target=\"_blank\" title='產學營運處-將另開新視窗'>產學營運處</a> </li>\n",
            "\t\t\t\t\t\t\t<li><a href=\"https://admin.must.edu.tw/index.aspx?UnitID=121\" target=\"_blank\" title='防災中心-將另開新視窗'>防災技術研究中心</a> </li>\n",
            "\t\t\t\t\t\t\t<li><a href=\"https://admin.must.edu.tw/index.aspx?UnitID=122\" title=\"產學及技術移轉中心\">產學及技術移轉中心</a></li>\n",
            "\t\t\t\t\t\t\t<li><a href=\"http://webc1.must.edu.tw/jtmust047\" title=\"創新育成中心\">創新育成中心</a></li>\n",
            "\t\t\t\t\t\t\t<li><a href=\"https://admin.must.edu.tw/index.aspx?UnitID=124\" title=\"校友服務中心 \">校友服務中心</a></li>\n",
            "                        </ul>\n",
            "                    </li>\n",
            "                    \n",
            "\t\t\t\t\t<li class=\"inner\">\n",
            "                        <div class=\"link\">國際暨兩岸事務處</div>\n",
            "                        <ul class=\"submenu\">\n",
            "                            <li><a href=\"https://admin.must.edu.tw/index.aspx?UnitID=110\" title=\"國際暨兩岸事務處\">國際暨兩岸事務處</a></li>\n",
            "\t\t\t\t\t\t\t<li><a href=\"https://admin.must.edu.tw/index.aspx?UnitID=111\" title=\"國際暨兩岸教育中心\">國際暨兩岸教育中心</a></li>\n",
            "                            <li><a href=\"https://admin.must.edu.tw/index.aspx?UnitID=112\" title=\"境外生輔導與服務中心\">境外生輔導與服務中心</a></li>\n",
            "\t\t\t\t\t\t\t<li><a href=\"https://admin.must.edu.tw/index.aspx?UnitID=113\" title=\"華語文教學中心\">華語文教學中心</a></li>\n",
            "\t\t\t\t\t\t\t<li><a href=\"https://admin.must.edu.tw/index.aspx?UnitID=114\" title=\"新住民教育發展中心\">新住民教育發展中心</a></li>\n",
            "                        </ul>\n",
            "                    </li>\n",
            "\t\t\t\t\t\n",
            "\t\t\t\t\t<li class=\"inner\">\n",
            "                        <div class=\"link\">入學服務處</div>\n",
            "                        <ul class=\"submenu\">\n",
            "                            <li><a href=\"http://admission.must.edu.tw/\" target=\"_blank\" title='入學服務處-將另開新視窗'>入學服務處</a> </li>\n",
            "\t\t\t\t\t\t\t<li><a href=\"https://admission.must.edu.tw/view/list.aspx?id=9\" title=\"選才辦公室\">選才辦公室</a></li>\n",
            "\t\t\t\t\t\t\t<li><a href=\"https://admission.must.edu.tw/view/list.aspx?id=9\" title=\"教育行銷組\">教育行銷組</a></li>\n",
            "\t\t\t\t\t\t\t<li><a href=\"https://admission.must.edu.tw/view/list.aspx?id=9\" title=\"行政事務組\">行政事務組</a></li>\n",
            "                   \n",
            "                        </ul>\n",
            "                    </li>\n",
            "\t\t\t\t\t\n",
            "\t\t\t\t\t<li class=\"inner\">\n",
            "                        <div class=\"link\">原住民族教育發展處</div>\n",
            "                        <ul class=\"submenu\">\n",
            "                            <li><a href=\"#\" target=\"_blank\" title='原住民族教育發展處-將另開新視窗'>原住民族教育發展處</a> </li>\n",
            "\t\t\t\t\t\t\t<li><a href=\"http://webs.must.edu.tw/ocmust012\" title=\"原住民族學生資源中心\">- 原住民族學生資源中心</a></li>\n",
            "                   \n",
            "                        </ul>\n",
            "                    </li>\n",
            "\t\t\t\t\t\n",
            "                </ul>\n",
            "            </li>\n",
            "            <li><a href=\"https://www.must.edu.tw/admissions.php\" title=\"\">招生資訊</a></li>\n",
            "            \n",
            "\t\t\t<!--<li>\n",
            "                <div class=\"link\">線上服務</div>\n",
            "                <ul class=\"submenu\">\n",
            "                    <li><a href=\"https://www.must.edu.tw/faq.php\" title=\"常見問答\">常見問答</a></li>\n",
            "                    <li><a href=\"https://sss.must.edu.tw/std_service.html\" title=\"學生專區\">學生專區</a></li>\n",
            "                    <li><a href=\"https://sss.must.edu.tw/teach_service.html\" title=\"教職員專區\">教職員專區</a></li>\n",
            "                    <li><a href=\"https://www.must.edu.tw/download.php\" title=\"檔案下載\">檔案下載</a></li>\n",
            "                    <li><a href=\"https://www.must.edu.tw/qa.php\" title=\"網站問題反映\">網站問題反映</a></li>\n",
            "                    <li><a href=\"mailto://president@must.edu.tw;secretariat.must@must.edu.tw;chen083487@must.edu.tw\"\n",
            "                            title=\"校長信箱\">校長信箱</a></li>\n",
            "                    <li><a href=\"https://www.must.edu.tw/calendar.php\" title=\"校園行事曆\">校園行事曆</a></li>\n",
            "                </ul>\n",
            "            </li>-->\n",
            "            \n",
            "\t\t\t<li><a href=\"http://webs.must.edu.tw/jtmust060\" title=\"\">弱勢助學勸募</a></li>\n",
            "        </ul>\n",
            "        <div class=\"search\">\n",
            "            <form id=\"search\" method=\"get\" action=\"https://www.google.com/custom\" target=\"_blank\"\n",
            "                style=\"border: 0 !important;\">\n",
            "                <input type=\"hidden\" name=\"client\" value=\"pub-&amp;amp\">\n",
            "                <input type=\"hidden\" name=\"ie\" id=\"ie\" value=\"utf-8\">\n",
            "                <input type=\"hidden\" name=\"oe\" id=\"oe\" value=\"utf-8\">\n",
            "                <input type=\"hidden\" name=\"domains\" value=\"www.must.edu.tw\">\n",
            "                <input type=\"hidden\" name=\"sitesearch\" value=\"www.must.edu.tw\">\n",
            "                <label style=\"display:none;\" for=\"q\">Google Search</label>\n",
            "                <label style=\"display:none;\" for=\"q\">請輸入關鍵字</label><input type=\"text\" placeholder=\"請輸入關鍵字\" name=\"q\"\n",
            "                    id=\"q\"><button>搜尋</button>\n",
            "            </form>\n",
            "        </div>\n",
            "        <div class=\"topnav\">\n",
            "            <ul class=\"nav\">\n",
            "                <li><a href=\"https://www.must.edu.tw/index.php\" title=\"首頁\">首頁</a></li>\n",
            "                <li><a href=\"http://webc1.must.edu.tw/jtmust062/index.php/news/mustepaper\" title=\"電子報\">電子報</a></li>\n",
            "                <li><a href=\"https://sites.google.com/site/mustfreshman\" title=\"新生專區\">新生專區</a></li>\n",
            "                <li><a href=\"https://sss.must.edu.tw/pars_new/pars_index.asp\" title=\"學生家長\">學生家長</a></li>\n",
            "                <li><a href=\"https://www.must.edu.tw/contact.php\" title=\"聯絡我們\">聯絡我們</a></li>\n",
            "                \n",
            "\t\t\t\t<li><a href=\"https://www.must.edu.tw//calendar.php\" title=\"校園行事曆\">校園行事曆</a></li>\n",
            "\t\t\t\t<li><a href=\"http://www.lib.must.edu.tw/\" title=\"圖書館\">圖書館</a></li>\n",
            "\t\t\t\t<li><a href=\"http://webs.must.edu.tw/must055/\" title=\"明新55校慶\" target=\"_blank\">明新55校慶</a></li>\n",
            "\t\t\t\t<li><a href=\"https://www.must.edu.tw/servies.php\" title=\"線上服務\">線上服務</a></li>\n",
            "                <li><a href=\"https://www.must.edu.tw/sitemap.php\" title=\"網站導覽\">網站導覽</a></li>\n",
            "\t\t\t\t<li><a href=\"http://fg.must.edu.tw/\" title=\"English\">English</a></li>\n",
            "\t\t\t\t\n",
            "            </ul>\n",
            "        </div>\n",
            "    </div>\n",
            "</nav>\n",
            "\n",
            "<script type=\"text/javascript\">\n",
            "    window.onload = function () {\n",
            "        width = window.innerWidth;\n",
            "        $('.menu-btn').click(function () {\n",
            "            $('.mobilenav').toggleClass('open');\n",
            "            $(this).toggleClass('close-btn line');\n",
            "        });\n",
            "\n",
            "        var Accordion = function (el, multiple) {\n",
            "            this.el = el || {};\n",
            "            this.multiple = multiple || false;\n",
            "\n",
            "            // Variables privadas\n",
            "            var links = this.el.find('.link');\n",
            "            // Evento\n",
            "            links.on('click', {\n",
            "                el: this.el,\n",
            "                multiple: this.multiple\n",
            "            }, this.dropdown)\n",
            "        }\n",
            "\n",
            "        Accordion.prototype.dropdown = function (e) {\n",
            "            var $el = e.data.el;\n",
            "            $this = $(this),\n",
            "                $next = $this.next();\n",
            "\n",
            "            $next.slideToggle();\n",
            "            $this.parent().toggleClass('open');\n",
            "\n",
            "            if (!$this.parent().hasClass('inner')) {\n",
            "                $.each($el.find('.open > .submenu > .inner > .link'), function (i, val) {\n",
            "                    val.className = \"link\";\n",
            "                    if (!val.classList.contains('sub-open')) {\n",
            "                        val.classList.remove('sub-close');\n",
            "                        val.classList.add('sub-open');\n",
            "                    } else {\n",
            "                        val.classList.remove('sub-open');\n",
            "                        val.classList.add('sub-close');\n",
            "                    }\n",
            "                });\n",
            "            } else {\n",
            "                if ($this.hasClass(\"sub-open\")) {\n",
            "                    $this.removeClass('sub-open');\n",
            "                    $this.addClass('sub-close');\n",
            "                } else {\n",
            "                    $this.removeClass('sub-close');\n",
            "                    $this.addClass('sub-open');\n",
            "                }\n",
            "            }\n",
            "\n",
            "            if (!e.data.multiple && !$this.parent().hasClass(\"inner\")) {\n",
            "                $el.find('.submenu').not($next).slideUp().parent().removeClass('open');\n",
            "            };\n",
            "        }\n",
            "        var accordion = new Accordion($('#accordion'), false);\n",
            "    };\n",
            "\n",
            "    window.onresize = function () {\n",
            "        $('.mobilenav').removeClass('open');\n",
            "        $('.menu-btn').removeClass('close-btn line');\n",
            "    };\n",
            "</script><header>\n",
            "  <div class=\"header container d-none d-xl-block\">\n",
            "    <div class=\"for_accessibility\">\n",
            "      <a href=\"#content\" class=\"sr-only sr-only-focusable\" title=\"跳到主要內容區塊\">\n",
            "        跳到主要內容區塊</a>\n",
            "    </div>\n",
            "    <div class=\"logo\"><a href=\"https://www.must.edu.tw/\"><img src=\"https://www.must.edu.tw/images/ui/400C.png\" alt=\"左上角-明新科大logo\"></a>\n",
            "    </div>\n",
            "    <div class=\"topnav\">\n",
            "      <ul class=\"nav\">\n",
            "        <li><a accesskey=\"U\" href=\"#accesskeyU\" title=\"上方導覽區\" name=\"accesskeyU\">:::</a></li>\n",
            "        <li><a href=\"https://www.must.edu.tw/index.php\" title=\"首頁\">首頁</a></li>\n",
            "        <li><a href=\"https://sss.must.edu.tw/pars_new/pars_index.asp\" title=\"學生家長 \">學生家長</a></li>\n",
            "\t\t<li><a href=\"https://www.must.edu.tw/calendar.php\" title=\"校園行事曆\">校園行事曆</a></li>\n",
            "\t\t<li><a href=\"http://www.lib.must.edu.tw/\" title=\"圖書館 \">圖書館</a></li>\n",
            "\t\t<li><a href=\"http://webs.must.edu.tw/jtmust060\" title=\"弱勢助學勸募 \">弱勢助學勸募</a></li>\n",
            "\t\t<li><a href=\"http://webs.must.edu.tw/must055/\" title=\"明新55校慶\" target=\"_blank\">明新55校慶</a></li>\n",
            "\t\t<li><a href=\"http://webc1.must.edu.tw/jtmust062/index.php/news/mustepaper\" title=\"電子報 \">電子報</a></li>\n",
            "        <li><a href=\"https://www.must.edu.tw/sitemap.php\" title=\"網站導覽\">網站導覽</a></li>\n",
            "\t\t<li><a href=\"https://www.must.edu.tw/contact.php\" title=\"聯絡我們\">聯絡我們</a></li>\n",
            "\t\t<li><a href=\"http://fg.must.edu.tw/\" title=\"English(open new window)\">English</a></li>\n",
            "\t\t\n",
            "\t\t\n",
            "      </ul>\n",
            "    </div>\n",
            "    <div class=\"search\">\n",
            "      <form id=\"search\" method=\"get\" action=\"https://www.google.com/custom\" target=\"_blank\"\n",
            "        style=\"border: 0 !important;\">\n",
            "        <input type=\"hidden\" name=\"client\" value=\"pub-&amp;amp\">\n",
            "        <input type=\"hidden\" name=\"ie\" id=\"ie\" value=\"utf-8\">\n",
            "        <input type=\"hidden\" name=\"oe\" id=\"oe\" value=\"utf-8\">\n",
            "        <input type=\"hidden\" name=\"domains\" value=\"must.edu.tw\">\n",
            "        <input type=\"hidden\" name=\"sitesearch\" value=\"must.edu.tw\">\n",
            "        <label style=\"display:none;\" for=\"q\">Google Search</label>\n",
            "        <label style=\"display:none;\" for=\"q\">請輸入關鍵字</label><input type=\"text\"  accesskey=\"S\" placeholder=\"請輸入關鍵字\" name=\"q\"\n",
            "          id=\"q\"><button>搜尋</button>\n",
            "      </form>\n",
            "    </div>\n",
            "  </div>\n",
            "  <div class=\"mainmenu d-none d-xl-block\">\n",
            "    <div class=\"container\">\n",
            "      <ul class=\"nav\">\n",
            "        <li><a href=\"https://www.must.edu.tw/about/aboutmust.php\" title=\"\">關於明新</a>\n",
            "          <ul>\n",
            "            <li><a href=\"https://www.must.edu.tw/about/about-4.php\" title=\"校史\">校史</a></li>\n",
            "            <li><a href=\"https://www.must.edu.tw/about/about-2.php\" title=\"校訓\">校訓</a></li>\n",
            "            <li><a href=\"https://www.must.edu.tw/about/about-3.php\" title=\"校歌\">校歌</a></li>\n",
            "            <li><a href=\"https://www.must.edu.tw/about/about-18.php\" title=\"教育目標\">教育目標</a></li>\n",
            "            <li><a href=\"https://www.must.edu.tw/about/about-16.php\" title=\"創校元老\">創校元老</a></li>\n",
            "            <li><a href=\"http://webc1.must.edu.tw/mustj001\" target=\"_blank\" title=\"董事會 \">董事會</a></li>\n",
            "            <li><a href=\"https://admin.must.edu.tw/index.aspx?UnitID=1184\" target=\"_blank\" title=\"校長室 \">校長室</a></li>\n",
            "            <li><a href=\"https://admin.must.edu.tw/index.aspx?UnitID=1185\" target=\"_blank\" title=\"副校長室 \">副校長室</a></li>\n",
            "            <li><a href=\"../ochart/chart.pdf\" target=\"_blank\" title=\"學校組織系統圖pdf \">學校組織系統圖</a></li>\n",
            "            <li><a href=\"https://www.must.edu.tw/about/mustmap.php\" title=\"如何到明新\">如何到明新</a></li>\n",
            "            <li><a href=\"http://webc1.must.edu.tw/jtmust073/index.php/2017-01-20-03-50-06/2017-01-23-06-53-36\"\n",
            "                target=\"_blank\" title=\"校內平面圖 \">校內平面圖</a></li>\n",
            "\n",
            "            <!--\n",
            "            <li><a href=\"about.php\" title=\"關於明新\">關於明新</a></li>\n",
            "            <li><a href=\"faq.php\" title=\"常見問答\">常見問答</a></li>\n",
            "            <li><a href=\"download.php\" title=\"檔案下載\">檔案下載</a></li>\n",
            "            <li><a href=\"customer-overview.php\" title=\"訪客專區\">訪客專區</a></li>\n",
            "            <li><a href=\"learning-overview-a.php\" title=\"學術行政a\">學術行政a</a></li>\n",
            "            <li><a href=\"learning-overview-b.php\" title=\"學術行政b\">學術行政b</a></li>\n",
            "            <li><a href=\"contact.php\" title=\"聯絡表單\">聯絡表單</a></li>\n",
            "            <li><a href=\"sitemap.php\" title=\"網站導覽\">網站導覽</a></li>\n",
            "            -->\n",
            "          </ul>\n",
            "        </li>\n",
            "\t\t\n",
            "\t\t <!--<li><a href=\"https://www.must.edu.tw/admissions.php\" title=\"\">招生資訊</a></li>-->\n",
            "        <li class=\"big-menu\"><a href=\"https://www.must.edu.tw/admissions.php\" title=\"招生資訊 \">招生資訊</a>\n",
            "          <ul class=\"row\">\n",
            "\t\t\t\n",
            "\t\t\t<li class=\"col-2\">\n",
            "              <ul>\n",
            "                <li><a href=\"http://admission.must.edu.tw/\" title=\"入學服務處 \">入學服務處</a></li>\n",
            "\t\t\t\t<li><a href=\"https://admission.must.edu.tw/view/list.aspx?id=9\" title=\"選才辦公室\">-選才辦公室</a></li>\n",
            "                <li><a href=\"https://admission.must.edu.tw/view/list.aspx?id=9\" title=\"教育行銷組\">-教育行銷組</a></li>\n",
            "\t\t\t\t<li><a href=\"https://admission.must.edu.tw/view/list.aspx?id=9\" title=\"行政事務組\">-行政事務組</a></li>\n",
            "\t\t\t\t\n",
            "\t\t\t\t</li>\n",
            "                \n",
            "              </ul>\n",
            "            </li>\n",
            "            <div class=\"col-10\">\n",
            "              <div class=\"row\">\n",
            "\t\t\t\n",
            "\t\t\t\n",
            "\t\t\t\n",
            "\t\t\t\n",
            "\n",
            "            <li class=\"col-4\" style=\"padding-bottom: 150px;\">\n",
            "              <div class=\"title\"><a href=\"#\" title=\"研究所招生訊息 \">研究所招生訊息</a></div>\n",
            "              <ul>\n",
            "                <li><a href=\"https://admission.must.edu.tw/admission/index.aspx?id=8\" title=\"碩士班甄試入學 \">碩士班甄試入學</a></li>\n",
            "                <li><a href=\"https://admission.must.edu.tw/admission/index.aspx?id=9\" title=\"碩士班暨碩士在職專班招生 \">碩士班暨碩士在職專班招生</a></li>\n",
            "\t\t\t\t<li><a href=\"https://admission.must.edu.tw/admission/index.aspx?id=42\" title=\"原住民管理碩士在職專班 \">原住民管理碩士在職專班</a></li>\n",
            "\t\t\t\t<li><a href=\"https://admission.must.edu.tw/admission/index.aspx?id=40\" title=\"新住民單獨招生 \">新住民單獨招生</a></li>\n",
            "\t\t\t\t\n",
            "              </ul>\n",
            "            </li>\n",
            "            <li class=\"col-4\" style=\"padding-bottom: 350px;\">\n",
            "              <div class=\"title\"><a href=\"#\" title=\"日間部招生訊息 \">日間部招生訊息</a></div>\n",
            "              <ul>\n",
            "                <li><a href=\"https://admission.must.edu.tw/admission/index.aspx?id=12\" title=\"原住民專班單獨招生 \">原住民專班單獨招生</a></li>\n",
            "\t\t\t\t<li><a href=\"https://admission.must.edu.tw/admission/index.aspx?id=10\" title=\"高中生申請入學 \">高中生申請入學</a></li>\n",
            "                <li><a href=\"https://admission.must.edu.tw/admission/index.aspx?id=11\" title=\"運動績優單獨招生 \">運動績優單獨招生</a></li>\n",
            "                \n",
            "\t\t\t\t<li><a href=\"https://admission.must.edu.tw/admission/index.aspx?id=32\" title=\"四年制日間部單獨招生 \">四年制日間部單獨招生</a></li>\n",
            "                <li><a href=\"https://admission.must.edu.tw/admission/index.aspx?id=13\" title=\"科技校院繁星計畫招生 \">科技校院繁星計畫招生</a></li>\n",
            "                <li><a href=\"https://admission.must.edu.tw/admission/index.aspx?id=14\" title=\"特殊選才 \">特殊選才</a></li>\n",
            "                <li><a href=\"https://admission.must.edu.tw/admission/index.aspx?id=15\" title=\"技優甄審入學 \">技優甄審入學</a></li>\n",
            "                <li><a href=\"https://admission.must.edu.tw/admission/index.aspx?id=16\" title=\"甄選入學 \">甄選入學</a></li>\n",
            "                <li><a href=\"https://admission.must.edu.tw/admission/index.aspx?id=17\" title=\"聯合登記分發 \">聯合登記分發</a></li>\n",
            "                <li><a href=\"https://admission.must.edu.tw/admission/index.aspx?id=18\" title=\"身心障礙學生甄試入學 \">身心障礙學生甄試入學</a></li>\n",
            "                <!--<li><a href=\"https://admission.must.edu.tw/admission/index.aspx?id=19\" title=\"境外臺生因應疫情返台就學銜接專案計畫 \">境外臺生因應疫情返台就學銜接專案計畫</a></li>-->\n",
            "                <li><a href=\"https://admission.must.edu.tw/admission/index.aspx?id=20\" title=\"儲備軍官訓練團(ROTC)招生 \">儲備軍官訓練團(ROTC)招生</a></li>\n",
            "\t\t\t\t<li><a href=\"https://admission.must.edu.tw/admission/index.aspx?id=33\" title=\"新住民及其子女招生 \">新住民及其子女招生</a></li>\n",
            "\t\t\t\t<li><a href=\"https://admission.must.edu.tw/admission/index.aspx?id=40\" title=\"新住民單獨招生 \">新住民單獨招生</a></li>\n",
            "              </ul>\n",
            "            </li>\n",
            "\n",
            "            <li class=\"col-4\">\n",
            "              <div class=\"title\"><a href=\"#\" title=\"進修部招生訊息\">進修部招生訊息</a></div>\n",
            "              <ul>\n",
            "                <li><a href=\"https://admission.must.edu.tw/admission/index.aspx?id=21\"  title=\"二技招生(含四班二輪招生) \">二技招生(含四班二輪招生)</a></li>\n",
            "                <li><a href=\"https://admission.must.edu.tw/admission/index.aspx?id=22\"   title=\"四技二專招生(含四班二輪招生) \">四技二專招生(含四班二輪招生)</a></li>\n",
            "                <li><a href=\"https://admission.must.edu.tw/admission/index.aspx?id=23\" title=\"學士後學士班 \">學士後學士班</a> </li>\n",
            "                <li><a href=\"https://admission.must.edu.tw/admission/index.aspx?id=24\" title=\"應屆高中生 \">應屆高中生</a> </li>\n",
            "                <li><a href=\"https://admission.must.edu.tw/admission/index.aspx?id=25\" title=\"儲備軍官訓練團(ROTC)招生 \">儲備軍官訓練團(ROTC)招生</a></li>\n",
            "\t\t\t\t<li><a href=\"https://admission.must.edu.tw/admission/index.aspx?id=33\" title=\"新住民及其子女招生 \">新住民及其子女招生</a></li>\n",
            "\t\t\t\t<li><a href=\"https://admission.must.edu.tw/admission/index.aspx?id=40\" title=\"新住民單獨招生 \">新住民單獨招生</a></li>\n",
            "              </ul>\n",
            "            </li>\n",
            "\n",
            "            <li class=\"col-4\">\n",
            "              <div class=\"title\"><a href=\"#\" title=\"產學訓及產學攜手計畫招生訊息 \">產學訓及產學攜手計畫招生訊息</a></div>\n",
            "              <ul>\n",
            "                <!--<li><a href=\"https://admission.must.edu.tw/admission/index.aspx?id=26\" title=\"雙軌旗艦計畫專班 \">雙軌旗艦計畫專班</a></li>-->\n",
            "                <li><a href=\"https://admission.must.edu.tw/admission/index.aspx?id=27\" title=\"產學訓專班 \">產學訓專班</a></li>\n",
            "                <li><a href=\"https://admission.must.edu.tw/admission/index.aspx?id=28\" title=\"產學攜手產業專班 \">產學攜手產業專班</a></li>\n",
            "                <li><a href=\"https://admission.must.edu.tw/admission/index.aspx?id=29\" title=\"2+2N封裝測試產業專班 \">2+2N封裝測試產業專班</a></li>\n",
            "              </ul>\n",
            "            </li>\n",
            "\n",
            "            <li class=\"col-4\">\n",
            "              <div class=\"title\"><a href=\"#\" title=\"外國學生招生訊息 \">外國學生招生訊息International Student Zone</a></div>\n",
            "              <ul>\n",
            "                <li><a href=\"http://fg.must.edu.tw/english/01_about/01_about.aspx?fid=7\"\n",
            "                    title=\"入學資訊Admission \">入學資訊Admission</a></li>\n",
            "               \n",
            "              </ul>\n",
            "            </li>\n",
            "\n",
            "            <li class=\"col-4\">\n",
            "              <div class=\"title\"><a href=\"#\" title=\"轉學招生資訊 \">轉學招生資訊</a></div>\n",
            "              <ul>\n",
            "                <li><a href=\"https://admission.must.edu.tw/admission/index.aspx?id=31\" title=\"轉學招生資訊 \">轉學招生資訊</a></li>\n",
            "              </ul>\n",
            "            </li>\n",
            "\n",
            "            <!--<li class=\"col-2\">\n",
            "\t\t\t<ul>\n",
            "                <li><a href=\"http://webs.must.edu.tw/ocmust104/\" title=\"轉學招生資訊\">轉學招生資訊</a></li>\n",
            "\t\t\t</ul>-->\n",
            "\t\t\t\n",
            "\t\t\t\n",
            "\t\t\t</div>\n",
            "            </div>\t\n",
            "          </ul>\n",
            "        </li>\n",
            "\t\t\n",
            "\t\t\n",
            "\t\t\n",
            "        <li class=\"big-menu\"><a href=\"https://www.must.edu.tw/acade.php\" title=\"\">學術單位</a>\n",
            "          <ul class=\"row\">\n",
            "\t\t  \n",
            "\t\t   <li class=\"col-4\">\n",
            "              <div class=\"title\"><a href=\"http://webc1.must.edu.tw/jtmust090\" title=\"半導體學院 \">半導體學院</a></div>\n",
            "              <ul>\n",
            "                <li><a href=\"http://webc2.must.edu.tw/jtmust005\" title=\"電機工程系(學士班、碩士班) \">電機工程系(學士班、碩士班)</a></li>\n",
            "\t\t\t\t<li><a href=\"http://eed.must.edu.tw/\" title=\"電子工程系(學士班、碩士班) \">電子工程系(學士班、碩士班)</a></li>\n",
            "\t\t\t\t<li><a href=\"http://webc2.must.edu.tw/jtmust020/\" title=\"應用材料科技系(原化學工程與材料科技系)(學士班、碩士班) \">應用材料科技系(原化學工程與材料科技系)(學士班、碩士班)</a></li>\n",
            "\t\t\t\t<li><a href=\"http://webc2.must.edu.tw/jtmust012\" title=\"半導體與光電科技系(學士班、碩士班) \">半導體與光電科技系(原光電工程系)(學士班、碩士班)</a></li>\n",
            "\t\t\t\t<!--<li><a href=\"https://imaster.moe.gov.tw/home\" title=\"產業碩士專班\">產業碩士專班</a></li>-->\t\t\t\t\n",
            "\t\t\t\t</ul>\n",
            "            </li>\n",
            "\t\t  \n",
            "            <li class=\"col-4\">\n",
            "              <div class=\"title\"><a href=\"http://smart.must.edu.tw\" title=\"工程學院 \">工程學院</a></div>\n",
            "              <ul>\n",
            "                <li><a href=\"http://meu.must.edu.tw/\" title=\"機械工程系(學士班、精密機電工程碩士班) \">機械工程系(學士班、精密機電工程碩士班)</a></li>\n",
            "                <li><a href=\"http://civil.must.edu.tw\" title=\"土木工程與環境資源管理系(學士班、碩士班) \">土木工程與環境資源管理系(學士班、碩士班)</a></li>\n",
            "                <li><a href=\"http://csie.must.edu.tw\" title=\"資訊工程系(學士班) \">資訊工程系(學士班)</a></li>               \n",
            "              </ul>\n",
            "            </li>\n",
            "            <li class=\"col-4\">\n",
            "              <div class=\"title\"><a href=\"https://acade.must.edu.tw/index.aspx?UnitID=45\" title=\"管理學院 \">管理學院</a></div>\n",
            "              <ul>\n",
            "                <li><a href=\"http://webc2.must.edu.tw/jtmust028\" title=\"工業工程與管理系(學士班、碩士班) \">工業工程與管理系(學士班、碩士班)</a></li>\n",
            "                <li><a href=\"http://www.im.must.edu.tw/\" title=\"資訊管理系(學士班、碩士班) \">資訊管理系(學士班、碩士班)</a></li>\n",
            "                <li><a href=\"https://acade.must.edu.tw/index.aspx?UnitID=48\" title=\"行銷與流通管理系(學士班) \">行銷與流通管理系(學士班)</a></li>\n",
            "                <li><a href=\"https://acade.must.edu.tw/index.aspx?UnitID=49\" title=\"企業管理系(學士班 )\">企業管理系(學士班)</a></li>\n",
            "                <li><a href=\"http://webc2.must.edu.tw/jtmust021\" title=\"財務金融系(學士班) \">財務金融系(學士班)</a></li>\n",
            "                <li><a href=\"http://webc2.must.edu.tw/jtmust022\" title=\"管理研究所(碩士班) \">管理研究所(碩士班)</a></li>\n",
            "                <!--<li><a href=\"http://webc2.must.edu.tw/jtmust013/\" title=\"全球運籌管理中心\">全球運籌管理中心</a></li>-->\n",
            "              </ul>\n",
            "            </li>\n",
            "            <li class=\"col-4\">\n",
            "              <div class=\"title\"><a href=\"https://acade.must.edu.tw/index.aspx?UnitID=52\" title=\"服務產業學院 \">服務產業學院</a></div>\n",
            "              <ul>\n",
            "                <li><a href=\"http://webc1.must.edu.tw/jtmust044\" title=\"服務產業暨管理研究所(碩士班) \">服務產業暨管理研究所(碩士班)</a></li>\n",
            "                <li><a href=\"http://webc2.must.edu.tw/jtmust019\" title=\"旅館管理與廚藝創意系(學士班) \">旅館管理與廚藝創意系(學士班)</a></li>\n",
            "                <li><a href=\"http://child.must.edu.tw/\" title=\"幼兒保育系(學士班、碩士班) \">幼兒保育系(學士班、碩士班)</a></li>\n",
            "                <li><a href=\"http://webc2.must.edu.tw/jtmust101\" title=\"休閒事業管理系(學士班) \">休閒事業管理系(學士班)</a></li>\n",
            "                <li><a href=\"http://webc2.must.edu.tw/jtmust010/\" title=\"樂齡服務產業管理系(學士班) \">樂齡服務產業管理系(學士班)</a></li>\n",
            "                <li><a href=\"http://webc2.must.edu.tw/jtmust011\" title=\"師資培育中心 \">師資培育中心</a></li>\n",
            "              </ul>\n",
            "            </li>\n",
            "            <li class=\"col-4\">\n",
            "              <div class=\"title\"><a href=\"https://acade.must.edu.tw/index.aspx?UnitID=59\" title=\"人文與設計學院 \">人文與設計學院</a></div>\n",
            "              <ul>\n",
            "                <li><a href=\"http://webc1.must.edu.tw/jtmust067/\" title=\"應用外語系(學士班) \">應用外語系(學士班)</a></li>\n",
            "                <li><a href=\"http://webc1.must.edu.tw/mustj004\" title=\"運動事業管理系(學士班) \">運動事業管理系(學士班)</a></li>\n",
            "                <li><a href=\"http://webc2.must.edu.tw/jtmust102/\" title=\"多媒體與遊戲發展系(學士班) \">多媒體與遊戲發展系(學士班)</a></li>\n",
            "                <li><a href=\"http://webc1.must.edu.tw/jtmust080\" title=\"時尚造型與設計系(學士班) \">時尚造型與設計系(學士班)</a></li>\n",
            "                <li><a href=\"http://webc1.must.edu.tw/jtmust048/\" title=\"化妝品應用學士學位學程 \">化妝品應用學士學位學程</a></li>                \n",
            "\t\t\t\t<!--<li><a href=\"http://webc1.must.edu.tw/jtmust041\" title=\"華語文教學中心\">華語文教學中心</a></li>-->\n",
            "                \n",
            "              </ul>\n",
            "            </li>\n",
            "            <li class=\"col-4\">\n",
            "\t\t\t  <div class=\"title\"><a href=\"http://webc1.must.edu.tw/mustj010\" title=\"共同教育學院 \">共同教育學院</a></div>\n",
            "              <!--<div class=\"title\"><a href=\"http://webc2.must.edu.tw/jtmust014\" title=\"通識教育中心\">通識教育中心</a></div>-->\n",
            "              <ul>\n",
            "                <li><a href=\"http://webc2.must.edu.tw/jtmust014\" title=\"通識教育中心 \">通識教育中心</a></li>\n",
            "\t\t\t\t<!--<li><a href=\"http://webc1.must.edu.tw/jtmust081\" title=\"人文藝術教學中心\">人文藝術教學中心</a></li>\n",
            "                <li><a href=\"http://webc1.must.edu.tw/jtmust082\" title=\"社會科學教學中心\">社會科學教學中心</a></li>\n",
            "                <li><a href=\"http://webc1.must.edu.tw/jtmust083\" title=\"自然科學教學中心\">自然科學教學中心</a></li>\n",
            "                <li><a href=\"http://webc1.must.edu.tw/jtmust084\" title=\"語言教學中心\">語言教學中心</a></li>-->\n",
            "              </ul>\n",
            "            </li>\n",
            "          </ul>\n",
            "        </li>\n",
            "        <li class=\"big-menu\"><a href=\"https://www.must.edu.tw/admin.php\" title=\"行政單位\">行政單位</a>\n",
            "          <ul class=\"row\">\n",
            "            <li class=\"col-2\">\n",
            "              <ul>\n",
            "                <li><a href=\"https://admin.must.edu.tw/index.aspx?UnitID=70\" title=\"稽核處 \">稽核處</a></li>\n",
            "                <li><a href=\"https://admin.must.edu.tw/index.aspx?UnitID=71\" title=\"秘書處 \">秘書處</a></li>\n",
            "                <li><a href=\"https://admin.must.edu.tw/index.aspx?UnitID=72\" title=\"公共關係處 \">公共關係處</a></li>                \n",
            "                <li><a href=\"https://admin.must.edu.tw/index.aspx?UnitID=75\" title=\"財務處 \">財務處</a></li>\n",
            "                <li><a href=\"https://admin.must.edu.tw/index.aspx?UnitID=76\" title=\"人力資源處 \">人力資源處</a></li>\n",
            "                <li><a href=\"http://webc1.must.edu.tw/mustj005/\" title=\"法務處 \">法務處</a></li>\n",
            "\t\t\t\t<li><a href=\"#\" title=\"原住民族教育發展處\">原住民族教育發展處</a></li>\n",
            "\t\t\t\t<li><a href=\"http://webs.must.edu.tw/ocmust012\" title=\"原住民族學生資源中心 \">- 原住民族學生資源中心</a></li>\n",
            "\t\t\t\t<li><a href=\"https://admin.must.edu.tw/index.aspx?UnitID=80\" title=\"大學社會責任辦公室 \">大學社會責任辦公室</a></li>\n",
            "\t\t\t\t<!--<li><a href=\"http://webc2.must.edu.tw/jtmust038\" title=\"進修學院暨專科進修學校\">進修學院暨專科進修學校</a></li>-->\n",
            "                <!--<li><a href=\"http://webc1.must.edu.tw/jtmust068\" title=\"軍訓室\">軍訓室</a></li>-->\n",
            "                <!--<li><a href=\"http://webc1.must.edu.tw/jtmust060\" title=\"校友服務中心\">- 校友服務中心</a></li>-->\n",
            "                </li>\n",
            "                \n",
            "              </ul>\n",
            "            </li>\n",
            "            <div class=\"col-10\">\n",
            "              <div class=\"row\">\n",
            "               \n",
            "                <li class=\"col-4\" style=\"padding-bottom: 150px;\">\n",
            "                  <div class=\"title\"><a href=\"https://admin.must.edu.tw/index.aspx?UnitID=81\" title=\"教務處 \">教務處</a></div>\n",
            "                  <ul>\n",
            "                    <!--<li><a href=\"http://webc1.must.edu.tw/jtmust057\" title=\"教務處\">綜合業務組</a></li>-->\n",
            "                    <li><a href=\"https://admin.must.edu.tw/index.aspx?UnitID=82\" title=\"課務組 \">課務組</a></li>\n",
            "                    <li><a href=\"https://admin.must.edu.tw/index.aspx?UnitID=83\" title=\"註冊組 \">註冊組</a></li>\n",
            "                    <li><a href=\"https://admin.must.edu.tw/index.aspx?UnitID=84\" title=\"教學發展中心 \">教學發展中心</a></li>\n",
            "\t\t\t\t\t<li><a href=\"https://admin.must.edu.tw/index.aspx?UnitID=85\" title=\"學生實習服務中心 \">學生實習服務中心</a></li>\n",
            "                    <!--<li><a href=\"http://webc2.must.edu.tw/jtmust103/\" title=\"招生中心\">招生中心</a></li>-->\n",
            "\t\t\t\t\t<li><a href=\"https://admin.must.edu.tw/index.aspx?UnitID=107\" title=\"進修教務組 \">進修教務組</a></li>\n",
            "\t\t\t\t\t<li><a href=\"https://admin.must.edu.tw/view/content.aspx?UnitID=81&id=5559&tp=menu\" title=\"ROTC專案辦公室 \">ROTC專案辦公室</a></li>\n",
            "                  </ul>\n",
            "                </li>\n",
            "               \n",
            "\t\t\t\t\n",
            "\t\t\t\t <li class=\"col-4\">\n",
            "                  <div class=\"title\"><a href=\"https://admin.must.edu.tw/index.aspx?UnitID=106\" title=\"終身教育處 \">終身教育處</a></div>\n",
            "                  <ul>\n",
            "                     <li><a href=\"https://eec.must.edu.tw/\" title=\"推廣教育中心\">推廣教育中心</a></li>\n",
            "\t\t\t\t\t <li><a href=\"https://admin.must.edu.tw/index.aspx?UnitID=1218\" title=\"國軍人才培育中心\">國軍人才培育中心</a></li>\n",
            "\t\t\t\t\t<!--<li><a href=\"http://webc2.must.edu.tw/jtmust039\" title=\"進修推廣處課務註冊組 \">進修推廣處課務註冊組</a></li>\n",
            "                    <li><a href=\"http://webc2.must.edu.tw/jtmust036\" title=\"進修推廣處綜合事務組 \">進修推廣處綜合事務組</a></li>\n",
            "\t\t\t\t\t<li><a href=\"https://eec.must.edu.tw/\" title=\"推廣教育中心\">推廣教育中心</a></li>\n",
            "\t\t\t\t\t<li><a href=\"http://webc2.must.edu.tw/jtmust036\" title=\"進修推廣部學生事務組\">進修推廣部學生事務組</a></li>\n",
            "                    <li><a href=\"http://webc2.must.edu.tw/jtmust023\" title=\"進修推廣部總務組\">進修推廣部總務組</a></li>-->\n",
            "                    \n",
            "                  </ul>\n",
            "                </li>\n",
            "\t\t\t\t\n",
            "\t\t\t\t<li class=\"col-4\" style=\"padding-bottom: 150px;\">\n",
            "                  <div class=\"title\"><a href=\"http://admission.must.edu.tw/\" title=\"入學服務處 \">入學服務處</a></div>\n",
            "                  <ul>\n",
            "                    <li><a href=\"https://admission.must.edu.tw/view/list.aspx?id=9\" title=\"選才辦公室\">選才辦公室</a></li>\n",
            "                    <li><a href=\"https://admission.must.edu.tw/view/list.aspx?id=9\" title=\"教育行銷組\">教育行銷組</a></li>\n",
            "\t\t\t\t\t<li><a href=\"https://admission.must.edu.tw/view/list.aspx?id=9\" title=\"行政事務組\">行政事務組</a></li>\n",
            "                   \n",
            "                  </ul>\n",
            "                </li>\n",
            "\t\t\t\t\n",
            "\t\t\t\t\n",
            "\t\t\t\t <li class=\"col-4\" style=\"padding-bottom: 200px;\">\n",
            "                  <div class=\"title\"><a href=\"https://admin.must.edu.tw/index.aspx?UnitID=86\" title=\"學生事務處 \">學生事務處</a></div>\n",
            "                  <ul>\n",
            "                    <li><a href=\"https://admin.must.edu.tw/index.aspx?UnitID=87\" title=\"生活輔導組\">生活輔導組</a></li>\n",
            "\t\t\t\t\t<li><a href=\"https://admin.must.edu.tw/index.aspx?UnitID=88\" title=\"課外活動指導組\">課外活動指導組</a></li>\n",
            "\t\t\t\t\t<li><a href=\"https://admin.must.edu.tw/index.aspx?UnitID=89\" title=\"衛生保健組\">衛生保健組</a></li>\n",
            "                    <li><a href=\"https://admin.must.edu.tw/index.aspx?UnitID=90\" title=\"體育室 \">體育室</a></li>\n",
            "                    <li><a href=\"https://admin.must.edu.tw/index.aspx?UnitID=91\" title=\"諮商輔導暨職涯發展中心 \">諮商輔導暨職涯發展中心</a></li>\n",
            "                    <li><a href=\"https://admin.must.edu.tw/index.aspx?UnitID=92\" title=\"諮商輔導暨職涯發展中心[資源教室] \">諮商輔導暨職涯發展中心[資源教室]</a></li>\n",
            "\t\t\t\t\t<li><a href=\"https://admin.must.edu.tw/index.aspx?UnitID=93\" title=\"校安中心 \">校安中心</a>\n",
            "                    <!--<li><a href=\"http://webs.must.edu.tw/ocmust012\" title=\"原住民族學生資源中心\">原住民族學生資源中心</a></li>\n",
            "\t\t\t\t\t<li><a href=\"http://webc1.must.edu.tw/jtmust070\" title=\"住宿服務組\">住宿服務組</a></li>\n",
            "                    <li><a href=\"http://webc1.must.edu.tw/jtmust042\" title=\"服務學習中心\">服務學習中心</a></li>-->\n",
            "\t\t\t\t\t<li><a href=\"https://admin.must.edu.tw/index.aspx?UnitID=108\" title=\"進修學務組 \">進修學務組</a></li>\n",
            "                  </ul>\n",
            "                </li>\n",
            "\t\t\t\t\n",
            "\t\t\t\t\n",
            "                <li class=\"col-4\" style=\"padding-bottom: 200px;\">\n",
            "                   <div class=\"title\"><a href=\"https://admin.must.edu.tw/index.aspx?UnitID=94\" title=\"總務處 \">總務處</a></div>\n",
            "                  <ul>\n",
            "\t\t\t\t\t\t\t<li><a href=\"https://admin.must.edu.tw/index.aspx?UnitID=95\" title=\"文書組\">文書組</a></li>\n",
            "\t\t\t\t\t\t\t<li><a href=\"https://admin.must.edu.tw/index.aspx?UnitID=96\" title=\"事務組\">事務組</a></li>\n",
            "\t\t\t\t\t\t\t<li><a href=\"https://admin.must.edu.tw/index.aspx?UnitID=97\" title=\"出納組\">出納組</a></li>\n",
            "\t\t\t\t\t\t\t<li><a href=\"https://admin.must.edu.tw/index.aspx?UnitID=98\" title=\"營繕組\">營繕組</a></li>\n",
            "\t\t\t\t\t\t\t<li><a href=\"https://admin.must.edu.tw/index.aspx?UnitID=99\" title=\"採購組\">採購組</a></li>\n",
            "\t\t\t\t\t\t\t<li><a href=\"https://admin.must.edu.tw/index.aspx?UnitID=100\" title=\"保管組\">保管組</a></li>\n",
            "\t\t\t\t\t\t\t<li><a href=\"https://admin.must.edu.tw/index.aspx?UnitID=101\" title=\"環境安全衛生中心\">環境安全衛生中心</a></li>\n",
            "                   \t\t\t\n",
            "                  </ul>\n",
            "                </li>\n",
            "\t\t\t\t\t\t\t\t\n",
            "\t\t\t\t <li class=\"col-4\" style=\"padding-bottom: 200px;\">\n",
            "                  <div class=\"title\"><a href=\"https://admin.must.edu.tw/index.aspx?UnitID=115\" title=\"研究發展處 \">研究發展處</a></div>\n",
            "\t\t\t\t  <!--<li><a href=\"http://webc1.must.edu.tw/jtmust077\" title=\"校務研究辦公室\">校務研究辦公室</a></li>-->\n",
            "                  <ul>\n",
            "                    <li><a href=\"https://admin.must.edu.tw/index.aspx?UnitID=116\" title=\"校務研究中心\">校務研究中心</a></li>\n",
            "                    <li><a href=\"https://admin.must.edu.tw/index.aspx?UnitID=117\" title=\"校務企劃中心\">校務企劃中心</a></li>\n",
            "                    <li><a href=\"https://admin.must.edu.tw/index.aspx?UnitID=118\" title=\"研究與技術中心 \">研究技術中心</a></li>\n",
            "\t\t\t\t\t\n",
            "                    </li>\n",
            "                  </ul>\n",
            "                </li>\n",
            "\t\t\t\t\n",
            "\t\t\t\t\n",
            "\t\t\t\t\t\t\t\t\n",
            "\t\t\t\t <li class=\"col-4\" style=\"padding-bottom: 150px;\">\n",
            "                  <div class=\"title\"><a href=\"https://admin.must.edu.tw/index.aspx?UnitID=110\" title=\"國際暨兩岸事務處 \">國際暨兩岸事務處</a></div>\n",
            "                  <ul>\n",
            "                    <li><a href=\"https://admin.must.edu.tw/index.aspx?UnitID=111\" title=\"國際暨兩岸教育中心 \">國際暨兩岸教育中心</a></li>\n",
            "                    <!--<li><a href=\"http://webc2.must.edu.tw/jtmust032\" title=\"兩岸教育與交流中心\">教育與交流中心</a></li>-->\n",
            "                    <li><a href=\"https://admin.must.edu.tw/index.aspx?UnitID=112\" title=\"境外生輔導與服務中心 \">境外生輔導與服務中心</a></li>\n",
            "\t\t\t\t\t<li><a href=\"https://admin.must.edu.tw/index.aspx?UnitID=113\" title=\"華語文教學中心 \">華語文教學中心</a></li>\n",
            "                    <li><a href=\"https://admin.must.edu.tw/index.aspx?UnitID=114\" title=\"新住民教育發展中心 \">新住民教育發展中心</a></li>\n",
            "                  </ul>\n",
            "                </li>\n",
            "\t\t\t\t\t\t\t\n",
            "                <li class=\"col-4\" style=\"padding-bottom: 200px;\">\n",
            "                  <div class=\"title\"><a href=\"https://admin.must.edu.tw/index.aspx?UnitID=119\" title=\"產學營運處 \">產學營運處</a></div>\n",
            "                  <ul>\n",
            "                    <li><a href=\"https://admin.must.edu.tw/index.aspx?UnitID=121\" title='防災中心-將另開新視窗 '>防災技術研究中心</a> </li>\n",
            "                    <li><a href=\"https://admin.must.edu.tw/index.aspx?UnitID=122\" title=\"產學及技術移轉中心 \">產學及技術移轉中心</a></li>\n",
            "                    <li><a href=\"http://webc1.must.edu.tw/jtmust047\" title=\"創新育成中心 \">創新育成中心</a></li>\n",
            "\t\t\t\t\t<li><a href=\"https://admin.must.edu.tw/index.aspx?UnitID=124\" title=\"校友服務中心 \">校友服務中心</a></li>\n",
            "                  </ul>\n",
            "                </li>\n",
            "               \n",
            "\t\t\t   <li class=\"col-4\" style=\"padding-bottom: 200px;\">\n",
            "                  <div class=\"title\"><a href=\"https://admin.must.edu.tw/index.aspx?UnitID=74\" title=\"圖資處 \">圖書資訊處</a></div>\n",
            "                  <ul>\n",
            "                    <li><a href=\"https://admin.must.edu.tw/index.aspx?UnitID=74\" title='系統維運組-將另開新視窗 '>系統維運組</a> </li>\n",
            "                    <li><a href=\"https://admin.must.edu.tw/index.aspx?UnitID=74\" title=\"技術服務組 \">技術服務組</a></li>\n",
            "                    <li><a href=\"https://admin.must.edu.tw/index.aspx?UnitID=74\" title=\"圖書資源服務組 \">圖書資源服務組</a></li>\n",
            "\t\t\t\t\t<li><a href=\"http://webc2.must.edu.tw/jtmust008\" title=\"藝文中心 \">藝文中心</a></li>\n",
            "                  </ul>\n",
            "                </li>\n",
            "\t\t\t   \n",
            "              </div>\n",
            "            </div>\n",
            "          </ul>\n",
            "        </li>\n",
            "       \n",
            "\t    <li><a href=\"https://sites.google.com/site/mustfreshman\" title=\"新生專區 \">新生專區</a></li>\n",
            "\t\t<li><a href=\"https://www.must.edu.tw/hall-of-fame-img-list.php\" title=\"明新的驕傲\">明新的驕傲</a></li>\n",
            "\t\t\n",
            "\t\t\n",
            "\t   \n",
            "\t\t<li><a href=\"https://www.must.edu.tw/servies.php\" title=\"\">線上服務</a>\n",
            "        </li>\n",
            "\n",
            "\n",
            "\t\t<!--\n",
            "        <li><a href=\"https://www.must.edu.tw/servies.php\" title=\"\">線上服務</a>\n",
            "          <ul>\n",
            "            <li><a href=\"https://www.must.edu.tw/faq.php\" title=\"常見問答 \">常見問答</a></li>\n",
            "            <li><a href=\"https://sss.must.edu.tw/std_service.html\" title=\"學生專區 \">學生專區</a></li>\n",
            "            <li><a href=\"https://sss.must.edu.tw/teach_service.html\" title=\"教職員專區 \">教職員專區</a></li>\n",
            "            <li><a href=\"https://www.must.edu.tw/download.php\" title=\"檔案下載 \">檔案下載</a></li>\n",
            "            <li><a href=\"https://www.must.edu.tw/qa.php\" title=\"網站問題反映 \">網站問題反映</a></li>\n",
            "            <li><a href=\"mailto://president@must.edu.tw;secretariat.must@must.edu.tw;chen083487@must.edu.tw\"\n",
            "                title=\"校長信箱 \">校長信箱</a></li>\n",
            "            <li><a href=\"https://www.must.edu.tw/calendar.php\" title=\"校園行事曆\">校園行事曆</a></li>\n",
            "          </ul>\n",
            "        </li>-->\n",
            "\t\t\n",
            "        <!-- <li><a href=\"http://webs.must.edu.tw/jtmust060\" title=\"弱勢助學勸募 \">弱勢助學勸募</a></li>-->\n",
            "      </ul>\n",
            "    </div>\n",
            "  </div>\n",
            "</header>\n",
            "\n",
            "\n",
            "<!-- AddToAny BEGIN -->\n",
            "<div class=\"a2a_kit a2a_kit_size_32 a2a_floating_style a2a_vertical_style\" style=\"right:0px; top:30%;z-index: 100;\">\n",
            "\t\n",
            "  <div style=\"font-size:0.8rem; text-align: center;\">分享</div>\n",
            "  <a class=\"a2a_button_facebook\" title=\"另開新視窗\">Fb\n",
            "  <a class=\"a2a_button_twitter\"  title=\"另開新視窗\" >Twitter</a>\n",
            "  <a class=\"a2a_button_line\" title=\"另開新視窗\">Line</a>\n",
            "  \n",
            "</div>\n",
            "<script async src=\"https://static.addtoany.com/menu/page.js\"></script>\n",
            "\n",
            "<NOSCRIPT>\n",
            "  <P>您的瀏覽器不支援JavaScript功能，若網頁功能無法正常使用時，請開啟瀏覽器JavaScript狀態</P>\n",
            "  </NOSCRIPT>\n",
            "<!-- AddToAny END -->  <main id=\"maincontent\">\n",
            "    <div class=\"block-top\">\n",
            "      <div class=\"container\">\n",
            "     \n",
            "        <div class=\"slider\">\n",
            "<!-- start htmlType1 -->\n",
            "\t              <div><a href=\"https://admission.must.edu.tw/\" target=\"_blank\" title=\"Open new window\"><img src=\"https://mustwebsystem.must.edu.tw/ashx/chchou/showMustWwwImage.ashx?filegid=90986\" alt=\"20220105 校首頁 1111人力銀行2022企業最愛大學調查全國第三\"></a></div>\n",
            "    \t\t    \n",
            "\t              <div><a href=\"https://admission.must.edu.tw/admission/index.aspx?id=11\" target=\"_blank\" title=\"Open new window\"><img src=\"https://mustwebsystem.must.edu.tw/ashx/chchou/showMustWwwImage.ashx?filegid=110996\" alt=\"01.02_111運動單招_報到更新為線上分發報到\"></a></div>\n",
            "    \t\t    \n",
            "\t              <div><a href=\"https://www.must.edu.tw/admissions.php\" target=\"_blank\" title=\"Open new window\"><img src=\"https://mustwebsystem.must.edu.tw/ashx/chchou/showMustWwwImage.ashx?filegid=100984\" alt=\"20220825 入服處 新住民獨招\"></a></div>\n",
            "    \t\t    \n",
            "\t              <div><a href=\"https://blog.104.com.tw/wp-content/uploads/2021/08/6_2021-semicon-whitepaper-final.pdf\" target=\"_blank\" title=\"Open new window\"><img src=\"https://mustwebsystem.must.edu.tw/ashx/chchou/showMustWwwImage.ashx?filegid=80822\" alt=\"20210809 校首頁 104人力銀行發佈2021年《半導體人才白皮書》明新科大前五強\"></a></div>\n",
            "    \t\t    \n",
            "\t              <div><a href=\"http://webc1.must.edu.tw/jtmust056/\" target=\"_blank\" title=\"Open new window\"><img src=\"https://mustwebsystem.must.edu.tw/ashx/chchou/showMustWwwImage.ashx?filegid=111003\" alt=\"20210220 校首頁 教育部110學年度正式修讀學位外國生人數明新第一\"></a></div>\n",
            "    \t\t    \n",
            "\t              <div><a href=\"https://admission.must.edu.tw/admission/content.aspx?id=20&tab=M\" target=\"_blank\" title=\"Open new window\"><img src=\"https://mustwebsystem.must.edu.tw/ashx/chchou/showMustWwwImage.ashx?filegid=111012\" alt=\"20210930 入服處 ROTC招生2.jpg\"></a></div>\n",
            "    \t\t    \n",
            "\t              <div><a href=\"https://www.facebook.com/Atayalarchitecture\" target=\"_blank\" title=\"Open new window\"><img src=\"https://mustwebsystem.must.edu.tw/ashx/chchou/showMustWwwImage.ashx?filegid=111010\" alt=\"20220331 校首頁 原民處 賀獲110年度泰雅族傳統竹構建築修復人才培育計畫\"></a></div>\n",
            "    \t\t    \n",
            "\t              <div><a href=\"https://sites.google.com/must.edu.tw/mustbe/%E9%A6%96%E9%A0%81\" target=\"_blank\" title=\"Open new window\"><img src=\"https://mustwebsystem.must.edu.tw/ashx/chchou/showMustWwwImage.ashx?filegid=80908\" alt=\"20211027 校首頁 賀本校榮獲教育部大專校院學生雙語化學習-普及提升學校計畫 補助350萬\"></a></div>\n",
            "    \t\t    \n",
            "\t              <div><a href=\"http://webc1.must.edu.tw/jtmust090/\" target=\"_blank\" title=\"Open new window\"><img src=\"https://mustwebsystem.must.edu.tw/ashx/chchou/showMustWwwImage.ashx?filegid=80930\" alt=\"20211220 校首頁 2021年TDK競賽，電子系榮獲遙控組第2名，電機系榮獲科技人文獎及自動組\"></a></div>\n",
            "    \t\t    \n",
            "\t              <div><a href=\"http://webs.must.edu.tw/ocmust120/\" target=\"_blank\" title=\"Open new window\"><img src=\"https://mustwebsystem.must.edu.tw/ashx/chchou/showMustWwwImage.ashx?filegid=80889\" alt=\"20220131 校首頁 研發處 賀本校榮獲2021首屆「TSAA台灣永續行動獎」金獎、銅獎\"></a></div>\n",
            "    \t\t    <!-- end htmlType1 -->\n",
            "\n",
            "        </div>\n",
            "\t\t <!--校長公告-->\n",
            "        <div class=\"antiepidemic-zone\" style=\"padding-top:10px;padding-right:10px;\">\n",
            "\t\t\t<img src=\"images/COVID-2022-0411.jpg\" style=\"width:100%\" alt=\"明新科大公告區\"></a>\n",
            "        </div>\n",
            "\t\t\n",
            "        <div id=\"content\">\n",
            "        <a style=\"margin-bottom:20px; display: inline-block;\" href=\"#accesskeyC\" title=\"中央內容區塊\" accesskey=\"C\" name=\"accesskeyC\" id=\"main-content\">:::</a>\n",
            "        <!--快速連結-->\n",
            "        <div class=\"quick-links\">\n",
            "          <div class=\"item col-6 col-sm-4 col-xl-2\"><a href=\"admissions.php\" title=\"未來學生(另開視窗)\"><img src=\"images/quick-link01.svg\"\n",
            "                alt=\"未來學生\"></a>\n",
            "          </div>\n",
            "          <div class=\"item col-6 col-sm-4 col-xl-2\"><a href=\"https://sss.must.edu.tw/pars_new/pars_index.asp\" title=\"學生家長(另開視窗)\" target=\"_blank\"><img src=\"images/quick-link02.svg\"\n",
            "                alt=\"學生家長\"></a>\n",
            "          </div>\n",
            "          <div class=\"item col-6 col-sm-4 col-xl-2\"><a href=\"https://sss.must.edu.tw/std_service.html\" title=\"在校學生(另開視窗)\" target=\"_blank\"><img src=\"images/quick-link03.svg\"\n",
            "                alt=\"在校學生\"></a>\n",
            "          </div>\n",
            "          <div class=\"item col-6 col-sm-4 col-xl-2\"><a href=\"https://eec.must.edu.tw/\" title=\"進修人士長(另開視窗)\" target=\"_blank\"><img src=\"images/quick-link04.svg\"\n",
            "                alt=\"進修人士\"></a>\n",
            "          </div>\n",
            "          <div class=\"item col-6 col-sm-4 col-xl-2\"><a href=\"https://sss.must.edu.tw/teach_service.html\" title=\"教職員工(另開視窗)\" target=\"_blank\"><img src=\"images/quick-link05.svg\"\n",
            "                alt=\"教職員工\"></a>\n",
            "          </div>\n",
            "          <div class=\"item col-6 col-sm-4 col-xl-2\"><a href=\"http://webc1.must.edu.tw/jtmust060/\" title=\"畢業校友(另開視窗)\" target=\"_blank\"><img src=\"images/quick-link06.svg\"\n",
            "                alt=\"畢業校友\"></a>\n",
            "          </div>\n",
            "        </div>\n",
            "        <!--防疫專區-->\n",
            "        <div class=\"antiepidemic-zone\">\n",
            "          <a href=\"https://www.must.edu.tw//about/news.php\" title=\"\"><img src=\"images/antiepidemic-zone.jpg\" alt=\"明新科大防疫專區\"></a>\n",
            "        </div>\n",
            "        <!--學校特色-->\n",
            "        <div class=\"school-features\">\n",
            "          <h1>學校特色</h1>\n",
            "          <div class=\"row\">\n",
            "            <div class=\"item col-6 col-md-3\">\n",
            "\t\t\t<a href=\"https://www.facebook.com/581795358614934/posts/4553115644816199/?sfnsn=mo\" title=\"\">\n",
            "              <img src=\"images/school-features05.png\" alt=\"\">\n",
            "              <div class=\"title\">人才永續</div>\n",
            "              <div class=\"intro\">本校宣布加入「TALENT, in Taiwan，台灣人才永續行動聯盟」</div>\n",
            "\t\t\t  </a>\n",
            "            </div>\n",
            "            <div class=\"item col-6 col-md-3\">\n",
            "              <img src=\"images/school-features02.svg\" alt=\"\">\n",
            "              <div class=\"title\" style=\"display:flex; justify-content: center;\">\n",
            "                <div class=\"counter\">1,300</div>\n",
            "                <div style=\"padding-left:5px;\">+</div>\n",
            "              </div>\n",
            "              <div class=\"intro\">全國技專校院外國學位生人數第一名</div>\n",
            "            </div>\n",
            "            <div class=\"item col-6 col-md-3\">\n",
            "              <img src=\"images/school-features03.svg\" alt=\"\">\n",
            "              <div class=\"title\" style=\"display:flex; justify-content: center;\">\n",
            "                <div class=\"counter\">100</div>\n",
            "                <div style=\"padding-left:5px;\">+</div>\n",
            "              </div>\n",
            "              <div class=\"intro\">科技部大專生研究計畫通過數量全國私立科大第二名</div>\n",
            "            </div>\n",
            "            <div class=\"item col-6 col-md-3\">\n",
            "              <img src=\"images/school-features04.svg\" alt=\"\">\n",
            "              <div class=\"title\">半導體產業</div>\n",
            "              <div class=\"intro\">本校畢業生超越頂尖大學成為「半導體產業」首選</div>\n",
            "            </div>\n",
            "          </div>\n",
            "        </div>\n",
            "      </div>\n",
            "    </div>\n",
            "    <!--焦點新聞-->\n",
            "    <div class=\"block-news\">\n",
            "      <div class=\"container\">\n",
            "        <div class=\"news-tab\">\n",
            "          <ul class=\"nav nav-pill\" id=\"news-pills-tab\" role=\"tablist\">\n",
            "            <li class=\"nav-item\">\n",
            "              <a class=\"nav-link active\" id=\"news-tab\" data-toggle=\"pill\" href=\"#pills-news\" role=\"tab\"\n",
            "                aria-controls=\"pills-news\" aria-selected=\"true\" title=\"最新消息\">最新消息</a>\n",
            "            </li>\n",
            "            <li class=\"nav-item\">\n",
            "              <a class=\"nav-link\" id=\"pills-ad-tab\" data-toggle=\"pill\" href=\"#pills-ad\" role=\"tab\"\n",
            "                aria-controls=\"pills-ad\" aria-selected=\"false\" title=\"媒體報導\">媒體報導</a>\n",
            "            </li>\n",
            "          </ul>\n",
            "          <div class=\"tab-content\" id=\"pills-tabContent\">\n",
            "            <!--最新消息-->\n",
            "            <div class=\"tab-pane fade show active\" id=\"pills-news\" role=\"tabpanel\" aria-labelledby=\"pills-news-tab\">\n",
            "              <div class=\"panel panel-default\">\n",
            "                <div class=\"panel-heading\">\n",
            "                  <div class=\"panel-title\">\n",
            "                    <a data-toggle=\"collapse\" data-parent=\".tab-pane\" href=\"#collapse-news\" class=\"collapsed\"\n",
            "                      aria-expanded=\"false\" title=\"分頁畫面\">\n",
            "                      最新消息\n",
            "                    </a>\n",
            "                  </div>\n",
            "                </div>\n",
            "                <div id=\"collapse-news\" class=\"panel-collapse in collapse\">\n",
            "                  <div class=\"panel-body row\">\n",
            "                    <div class=\"col-12 col-lg-7 news-wrap\">\n",
            "                      <!-- start htmlType4 -->\n",
            "                    <div class=\"item\">\n",
            "                        <div class=\"date\">2022/04/11</div>\n",
            "                        <div class=\"title\"><a href=\"https://acade.must.edu.tw/news/page.aspx?UnitID=1&id=2178\" target=\"_blank\" title=\"Open new window\">【公告】【緊急通知】4/12 至4/21止共10 日，全校實施線上遠距教</a><span class=\"hot\">HOT</span><span class=\"new\">NEW</span></div>\n",
            "                      </div>\n",
            "                \n",
            "                      <div class=\"item\">\n",
            "                        <div class=\"date\">2022/02/21</div>\n",
            "                        <div class=\"title\"><a href=\"https://www.facebook.com/mustminghsin/posts/4584629671664796\" target=\"_blank\" title=\"Open new window\">【公告】2/21(一)開學日起，校門各出入口管制與校園防疫規範</a></div>\n",
            "                      </div>\n",
            "                \n",
            "                      <div class=\"item\">\n",
            "                        <div class=\"date\">2022/04/11</div>\n",
            "                        <div class=\"title\"><a href=\"https://acade.must.edu.tw/news/page.aspx?UnitID=1&id=2163\" target=\"_blank\" title=\"Open new window\">【公告】因近期新冠肺炎本土疫情升溫，本校將進行預防性防疫措施，敬</a></div>\n",
            "                      </div>\n",
            "                \n",
            "                      <div class=\"item\">\n",
            "                        <div class=\"date\">2022/04/06</div>\n",
            "                        <div class=\"title\"><a href=\"https://admission.must.edu.tw/admission/index.aspx?id=27\" target=\"_blank\" title=\"Open new window\">【招生】 111學年度【產學訓專班】招生 簡章免費下載~</a></div>\n",
            "                      </div>\n",
            "                \n",
            "                      <div class=\"item\">\n",
            "                        <div class=\"date\">2022/04/06</div>\n",
            "                        <div class=\"title\"><a href=\"https://admission.must.edu.tw/admission/index.aspx?id=28\" target=\"_blank\" title=\"Open new window\">【招生】111學年度【產學攜手產業專班】招生 簡章免費下載~</a></div>\n",
            "                      </div>\n",
            "                \n",
            "                      <div class=\"item\">\n",
            "                        <div class=\"date\">2022/04/06</div>\n",
            "                        <div class=\"title\"><a href=\"https://admission.must.edu.tw/admission/index.aspx?id=22\" target=\"_blank\" title=\"Open new window\">【招生】111學年度【進修部四技二專(含四班二輪)】招生 簡章免費下載~</a></div>\n",
            "                      </div>\n",
            "                \n",
            "                      <div class=\"item\">\n",
            "                        <div class=\"date\">2022/03/28</div>\n",
            "                        <div class=\"title\"><a href=\"https://acade.must.edu.tw/news/page.aspx?UnitID=1&id=2071\" target=\"_blank\" title=\"Open new window\">【公告】明新科技大學防疫小組公告</a></div>\n",
            "                      </div>\n",
            "                \n",
            "                      <div class=\"item\">\n",
            "                        <div class=\"date\">2022/03/28</div>\n",
            "                        <div class=\"title\"><a href=\"https://admission.must.edu.tw/news/page.aspx?id=3173\" target=\"_blank\" title=\"Open new window\">【公告】好消息！111學年起本校畢業生報考就讀本校研究所比照國立學校收費</a></div>\n",
            "                      </div>\n",
            "                \n",
            "                      <div class=\"item\">\n",
            "                        <div class=\"date\">2022/02/15</div>\n",
            "                        <div class=\"title\"><a href=\"https://admission.must.edu.tw/admission/content.aspx?id=12&tab=D\" target=\"_blank\" title=\"Open new window\">【招生】111學年度【原住民專班】單獨招生 簡章免費下載~</a></div>\n",
            "                      </div>\n",
            "                \n",
            "                      <div class=\"item\">\n",
            "                        <div class=\"date\">2022/02/15</div>\n",
            "                        <div class=\"title\"><a href=\"https://admission.must.edu.tw/admission/content.aspx?id=42&tab=D\" target=\"_blank\" title=\"Open new window\">【招生】111學年度【原住民管理碩士在職專班】招生 簡章免費下載~</a></div>\n",
            "                      </div>\n",
            "                <!-- end htmlType4 -->\n",
            "                      <!--<div class=\"more\"><a href=\"http://webc1.must.edu.tw/jtmust062/index.php/news\" title=\"閱讀更多\">閱讀更多</a></div>-->\n",
            "                    </div>\n",
            "                    <div class=\"col-12 col-lg-5 d-none d-lg-block\"><img src=\"images/events.png\" alt=\"\"></div>\n",
            "                  </div>\n",
            "                </div>\n",
            "              </div>\n",
            "            </div>\n",
            "            <!-- 媒體公告-->\n",
            "            <div class=\"tab-pane\" id=\"pills-ad\" role=\"tabpanel\" aria-labelledby=\"pills-ad-tab\">\n",
            "              <div class=\"panel panel-default\">\n",
            "                <div class=\"panel-heading\">\n",
            "                  <div class=\"panel-title\">\n",
            "                    <a data-toggle=\"collapse\" data-parent=\".tab-pane\" href=\"#collapse-ad\" class=\"collapsed\"\n",
            "                      aria-expanded=\"false\" title=\"媒體報導\">\n",
            "                      媒體報導\n",
            "                    </a>\n",
            "                  </div>\n",
            "                </div>\n",
            "                <div id=\"collapse-ad\" class=\"panel-collapse in collapse\">\n",
            "                  <div class=\"panel-body row\">\n",
            "                    <div class=\"col-12 col-lg-7 news-wrap\">\n",
            "                     <!-- start htmlType5 -->\n",
            "                    <div class=\"item\">\n",
            "                        <div class=\"date\">2022/03/30</div>\n",
            "                        <div class=\"title\"><a href=\"https://www.gvm.com.tw/article/88368\" target=\"_blank\" title=\"Open new window\">【報導】明新科大最亮眼名片「半導體學院」，學生被預訂一空(遠見雜誌)</a><span class=\"hot\">HOT</span><span class=\"new\">NEW</span></div>\n",
            "                      </div>\n",
            "                \n",
            "                      <div class=\"item\">\n",
            "                        <div class=\"date\">2022/04/08</div>\n",
            "                        <div class=\"title\"><a href=\"https://tw.appledaily.com/life/20220324/O2GULDJV6RAK7EPSKRTM2TXNDE/\" target=\"_blank\" title=\"Open new window\">【報導】擁雙碩士8張證照 竹縣消防員陳奕辰獲優秀青年(蘋果新聞網)</a></div>\n",
            "                      </div>\n",
            "                \n",
            "                      <div class=\"item\">\n",
            "                        <div class=\"date\">2022/04/06</div>\n",
            "                        <div class=\"title\"><a href=\"https://www.techlife.com.tw/Article/46703\" target=\"_blank\" title=\"Open new window\">【報導】教育部技職司副司長訪視明新 與烏干達學生午餐座談(科技生活網)</a></div>\n",
            "                      </div>\n",
            "                \n",
            "                      <div class=\"item\">\n",
            "                        <div class=\"date\">2022/03/31</div>\n",
            "                        <div class=\"title\"><a href=\"https://money.udn.com/money/story/5648/6204992\" target=\"_blank\" title=\"Open new window\">【報導】明新科大宣布為全體教職員加薪 媲美國立大學(經濟日報)</a></div>\n",
            "                      </div>\n",
            "                \n",
            "                      <div class=\"item\">\n",
            "                        <div class=\"date\">2022/03/30</div>\n",
            "                        <div class=\"title\"><a href=\"https://youtu.be/5vVCkV9-LRY\" target=\"_blank\" title=\"Open new window\">【報導】副總統賴清德今赴明新科大演講受學生歡迎(三立iNEWS)</a></div>\n",
            "                      </div>\n",
            "                \n",
            "                      <div class=\"item\">\n",
            "                        <div class=\"date\">2022/03/30</div>\n",
            "                        <div class=\"title\"><a href=\"2022/03/29 https://www.chinatimes.com/realtimenews/20220329003019-260405?chdtv \" target=\"_blank\" title=\"Open new window\">【新聞】明新科大校園徵才就業博覽會 7千職缺搶人才(中時電子報)</a></div>\n",
            "                      </div>\n",
            "                \n",
            "                      <div class=\"item\">\n",
            "                        <div class=\"date\">2022/03/30</div>\n",
            "                        <div class=\"title\"><a href=\"https://www.mypeoplevol.com/Article/19682\" target=\"_blank\" title=\"Open new window\">【新聞】明新科大青年節校園徵才 進駐廠商、職缺數雙創新高(民眾網)</a></div>\n",
            "                      </div>\n",
            "                \n",
            "                      <div class=\"item\">\n",
            "                        <div class=\"date\">2022/03/30</div>\n",
            "                        <div class=\"title\"><a href=\"https://www.taiwanhot.net/news/989336/明新科大校園就業博覽會+136家廠商進駐現場徵才 \" target=\"_blank\" title=\"Open new window\">【新聞】明新科大校園就業博覽會 136家廠商進駐現場徵才(台灣好新聞)</a></div>\n",
            "                      </div>\n",
            "                \n",
            "                      <div class=\"item\">\n",
            "                        <div class=\"date\">2022/03/30</div>\n",
            "                        <div class=\"title\"><a href=\"https://www.gvm.com.tw/article/88364\" target=\"_blank\" title=\"Open new window\">【報導】「會呼吸的」全要了！半導體業急喊：大廠不要搶我的學生(遠見雜誌)</a></div>\n",
            "                      </div>\n",
            "                \n",
            "                      <div class=\"item\">\n",
            "                        <div class=\"date\">2022/03/29</div>\n",
            "                        <div class=\"title\"><a href=\"https://news.ltn.com.tw/news/politics/breakingnews/3875811\" target=\"_blank\" title=\"Open new window\">【報導】賴清德校園開講 鼓勵人人當「天鵝」(自由時報)</a></div>\n",
            "                      </div>\n",
            "                <!-- end htmlType5 -->\n",
            "                    <div class=\"more\"><a href=\"https://admin.must.edu.tw/news/list.aspx?UnitID=72&id=1113\" title=\"閱讀更多\">閱讀更多</a></div>\n",
            "\t\t\t\t\t</div>\n",
            "                    <div class=\"col-12 col-lg-5 d-none d-lg-block\"><img src=\"images/events.png\" alt=\"\"></div>\n",
            "                  </div>\n",
            "                </div>\n",
            "              </div>\n",
            "            </div>\n",
            "            \n",
            "          </div>\n",
            "        </div>\n",
            "      </div>\n",
            "    </div>\n",
            "    <!--校園新聞-->\n",
            "    <div class=\"block-events\">\n",
            "      <div class=\"container\">\n",
            "        <h2>校園新聞</h2>\n",
            "        <div class=\"home-events\">\n",
            "          <!-- start htmlType2 -->\n",
            "                  <div><a href=\"https://admin.must.edu.tw/news/page.aspx?UnitID=72&id=2171\" target=\"_blank\" title=\"動靜皆宜 運管系畢業生學習成果發表(Open new window)\"><img src=\"https://mustwebsystem.must.edu.tw/ashx/chchou/showMustWwwImage.ashx?filegid=111069\" alt=\"動靜皆宜 運管系畢業生學習成果發表\"><span class=\"title\">動靜皆宜 運管系畢業生學習成果發表</span></a></div>\n",
            "    \t\t    \n",
            "                  <div><a href=\"https://admin.must.edu.tw/news/page.aspx?UnitID=72&id=2155\" target=\"_blank\" title=\"課指組與伊林娛樂辦校園選秀 選拔潛力明日之星(Open new window)\"><img src=\"https://mustwebsystem.must.edu.tw/ashx/chchou/showMustWwwImage.ashx?filegid=111061\" alt=\"課指組與伊林娛樂辦校園選秀 選拔潛力明日之星\"><span class=\"title\">課指組與伊林娛樂辦校園選秀 選拔潛力明日之星</span></a></div>\n",
            "    \t\t    \n",
            "                  <div><a href=\"https://admin.must.edu.tw/news/page.aspx?UnitID=72&id=2077\" target=\"_blank\" title=\"明新科大全體教職員加薪 追上國立大學(Open new window)\"><img src=\"https://mustwebsystem.must.edu.tw/ashx/chchou/showMustWwwImage.ashx?filegid=111050\" alt=\"明新科大全體教職員加薪 追上國立大學\"><span class=\"title\">明新科大全體教職員加薪 追上國立大學</span></a></div>\n",
            "    \t\t    \n",
            "                  <div><a href=\"https://admin.must.edu.tw/news/page.aspx?UnitID=72&id=2115\" target=\"_blank\" title=\"賀！管研所林永禎教授榮獲2022年創新技術研發總統科學獎(Open new window)\"><img src=\"https://mustwebsystem.must.edu.tw/ashx/chchou/showMustWwwImage.ashx?filegid=111052\" alt=\"賀！管研所林永禎教授榮獲2022年創新技術研發總統科學獎\"><span class=\"title\">賀！管研所林永禎教授榮獲2022年創新技術研發總統科學獎</span></a></div>\n",
            "    \t\t    \n",
            "                  <div><a href=\"https://admin.must.edu.tw/news/page.aspx?UnitID=72&id=2096\" target=\"_blank\" title=\"教育部技職司副司長訪視明新 與烏干達學生午餐座談(Open new window)\"><img src=\"https://mustwebsystem.must.edu.tw/ashx/chchou/showMustWwwImage.ashx?filegid=111042\" alt=\"教育部技職司副司長訪視明新 與烏干達學生午餐座談\"><span class=\"title\">教育部技職司副司長訪視明新 與烏干達學生午餐座談</span></a></div>\n",
            "    \t\t    \n",
            "                  <div><a href=\"https://admin.must.edu.tw/news/page.aspx?UnitID=72&id=2092\" target=\"_blank\" title=\"賴清德副總統出席學生會「名人講座」 參觀半導體類產線教室讚超前佈署(Open new window)\"><img src=\"https://mustwebsystem.must.edu.tw/ashx/chchou/showMustWwwImage.ashx?filegid=111037\" alt=\"賴清德副總統出席學生會「名人講座」 參觀半導體類產線教室讚超前佈署\"><span class=\"title\">賴清德副總統出席學生會「名人講座」 參觀半導體類產線教室讚超前佈署</span></a></div>\n",
            "    \t\t    <!-- end htmlType2 -->            \n",
            "        </div>\n",
            "        <div class=\"more\"><a href=\"https://admin.must.edu.tw/news/list.aspx?UnitID=72&id=1170\" title=\"校園新聞閱讀更多(另開視窗)\">閱讀更多</a></div>\n",
            "      </div>\n",
            "    </div>\n",
            "    <!--影音專區-->\n",
            "    <div class=\"block-videos\">\n",
            "      <div class=\"container\">\n",
            "        <h2>影音專區</h2>\n",
            "        <div class=\"home-videos\">\n",
            "        <!-- start htmlType3 -->\n",
            "                      <div><div class=\"videorwd\"><iframe width=\"100%\" height=\"315\" src=\"https://www.youtube.com/embed/m9LTuk2HhO8\" frameborder=\"0\" allow=\"accelerometer; autoplay; clipboard-write; encrypted-media; gyroscope; picture-in-picture\" allowfullscreen title=\"Introduction to Semiconductor School of MUST\"></iframe></div></div>\n",
            "    \t\t    \n",
            "                      <div><div class=\"videorwd\"><iframe width=\"100%\" height=\"315\" src=\"https://www.youtube.com/embed/KEgsI9nI9PE\" frameborder=\"0\" allow=\"accelerometer; autoplay; clipboard-write; encrypted-media; gyroscope; picture-in-picture\" allowfullscreen title=\"人才永續行動大學：明新科技大學\"></iframe></div></div>\n",
            "    \t\t    \n",
            "                      <div><div class=\"videorwd\"><iframe width=\"100%\" height=\"315\" src=\"https://www.youtube.com/embed/5vVCkV9-LRY\" frameborder=\"0\" allow=\"accelerometer; autoplay; clipboard-write; encrypted-media; gyroscope; picture-in-picture\" allowfullscreen title=\"副總統賴清德今赴明新科大演講受學生歡迎 \"></iframe></div></div>\n",
            "    \t\t    \n",
            "                      <div><div class=\"videorwd\"><iframe width=\"100%\" height=\"315\" src=\"https://www.youtube.com/embed/ZCkUStpqbXc\" frameborder=\"0\" allow=\"accelerometer; autoplay; clipboard-write; encrypted-media; gyroscope; picture-in-picture\" allowfullscreen title=\"運動事業管理系111級學習成果表演會\"></iframe></div></div>\n",
            "    \t\t    \n",
            "                      <div><div class=\"videorwd\"><iframe width=\"100%\" height=\"315\" src=\"https://www.youtube.com/embed/IN98iitWFpg\" frameborder=\"0\" allow=\"accelerometer; autoplay; clipboard-write; encrypted-media; gyroscope; picture-in-picture\" allowfullscreen title=\"懂玩的大學生 MUST「玩」社團\"></iframe></div></div>\n",
            "    \t\t    \n",
            "                      <div><div class=\"videorwd\"><iframe width=\"100%\" height=\"315\" src=\"https://www.youtube.com/embed/3L9VWG1B4Kg\" frameborder=\"0\" allow=\"accelerometer; autoplay; clipboard-write; encrypted-media; gyroscope; picture-in-picture\" allowfullscreen title=\"【Cheers Talk】明新科大貼合產業需求，鏈結國際化人才培訓\"></iframe></div></div>\n",
            "    \t\t    <!-- end htmlType3 -->\n",
            "        </div>\t\t\n",
            "      </div>\n",
            "    </div>\n",
            "    <!--相關連結-->\n",
            "    <div class=\"block-links\">\n",
            "      <div class=\"container\">\n",
            "        <h2>相關連結</h2>\n",
            "        <div class=\"links-tab\">\n",
            "           <ul class=\"nav nav-pill\" id=\"news-pills-tab\" role=\"tablist\">\n",
            "            <li class=\"nav-item\">\n",
            "              <a class=\"nav-link active\" id=\"links-hot-tab\" data-toggle=\"pill\" href=\"#pills-links-hot\" role=\"tab\"\n",
            "                aria-controls=\"pills-links-hot\" aria-selected=\"true\" title=\"熱門專題\">熱門專題</a>\n",
            "            </li>\n",
            "            <li class=\"nav-item\">\n",
            "              <a class=\"nav-link\" id=\"pills-links-student-tab\" data-toggle=\"pill\" href=\"#pills-links-student\" role=\"tab\"\n",
            "                aria-controls=\"pills-links-student\" aria-selected=\"false\" title=\"學生常用資訊\">學生常用資訊</a>\n",
            "            </li>\n",
            "            <li class=\"nav-item\">\n",
            "              <a class=\"nav-link\" id=\"pills-links-employee-tab\" data-toggle=\"pill\" href=\"#pills-links-employee\"\n",
            "                role=\"tab\" aria-controls=\"pills-links-employee\" aria-selected=\"false\" title=\"教職員常用資訊\">教職員常用資訊</a>\n",
            "            </li>\n",
            "            <li class=\"nav-item\">\n",
            "              <a class=\"nav-link\" id=\"pills-links-jobs-tab\" data-toggle=\"pill\" href=\"#pills-links-jobs\" role=\"tab\"\n",
            "                aria-controls=\"pills-links-jobs\" aria-selected=\"false\" title=\"求職與政令宣導\">求職與政令宣導</a>\n",
            "            </li>\n",
            "            <li class=\"nav-item\">\n",
            "              <a class=\"nav-link\" id=\"pills-links-theme-tab\" data-toggle=\"pill\" href=\"#pills-links-theme\" role=\"tab\"\n",
            "                aria-controls=\"pills-links-theme\" aria-selected=\"false\" title=\"主題宣導\">主題宣導</a>\n",
            "            </li>\n",
            "            <li class=\"nav-item\">\n",
            "              <a class=\"nav-link\" id=\"pills-links-other-tab\" data-toggle=\"pill\" href=\"#pills-links-other\" role=\"tab\"\n",
            "                aria-controls=\"pills-links-other\" aria-selected=\"false\" title=\"其他\">其他</a>\n",
            "            </li>\n",
            "          </ul>\n",
            "          <div class=\"tab-content\" id=\"pills-tabContent\">\n",
            "            <!--熱門專題-->\n",
            "            <div class=\"tab-pane fade show active\" id=\"pills-links-hot\" role=\"tabpanel\"\n",
            "              aria-labelledby=\"pills-links-hot-tab\">\n",
            "              <div class=\"panel panel-default\">\n",
            "                <div class=\"panel-heading\">\n",
            "                  <div class=\"panel-title\">\n",
            "                    <a data-toggle=\"collapse\" data-parent=\".tab-pane\" href=\"#collapse-links-hot\" class=\"collapsed\"\n",
            "                      aria-expanded=\"false\" title=\"熱門專題\">\n",
            "                      熱門專題\n",
            "                    </a>\n",
            "                  </div>\n",
            "                </div>\n",
            "                <div id=\"collapse-links-hot\" class=\"panel-collapse in collapse\">\n",
            "                  <div class=\"panel-body row links-wrap\">\n",
            "                    <div class=\"col-6 col-md-3\">\n",
            "                      <a class=\"item\" href=\"https://www.facebook.com/hhfnpp\" target=\"_blank\" title=\"非營利幼兒園專區(另開視窗)\"><img src=\"images/links-icon01.svg\"\n",
            "                          alt=\"非營利幼兒園專區 icon\"><span class=\"title\">非營利幼兒園專區</span></a>\n",
            "                    </div>\n",
            "                    <div class=\"col-6 col-md-3\">\n",
            "                      <a class=\"item\" href=\"https://bit.ly/2V9owBI\" target=\"_blank\" title=\"明日之星(另開視窗)\"><img src=\"images/links-icon02.svg\"\n",
            "                          alt=\"明日之星 icon\"><span class=\"title\">明日之星</span></a>\n",
            "                    </div>\n",
            "                    <div class=\"col-6 col-md-3\">\n",
            "                      <a class=\"item\" href=\"https://www.must.edu.tw/admissions.php\" target=\"_blank\" title=\"招生專區(另開視窗)\"><img src=\"images/links-icon03.svg\"\n",
            "                          alt=\"招生專區 icon\"><span class=\"title\">招生專區</span></a>\n",
            "                    </div>\n",
            "                    <div class=\"col-6 col-md-3\">\n",
            "                      <a class=\"item\" href=\"https://eec.must.edu.tw/index/index.aspx\" target=\"_blank\" title=\"推廣教育中心(另開視窗)\"><img src=\"images/links-icon04.svg\"\n",
            "                          alt=\"推廣教育中心 icon\"><span class=\"title\">推廣教育中心</span></a>\n",
            "                    </div>\n",
            "                    <div class=\"col-6 col-md-3\">\n",
            "                      <a class=\"item\" href=\"https://sites.google.com/site/mustfreshman\" target=\"_blank\" title=\"新生專區(另開視窗)\"><img src=\"images/links-icon05.svg\"\n",
            "                          alt=\"新生專區 icon\"><span class=\"title\">新生專區</span></a>\n",
            "                    </div>\n",
            "                    <div class=\"col-6 col-md-3\">\n",
            "                      <a class=\"item\" href=\"https://sss.must.edu.tw/std_service.html\" target=\"_blank\" title=\"學生專區(另開視窗)\"><img src=\"images/links-icon06.svg\"\n",
            "                          alt=\"學生專區 icon\"><span class=\"title\">學生專區</span></a>\n",
            "                    </div>\n",
            "                    <div class=\"col-6 col-md-3\">\n",
            "                      <a class=\"item\" href=\"https://sss.must.edu.tw/pars_new/pars_index.asp\" target=\"_blank\" title=\"家長關懷專區(另開視窗)\"><img src=\"images/links-icon07.svg\"\n",
            "                          alt=\"家長關懷專區 icon\"><span class=\"title\">家長關懷專區</span></a>\n",
            "                    </div>\n",
            "                    <div class=\"col-6 col-md-3\">\n",
            "                      <a class=\"item\" href=\"http://webs.must.edu.tw/ocmust006\" target=\"_blank\" title=\"獎助學金專區(另開視窗)\"><img src=\"images/links-icon44.svg\"\n",
            "                          alt=\"獎助學金專區 icon\"><span class=\"title\">獎助學金專區</span></a>\n",
            "                    </div>\n",
            "                  </div>\n",
            "                </div>\n",
            "              </div>\n",
            "            </div>\n",
            "            <!-- 學生常用資訊-->\n",
            "            <div class=\"tab-pane\" id=\"pills-links-student\" role=\"tabpanel\" aria-labelledby=\"pills-links-student-tab\">\n",
            "              <div class=\"panel panel-default\">\n",
            "                <div class=\"panel-heading\">\n",
            "                  <div class=\"panel-title\">\n",
            "                    <a data-toggle=\"collapse\" data-parent=\".tab-pane\" href=\"#collapse-links-student\" class=\"collapsed\"\n",
            "                      aria-expanded=\"false\" title=\"學生常用資訊\">\n",
            "                      學生常用資訊\n",
            "                    </a>\n",
            "                  </div>\n",
            "                </div>\n",
            "                <div id=\"collapse-links-student\" class=\"panel-collapse in collapse\">\n",
            "                  <div class=\"panel-body row links-wrap\">\n",
            "                    <div class=\"col-6 col-md-3\">\n",
            "                      <a class=\"item\" href=\"https://sss.must.edu.tw/\" target=\"_blank\" title=\"學生資訊服務系統(另開視窗)\"><img src=\"images/links-icon08.svg\"\n",
            "                          alt=\"學生資訊服務系統 icon\"><span class=\"title\">學生資訊服務系統</span></a>\n",
            "                    </div>\n",
            "                    <div class=\"col-6 col-md-3\">\n",
            "                      <a class=\"item\" href=\"https://mustwebsystem.must.edu.tw/muststdsystem/index.aspx\" target=\"_blank\" title=\"校務學生資訊系統(另開視窗)\"><img src=\"images/links-icon09.svg\"\n",
            "                          alt=\"校務學生資訊系統 icon\"><span class=\"title\">校務學生資訊系統</span></a>\n",
            "                    </div>\n",
            "                    <div class=\"col-6 col-md-3\">\n",
            "                      <a class=\"item\" href=\"http://std.must.edu.tw/\" target=\"_blank\" title=\"學生郵件服務系統(另開視窗)\"><img src=\"images/links-icon10.svg\"\n",
            "                          alt=\"學生郵件服務系統 icon\"><span class=\"title\">學生郵件服務系統</span></a>\n",
            "                    </div>\n",
            "                    <div class=\"col-6 col-md-3\">\n",
            "                      <a class=\"item\" href=\"https://sss.must.edu.tw/?system=b3\" target=\"_blank\" title=\"電子歷程檔案系統(另開視窗)\"><img src=\"images/links-icon11.svg\"\n",
            "                          alt=\"電子歷程檔案系統 icon\"><span class=\"title\">電子歷程檔案系統</span></a>\n",
            "                    </div>\n",
            "                    <div class=\"col-6 col-md-3\">\n",
            "                      <a class=\"item\" href=\"https://sss.must.edu.tw/tuiRegistry/tuiRegistry_index.asp\" target=\"_blank\" title=\"學雜費網路服務系統(另開視窗)\"><img src=\"images/links-icon12.svg\"\n",
            "                          alt=\"學雜費網路服務系統 icon\"><span class=\"title\">學雜費網路服務系統</span></a>\n",
            "                    </div>\n",
            "                    <div class=\"col-6 col-md-3\">\n",
            "                      <a class=\"item\" href=\"https://int.must.edu.tw/\" target=\"_blank\" title=\"校外實習管理系統(另開視窗)\"><img src=\"images/links-icon13.svg\"\n",
            "                          alt=\"校外實習管理系統 icon\"><span class=\"title\">校外實習管理系統</span></a>\n",
            "                    </div>\n",
            "                    <div class=\"col-6 col-md-3\">\n",
            "                      <a class=\"item\" href=\"https://sss.must.edu.tw/?system=b5\" target=\"_blank\" title=\"進修部學生網路請假系統(另開視窗)\"><img src=\"images/links-icon14.svg\"\n",
            "                          alt=\"進修部學生網路請假系統 icon\"><span class=\"title\">進修部學生網路請假系統</span></a>\n",
            "                    </div>\n",
            "                    <div class=\"col-6 col-md-3\">\n",
            "                      <a class=\"item\" href=\"https://sss.must.edu.tw/?system=b4\" target=\"_blank\" title=\"學生離校申請(另開視窗)\"><img src=\"images/links-icon15.svg\"\n",
            "                          alt=\"學生離校申請 icon\"><span class=\"title\">學生離校申請</span></a>\n",
            "                    </div>\n",
            "\n",
            "                  </div>\n",
            "                </div>\n",
            "              </div>\n",
            "            </div>\n",
            "            <!-- 教職員常用資訊-->\n",
            "            <div class=\"tab-pane\" id=\"pills-links-employee\" role=\"tabpanel\" aria-labelledby=\"pills-links-employee-tab\">\n",
            "              <div class=\"panel panel-default\">\n",
            "                <div class=\"panel-heading\">\n",
            "                  <div class=\"panel-title\">\n",
            "                    <a data-toggle=\"collapse\" data-parent=\".tab-pane\" href=\"#collapse-links-employee\" class=\"collapsed\"\n",
            "                      aria-expanded=\"false\" title=\"教職員常用資訊\">\n",
            "                      教職員常用資訊\n",
            "                    </a>\n",
            "                  </div>\n",
            "                </div>\n",
            "                <div id=\"collapse-links-employee\" class=\"panel-collapse in collapse\">\n",
            "                  <div class=\"panel-body row links-wrap\">\n",
            "                    <div class=\"col-6 col-md-3\">\n",
            "                      <a class=\"item\" href=\"https://sss.must.edu.tw/teachinfo/\" target=\"_blank\" title=\"教職員資訊服務系統(另開視窗)\"><img src=\"images/links-icon16.svg\"\n",
            "                          alt=\"教職員資訊服務系統 icon\"><span class=\"title\">教職員資訊服務系統</span></a>\n",
            "                    </div>\n",
            "                    <div class=\"col-6 col-md-3\">\n",
            "                      <a class=\"item\" href=\"http://mail.must.edu.tw/\" target=\"_blank\" title=\"教職員郵件服務系統(另開視窗)\"><img src=\"images/links-icon17.svg\"\n",
            "                          alt=\"教職員郵件服務系統 icon\"><span class=\"title\">教職員郵件服務系統</span></a>\n",
            "                    </div>\n",
            "                    <div class=\"col-6 col-md-3\">\n",
            "                      <a class=\"item\" href=\"https://mustwebsystem.must.edu.tw/\" target=\"_blank\" title=\"教職員校務行政資訊系統 (單一簽入)(另開視窗)\"><img src=\"images/links-icon18.svg\"\n",
            "                          alt=\"校務行政資訊系統 icon\"><span class=\"title\">教職員校務行政資訊系統 (單一簽入)</span></a>\n",
            "                    </div>\n",
            "                    <div class=\"col-6 col-md-3\">\n",
            "                      <a class=\"item\" href=\"https://u1.must.edu.tw/\" target=\"_blank\" title=\"行政U1管理系統(另開視窗)\"><img src=\"images/links-icon19.svg\"\n",
            "                          alt=\"行政U1管理系統 icon\"><span class=\"title\">行政U1管理系統</span></a>\n",
            "                    </div>\n",
            "                    <div class=\"col-6 col-md-3\">\n",
            "                      <a class=\"item\" href=\"https://accounting.must.edu.tw/alltop/\" target=\"_blank\" title=\"會計總務系統(另開視窗)\"><img src=\"images/links-icon20.svg\"\n",
            "                          alt=\"會計總務系統 icon\"><span class=\"title\">會計總務系統</span></a>\n",
            "                    </div>\n",
            "                    <div class=\"col-6 col-md-3\">\n",
            "                      <a class=\"item\" href=\"https://frdp.must.edu.tw/industrywebsystem/\" target=\"_blank\" title=\"教師進行產業研習或研究管理系統(另開視窗)\"><img src=\"images/links-icon21.svg\"\n",
            "                          alt=\"教師進行產業研習或研究管理系統 icon\"><span class=\"title\">教師進行產業研習或研究管理系統</span></a>\n",
            "                    </div>\n",
            "                    <div class=\"col-6 col-md-3\">\n",
            "                      <a class=\"item\" href=\"https://sss.must.edu.tw/RWD_CosInfo/\" target=\"_blank\" title=\"開課資訊查詢服務(另開視窗)\"><img src=\"images/links-icon22.svg\"\n",
            "                          alt=\"開課資訊查詢服務 icon\"><span class=\"title\">開課資訊查詢服務</span></a>\n",
            "                    </div>\n",
            "\n",
            "                  </div>\n",
            "                </div>\n",
            "              </div>\n",
            "            </div>\n",
            "            <!-- 求職與政令宣導-->\n",
            "            <div class=\"tab-pane\" id=\"pills-links-jobs\" role=\"tabpanel\" aria-labelledby=\"pills-links-jobs-tab\">\n",
            "              <div class=\"panel panel-default\">\n",
            "                <div class=\"panel-heading\">\n",
            "                  <div class=\"panel-title\">\n",
            "                    <a data-toggle=\"collapse\" data-parent=\".tab-pane\" href=\"#collapse-links-jobs\" class=\"collapsed\"\n",
            "                      aria-expanded=\"false\" title=\"求職與政令宣導\">\n",
            "                      求職與政令宣導\n",
            "                    </a>\n",
            "                  </div>\n",
            "                </div>\n",
            "                <div id=\"collapse-links-jobs\" class=\"panel-collapse in collapse\">\n",
            "                  <div class=\"panel-body row links-wrap\">\n",
            "                    <div class=\"col-6 col-md-3\">\n",
            "                      <a class=\"item\" href=\"http://questionnaire.must.edu.tw/\" target=\"_blank\" title=\"求職徵才專區(另開視窗)\"><img src=\"images/links-icon23.svg\"\n",
            "                          alt=\"求職徵才專區 icon\"><span class=\"title\">求職徵才專區</span></a>\n",
            "                    </div>\n",
            "                    <div class=\"col-6 col-md-3\">\n",
            "                      <a class=\"item\" href=\"http://webc1.must.edu.tw/jtmust069/index.php/2017-02-22-01-45-30/384-2022-3-10\" target=\"_blank\" title=\"2022校園徵才就業博覽會(另開視窗)\"><img src=\"images/links-icon24.svg\"\n",
            "                          alt=\"2022校園徵才就業博覽會 icon\"><span class=\"title\">2022校園徵才就業博覽會</span></a>\n",
            "                    </div>\n",
            "                    <div class=\"col-6 col-md-3\">\n",
            "                      <a class=\"item\" href=\"https://ucan.moe.edu.tw/Account/Login.aspx\" target=\"_blank\" title=\"UCAN大專校院就職平台網站(另開視窗)\"><img src=\"images/links-icon25.svg\"\n",
            "                          alt=\"UCAN大專校院就職平台網站 icon\"><span class=\"title\">UCAN大專校院就職平台網站</span></a>\n",
            "                    </div>\n",
            "                    <div class=\"col-6 col-md-3\">\n",
            "                      <a class=\"item\" href=\"http://www.moex.gov.tw/\" target=\"_blank\" title=\"考選部全球資訊網(另開視窗)\"><img src=\"images/links-icon26.svg\"\n",
            "                          alt=\"考選部全球資訊網 icon\"><span class=\"title\">考選部全球資訊網</span></a>\n",
            "                    </div>\n",
            "                    <div class=\"col-6 col-md-3\">\n",
            "                      <a class=\"item\" href=\"http://www.104.com.tw/\" target=\"_blank\" title=\"104人力銀行(另開視窗)\"><img src=\"images/links-icon27.svg\"\n",
            "                          alt=\"104人力銀行 icon\"><span class=\"title\">104人力銀行</span></a>\n",
            "                    </div>\n",
            "                    <div class=\"col-6 col-md-3\">\n",
            "                      <a class=\"item\" href=\"http://www.1111.com.tw/\" target=\"_blank\" title=\"1111人力銀行(另開視窗)\"><img src=\"images/links-icon28.svg\"\n",
            "                          alt=\"1111人力銀行 icon\"><span class=\"title\">1111人力銀行</span></a>\n",
            "                    </div>\n",
            "                    <div class=\"col-6 col-md-3\">\n",
            "                      <a class=\"item\" href=\"https://questionnaire.must.edu.tw/\" target=\"_blank\" title=\"畢業生流向追蹤問卷調查(另開視窗)\"><img src=\"images/links-icon29.svg\"\n",
            "                          alt=\"畢業生流向追蹤問卷調查 icon\"><span class=\"title\">畢業生流向追蹤問卷調查</span></a>\n",
            "                    </div>\n",
            "\t\t\t\t\t\n",
            "\t\t\t\t\t<div class=\"col-6 col-md-3\">\n",
            "                      <a class=\"item\" href=\"https://www.mol.gov.tw/topic/44761/48532/?roleL1=48555\" target=\"_blank\" title=\"110年協助應屆畢業青年就業措施(另開視窗)\"><img src=\"images/110-101-icon.svg\"\n",
            "                          alt=\"110應屆畢青年架構 icon\"><span class=\"title\">110年協助應屆畢業青年就業措施</span></a>\n",
            "                    </div>\n",
            "\t\t\t\t\t\n",
            "                  </div>\n",
            "                </div>\n",
            "              </div>\n",
            "            </div>\n",
            "            <!-- 主題宣導-->\n",
            "            <div class=\"tab-pane\" id=\"pills-links-theme\" role=\"tabpanel\" aria-labelledby=\"pills-links-theme-tab\">\n",
            "              <div class=\"panel panel-default\">\n",
            "                <div class=\"panel-heading\">\n",
            "                  <div class=\"panel-title\">\n",
            "                    <a data-toggle=\"collapse\" data-parent=\".tab-pane\" href=\"#collapse-links-theme\" class=\"collapsed\"\n",
            "                      aria-expanded=\"false\" title=\"主題宣導\">\n",
            "                      主題宣導\n",
            "                    </a>\n",
            "                  </div>\n",
            "                </div>\n",
            "                <div id=\"collapse-links-theme\" class=\"panel-collapse in collapse\">\n",
            "                  <div class=\"panel-body row links-wrap\">\n",
            "                    <div class=\"col-6 col-md-3\">\n",
            "                      <a class=\"item\" href=\"http://webc1.must.edu.tw/jtmust064/\" target=\"_blank\" title=\"性別平等教育專區(另開視窗)\"><img src=\"images/links-icon30.svg\"\n",
            "                          alt=\"性別平等教育專區 icon\"><span class=\"title\">性別平等教育專區</span></a>\n",
            "                    </div>\n",
            "                    <div class=\"col-6 col-md-3\">\n",
            "                      <a class=\"item\" href=\"http://webc1.must.edu.tw/mustj007/index.php/2017-02-17-06-43-19/2017-02-18-01-40-56/2017-02-18-06-30-33\" target=\"_blank\" title=\"性騷擾暨性侵犯申訴管道(另開視窗)\"><img src=\"images/links-icon31.svg\"\n",
            "                          alt=\"性騷擾暨性侵犯申訴管道 icon\"><span class=\"title\">性騷擾暨性侵犯申訴管道</span></a>\n",
            "                    </div>\n",
            "                    <div class=\"col-6 col-md-3\">\n",
            "                      <a class=\"item\" href=\"http://webs.must.edu.tw/ocmust004/index.php/2017-09-04-05-42-33\" target=\"_blank\" title=\"保護及尊重智慧財產權(另開視窗)\"><img src=\"images/links-icon32.svg\"\n",
            "                          alt=\"保護及尊重智慧財產權 icon\"><span class=\"title\">保護及尊重智慧財產權</span></a>\n",
            "                    </div>\n",
            "                    <div class=\"col-6 col-md-3\">\n",
            "                      <a class=\"item\" href=\"http://webs.must.edu.tw/ocmust004/index.php/2017-09-04-05-43-40\" target=\"_blank\" title=\"個資保護專區(另開視窗)\"><img src=\"images/links-icon33.svg\"\n",
            "                          alt=\"個資保護專區 icon\"><span class=\"title\">個資保護專區</span></a>\n",
            "                    </div>\n",
            "                    <div class=\"col-6 col-md-3\">\n",
            "                      <a class=\"item\" href=\"http://www.165.gov.tw/\" target=\"_blank\" title=\"警政署反詐騙165(另開視窗)\"><img src=\"images/links-icon34.svg\"\n",
            "                          alt=\"警政署反詐騙165 icon\"><span class=\"title\">警政署反詐騙165</span></a>\n",
            "                    </div>\n",
            "                    <div class=\"col-6 col-md-3\">\n",
            "                      <a class=\"item\" href=\"https://nit.immigration.gov.tw/\" target=\"_blank\" title=\"新住民數位資訊e網(另開視窗)\"><img src=\"images/links-icon35.svg\"\n",
            "                          alt=\"新住民數位資訊e網 icon\"><span class=\"title\">新住民數位資訊e網</span></a>\n",
            "                    </div>\n",
            "\n",
            "                  </div>\n",
            "                </div>\n",
            "              </div>\n",
            "            </div>\n",
            "            <!-- 其他-->\n",
            "            <div class=\"tab-pane\" id=\"pills-links-other\" role=\"tabpanel\" aria-labelledby=\"pills-links-other-tab\">\n",
            "              <div class=\"panel panel-default\">\n",
            "                <div class=\"panel-heading\">\n",
            "                  <div class=\"panel-title\">\n",
            "                    <a data-toggle=\"collapse\" data-parent=\".tab-pane\" href=\"#collapse-links-other\" class=\"collapsed\"\n",
            "                      aria-expanded=\"false\" title=\"其他\">\n",
            "                      其他\n",
            "                    </a>\n",
            "                  </div>\n",
            "                </div>\n",
            "                <div id=\"collapse-links-other\" class=\"panel-collapse in collapse\">\n",
            "                  <div class=\"panel-body row links-wrap\">\n",
            "                    <div class=\"col-6 col-md-3\">\n",
            "                      <a class=\"item\" href=\"https://actss.must.edu.tw/MingStdAssocD/main.aspx\" target=\"_blank\" title=\"學生社團管理系統(另開視窗)\"><img src=\"images/links-icon36.svg\"\n",
            "                          alt=\"學生社團管理系統 icon\"><span class=\"title\">學生社團管理系統</span></a>\n",
            "                    </div>\n",
            "                    <div class=\"col-6 col-md-3\">\n",
            "                      <a class=\"item\" href=\"http://webc2.must.edu.tw/jtmust037\" target=\"_blank\" title=\"學生住宿相關資訊(另開視窗)\"><img src=\"images/links-icon37.svg\"\n",
            "                          alt=\"學生住宿相關資訊 icon\"><span class=\"title\">學生住宿相關資訊</span></a>\n",
            "                    </div>\n",
            "                    <div class=\"col-6 col-md-3\">\n",
            "                      <a class=\"item\" href=\"https://mustwebsystem.must.edu.tw/muststdsystem\" target=\"_blank\" title=\"學生住宿資訊系統(另開視窗)\"><img src=\"images/links-icon38.svg\"\n",
            "                          alt=\"學生住宿資訊系統 icon\"><span class=\"title\">學生住宿資訊系統</span></a>\n",
            "                    </div>\n",
            "                    <div class=\"col-6 col-md-3\">\n",
            "                      <a class=\"item\" href=\"https://tronclass.must.edu.tw/\" target=\"_blank\" title=\"TronClass數位學習平台系統(另開視窗)\"><img src=\"images/links-icon39.svg\"\n",
            "                          alt=\"TronClass數位學習平台系統 icon\"><span class=\"title\">TronClass數位學習平台系統</span></a>\n",
            "                    </div>\n",
            "                    <div class=\"col-6 col-md-3\">\n",
            "                      <a class=\"item\" href=\"http://webhdd2.must.edu.tw/\" target=\"_blank\" title=\"網路硬碟(新)(另開視窗)\"><img src=\"images/links-icon40.svg\"\n",
            "                          alt=\"網路硬碟(新) icon\"><span class=\"title\">網路硬碟(新)</span></a>\n",
            "                    </div>\n",
            "                    <div class=\"col-6 col-md-3\">\n",
            "                      <a class=\"item\" href=\"http://www.cc.must.edu.tw/maintain-online/conkout_state.asp\" target=\"_blank\" title=\"電腦維修服務(另開視窗)\"><img src=\"images/links-icon41.svg\"\n",
            "                          alt=\"電腦維修服務 icon\"><span class=\"title\">電腦維修服務</span></a>\n",
            "                    </div>\n",
            "                    <div class=\"col-6 col-md-3\">\n",
            "                      <a class=\"item\" href=\"http://ftp.must.edu.tw/\" target=\"_blank\" title=\"全校授權軟體下載(僅限校內使用)(另開視窗)\"><img src=\"images/links-icon42.svg\"\n",
            "                          alt=\"全校授權軟體下載(僅限校內使用) icon\"><span class=\"title\">全校授權軟體下載(僅限校內使用)</span></a>\n",
            "                    </div>\n",
            "                    <div class=\"col-6 col-md-3\">\n",
            "                      <a class=\"item\" href=\"https://accounting.must.edu.tw/alltop_bus/index.php\" target=\"_blank\" title=\"付款紀錄查詢系統(另開視窗)\"><img src=\"images/links-icon43.svg\"\n",
            "                          alt=\"付款紀錄查詢系統 icon\"><span class=\"title\">付款紀錄查詢系統</span></a>\n",
            "                    </div>\n",
            "                  </div>\n",
            "                </div>\n",
            "              </div>\n",
            "            </div>\n",
            "          </div>\n",
            "        </div>\n",
            "      </div>\n",
            "    </div>\n",
            "    </div>\n",
            "    </maiin>\n",
            "    <footer>\n",
            "    <div class=\"container\">\n",
            "        <a href=\"#accesskeyB\" title=\"下方導覽連結區\" accesskey=\"B\" name=\"accesskeyB\">:::</a>\n",
            "        <div class=\"row\">\n",
            "            <div class=\"col-12 col-md-7 item\">\n",
            "                <div class=\"title\">校園連結</div>\n",
            "                <ul class=\"campus-links\">\n",
            "                    <li><a href=\"https://mustwebsystem.must.edu.tw/\" target=\"_blank\"\n",
            "                            title=\"教職員校務行政資訊系統 (單一簽入)(另開視窗)\">教職員校務行政資訊系統 (單一簽入)</a></li>\n",
            "                    <li><a href=\"https://teachinfo.must.edu.tw\" target=\"_blank\"\n",
            "                            title=\"教職員資訊服務系統(另開視窗)\">教職員資訊服務系統</a></li>\n",
            "                    <li><a href=\"http://mail.must.edu.tw/\" target=\"_blank\" title=\"教職員郵件服務系統(另開視窗)\">教職員郵件服務系統</a></li>\n",
            "                    <li><a href=\"https://accounting.must.edu.tw/alltop/\" target=\"_blank\" title=\"會計總務系統(另開視窗)\">會計總務系統</a>\n",
            "                    </li>\n",
            "                    <li><a href=\"https://frdp.must.edu.tw/industrywebsystem/\" target=\"_blank\"\n",
            "                            title=\"教師進行產業研習或研究管理系統(另開視窗)\">教師進行產業研習或研究管理系統</a></li>\n",
            "                    <li><a href=\"https://sss.must.edu.tw/RWD_CosInfo/\" target=\"_blank\"\n",
            "                            title=\"開課資訊查詢服務(另開視窗)\">開課資訊查詢服務</a></li>\n",
            "                    <li><a href=\"https://sss.must.edu.tw/tuiRegistry/tuiRegistry_index.asp\" target=\"_blank\"\n",
            "                            title=\"學雜費網路服務系統(另開視窗)\">學雜費網路服務系統</a></li>\n",
            "                    <li><a href=\"https://sss.must.edu.tw/\" target=\"_blank\" title=\"學生資訊服務系統(另開視窗)\">學生資訊服務系統</a></li>\n",
            "                    <li><a href=\"https://mustwebsystem.must.edu.tw/muststdsystem/index.aspx\" target=\"_blank\" title=\"校務學生資訊系統(另開視窗)\">校務學生資訊系統</a>\n",
            "                    </li>\n",
            "                    <li><a href=\"http://std.must.edu.tw/\" target=\"_blank\" title=\"學生郵件服務系統(另開視窗)\">學生郵件服務系統</a></li>\n",
            "                    <li><a href=\"https://sss.must.edu.tw/?system=b3\" target=\"_blank\"\n",
            "                            title=\"電子歷程檔案系統(另開視窗)\">電子歷程檔案系統(e-Portfolio)</a></li>\n",
            "                    <li><a href=\"https://int.must.edu.tw/\" target=\"_blank\" title=\"校外實習管理系統(另開視窗)\">校外實習管理系統</a></li>\n",
            "                    <li><a href=\"https://actss.must.edu.tw/MingStdAssocD/main.aspx\" target=\"_blank\"\n",
            "                            title=\"學生社團(另開視窗)\">學生社團</a></li>\n",
            "                    <li><a href=\"https://webc2.must.edu.tw/jtmust037\" target=\"_blank\" title=\"學生住宿相關資訊(另開視窗)\">學生住宿相關資訊</a>\n",
            "                    </li>\n",
            "                    <li><a href=\"https://sss.must.edu.tw/?system=b5\" target=\"_blank\"\n",
            "                            title=\"進修部學生網路請假系統(另開視窗)\">進修部學生網路請假系統</a></li>\n",
            "                    <li><a href=\"httpS://tronclass.must.edu.tw/\" target=\"_blank\"\n",
            "                            title=\"TronClass數位學習平台系統(另開視窗)\">TronClass數位學習平台系統</a></li>\n",
            "                    <li><a href=\"http://webhdd2.must.edu.tw/\" target=\"_blank\" title=\"網路硬碟(新)(另開視窗)\">網路硬碟(新)</a></li>\n",
            "                    <li><a href=\"https://questionnaire.must.edu.tw/\" target=\"_blank\" title=\"畢業生流向追蹤問卷調查(另開視窗)\">畢業生流向追蹤問卷調查</a></li>\n",
            "                    <li><a href=\"https://u1.must.edu.tw/\" target=\"_blank\" title=\"行政u1管理系統(另開視窗)\">行政u1管理系統</a></li>\n",
            "                    <li><a href=\"https://sss.must.edu.tw/?system=b4\" target=\"_blank\" title=\"學生離校申請(另開視窗)\">學生離校申請</a>\n",
            "                    </li>\n",
            "                    <li><a href=\"http://webs.must.edu.tw/ocmust002\" target=\"_blank\" title=\"新竹縣北區居家托育服務中心-將另開新視窗\">新竹縣北區居家托育服務中心(原社區保母系統)</a></li>              \n",
            "\t\t\t\t\t<li><a href=\"https://journal.must.edu.tw/\" target=\"_blank\" title=\"明新學報-將另開新視窗\">明新學報</a></li>\n",
            "\t\t\t\t\t</ul>\n",
            "            </div>\n",
            "            <div class=\"col-12 col-md-5 item\">\n",
            "                <div class=\"title\">資訊公開連結</div>\n",
            "                <ul class=\"info-links\">\n",
            "                    <li><a href=\"http://webs.must.edu.tw/ocmust008/\" target=\"_blank\" title=\"校務公開資訊(另開視窗)\">校務公開資訊</a>\n",
            "                    </li>\n",
            "                    <li><a href=\"http://webs.must.edu.tw/jtmust060\" target=\"_blank\" title=\"弱勢助學勸募(另開視窗)\">弱勢助學勸募</a></li>\n",
            "                    <li><a href=\"http://webc2.must.edu.tw/jtmust008\" target=\"_blank\" title=\"活動展覽(另開視窗)\">活動展覽</a></li>\n",
            "                    <li><a href=\"https://sss.must.edu.tw/pars_new/pars_index.asp\" target=\"_blank\"\n",
            "                            title=\"家長關懷系統(另開視窗)\">家長關懷系統</a></li>\n",
            "                    <li><a href=\"http://webc1.must.edu.tw/jtmust064/\" target=\"_blank\"\n",
            "                            title=\"性別平等教育專區(另開視窗)\">性別平等教育專區</a></li>\n",
            "                    <li><a href=\"http://webc1.must.edu.tw/mustj007/index.php/2017-02-17-06-43-19/2017-02-18-01-40-56/2017-02-18-06-30-33\"\n",
            "                            target=\"_blank\" title=\"1性騷擾暨性侵犯申訴管道(另開視窗)\">性騷擾暨性侵犯申訴管道</a></li>\n",
            "                    <li><a href=\"http://webs.must.edu.tw/ocmust004/index.php/2017-09-04-05-42-33\" target=\"_blank\"\n",
            "                            title=\"保護及尊重智慧財產權(另開視窗)\">保護及尊重智慧財產權</a></li>\n",
            "                    <li><a href=\"http://webs.must.edu.tw/ocmust004/index.php/2017-09-04-05-43-40\" target=\"_blank\"\n",
            "                            title=\"個資保護專區(另開視窗)\">個資保護專區</a></li>\n",
            "                    <li><a href=\"https://nit.immigration.gov.tw/\" target=\"_blank\" title=\"新住民數位資訊e網(另開視窗)\">新住民數位資訊e網</a>\n",
            "                    </li>\n",
            "                    <li><a href=\"https://accounting.must.edu.tw/alltop_bus/index.php\" target=\"_blank\"\n",
            "                            title=\"付款紀錄查詢系統(另開視窗)\">付款紀錄查詢系統</a></li>\n",
            "                    <li><a href=\"https://165.npa.gov.tw/#/\" target=\"_blank\" title=\"警政署反詐騙165(另開視窗)\">警政署反詐騙165</a></li>\n",
            "                    <li><a href=\"https://www.moj.gov.tw/lp-198-001.html\" target=\"_blank\"\n",
            "                            title=\"法務部「個人資料保護專區」(另開視窗)\">法務部「個人資料保護專區」</a></li>\n",
            "                    <li><a href=\"https://ucan.moe.edu.tw/Account/Login.aspx\" target=\"_blank\"\n",
            "                            title=\"UCAN大專校院就職平台網站(另開視窗)\">UCAN大專校院就職平台網站</a></li>\n",
            "                    <li><a href=\"http://webc1.must.edu.tw/jtmust069/index.php/2017-02-22-01-45-30/384-2022-3-10\"\n",
            "                            target=\"_blank\" title=\"2021校園徵才就業博覽會(另開視窗)\">2022校園徵才就業博覽會</a></li>\n",
            "                    <li><a href=\"http://www.104.com.tw/\" target=\"_blank\" title=\"104人力銀行(另開視窗)\">104人力銀行</a></li>\n",
            "                    <li><a href=\"http://www.1111.com.tw/\" target=\"_blank\" title=\"1111人力銀行(另開視窗)\">1111人力銀行</a></li>\n",
            "                </ul>\n",
            "            </div>\n",
            "            <div class=\"col-12 col-md-6 item\">\n",
            "\n",
            "                <div class=\"title\">資訊公開連結</div>\n",
            "                <div class=\"wrap\">\n",
            "                    <p>電話：<a href=\"tel:+886-3-5593142\">+886-3-5593142</a></p>\n",
            "                    <p>傳真：+886-3-5595142</p>\n",
            "                    <p>地址：30401新竹縣新豐鄉新興路1號 <a href=\"https://goo.gl/maps/ME8bUnh4pXq3fhfe8\" target=\"_blank\"><img\n",
            "                                src=\"https://www.must.edu.tw/images/ui/map-icon.svg\" alt=\"MustMap\"></a></p>\n",
            "                </div>\n",
            "            </div>\n",
            "            <div class=\"col-12 col-md-6 item\">\n",
            "                <div class=\"title\">Follow us 明新社群</div>\n",
            "                <div class=\"row\">\n",
            "                    <div class=\"share col-7\">\n",
            "                        <div class=\"share-item\"><a href=\"https://www.facebook.com/mustminghsin\" target=\"_blank\"\n",
            "                                title=\"明新FB(另開視窗)\"><img src=\"https://www.must.edu.tw/images/ui/fb.svg\" alt=\"明新FB圖示\"></a>\n",
            "                        </div>\n",
            "                        <div class=\"share-item\"><a href=\"http://bit.ly/2Qehz1x\" target=\"_blank\" title=\"明新IG另開視窗)\"><img\n",
            "                                    src=\"https://www.must.edu.tw/images/ui/ig.svg\" alt=\"明新IG圖示\"></a></div>\n",
            "                        <div class=\"share-item\"><a href=\"http://bit.ly/3mt4Uoy\" target=\"_blank\"\n",
            "                                title=\"明新line(另開視窗)\"><img src=\"https://www.must.edu.tw/images/ui/line.svg\"\n",
            "                                    alt=\"明新line圖示\"></a></div>\n",
            "                        <div class=\"share-item\"><a href=\"http://bit.ly/2RCwpha\" target=\"_blank\"\n",
            "                                title=\"明新youtube(另開視窗)\"><img src=\"https://www.must.edu.tw/images/ui/youtube.svg\"\n",
            "                                    alt=\"明新youtube圖示\"></a></div>\n",
            "                    </div>\n",
            "                    <div class=\"col-5 text-right\"> <a\n",
            "                            href=\"https://accessibility.ncc.gov.tw/Applications/Detail?category=20210225163710\"\n",
            "                            title=\"無障礙網站\">\n",
            "                            <img src=\"https://www.must.edu.tw/images/ui/accessibility.jpg\" width=\"88\" height=\"31\"\n",
            "                                alt=\"通過AA無障礙網頁檢測\" />\n",
            "                        </a></div>\n",
            "\n",
            "                </div>\n",
            "            </div>\n",
            "        </div>\n",
            "    </div>\n",
            "</footer>\n",
            "<div class=\"footnav\">\n",
            "    <div class=\"container\">\n",
            "        <ul class=\"nav\">\n",
            "            <li><a href=\"https://goo.gl/maps/1iNJQAPueee78wxw6\" title=\"明新科大校園地圖(另開視窗)\">明新科大校園地圖</a></li>\n",
            "            <li><a href=\"http://webc1.must.edu.tw/jtmust068\" title=\"緊急聯絡-校安中心值班電話-0937623842\">緊急聯絡電話</a></li>\n",
            "            <li><a href=\"http://webs.must.edu.tw/ocmust004/images/file/pims/pims-1-01.pdf\"\n",
            "                    title=\"個資保護政策pdf(另開視窗)\">個資保護政策</a></li>\n",
            "            <li><a href=\"http://webs.must.edu.tw/ocmust004/images/file/isms/isms.pdf\" title=\"資訊安全政策pdf(另開視窗)\">資訊安全政策</a>\n",
            "            </li>\n",
            "        </ul>\n",
            "        <div class=\"copyright\">明新科技大學 版權所有© All Rights Reserved. | Designed by <a href=\"https://www.gglisten.com/\"\n",
            "                target=\"_blank\">GGlisten</a> X <a href=\"https://www.cadiis.com.tw/\" target=\"_blank\">Cadiis</a></div>\n",
            "    </div>\n",
            "</div>\n",
            "\n",
            "<script src=\"https://code.jquery.com/jquery-1.12.4.js\"></script>\n",
            "<script src=\"https://www.must.edu.tw/templates/plugin/popper.min.js\"></script>\n",
            "<script src=\"https://cdnjs.cloudflare.com/ajax/libs/waypoints/2.0.3/waypoints.min.js\"></script>\n",
            "<script src=\"https://www.must.edu.tw/templates/plugin/counter-up/jquery.counterup.min.js\"></script>\n",
            "<script src=\"https://www.must.edu.tw/templates/plugin/bootstrap/js/bootstrap.min.js\"></script>\n",
            "<script src=\"https://www.must.edu.tw/templates/plugin/slick/slick.min.js\"></script>\n",
            "<NOSCRIPT>\n",
            "    <P>您的瀏覽器不支援JavaScript功能，若網頁功能無法正常使用時，請開啟瀏覽器JavaScript狀態</P>\n",
            "</NOSCRIPT></body>\n",
            "\n",
            "<script>\n",
            "$('.slider').slick({\n",
            "  dots: false,\n",
            "  infinite: true,\n",
            "  speed: 1000,\n",
            "  fade: true,\n",
            "  adaptiveHeight: true,\n",
            "  cssEase: 'linear',\n",
            "  autoplay:true,\n",
            "  adaptiveHeight: false\n",
            "});\n",
            "\n",
            "$('.panel-title').click(function () {\n",
            "  $(this).toggleClass('open');\n",
            "});\n",
            "\n",
            "$('.home-events,.home-videos').slick({\n",
            "  arrows: false,\n",
            "  dots: true,\n",
            "  infinite: true,\n",
            "  speed: 300,\n",
            "  slidesToShow: 3,\n",
            "  slidesToScroll: 3,\n",
            "  responsive: [{\n",
            "      breakpoint: 1025,\n",
            "      settings: {\n",
            "        slidesToShow: 2,\n",
            "        slidesToScroll: 2,\n",
            "        infinite: true,\n",
            "        dots: true\n",
            "      }\n",
            "    },\n",
            "    {\n",
            "      breakpoint: 768,\n",
            "      settings: {\n",
            "        slidesToShow: 1,\n",
            "        slidesToScroll: 1\n",
            "      }\n",
            "    },\n",
            "    {\n",
            "      breakpoint: 480,\n",
            "      settings: {\n",
            "        slidesToShow: 1,\n",
            "        slidesToScroll: 1\n",
            "      }\n",
            "    }\n",
            "  ]\n",
            "});\n",
            "\n",
            "$('.counter').counterUp({\n",
            "  delay: 10,\n",
            "  time: 1000\n",
            "});\n",
            "</script>\n",
            "</html>\n"
          ]
        }
      ]
    },
    {
      "cell_type": "code",
      "source": [
        "import webbrowser\n",
        "b=requests.get(\"https://random.dog/woof.json\").json()['url']\n",
        "webbrowser.open(b)"
      ],
      "metadata": {
        "colab": {
          "base_uri": "https://localhost:8080/"
        },
        "id": "hnoSZmiSQ9zj",
        "outputId": "b7ea0bca-dc05-4a03-881b-7cc10f802eaf"
      },
      "execution_count": 5,
      "outputs": [
        {
          "output_type": "execute_result",
          "data": {
            "text/plain": [
              "False"
            ]
          },
          "metadata": {},
          "execution_count": 5
        }
      ]
    },
    {
      "cell_type": "code",
      "source": [
        "import  matplotlib.pyplot as plt\n",
        "x=[2,3,4]\n",
        "y=[7,8,9]\n",
        "plt.bar(x,y)\n",
        "plt.show()"
      ],
      "metadata": {
        "colab": {
          "base_uri": "https://localhost:8080/",
          "height": 0
        },
        "id": "eSqjx5VARFGl",
        "outputId": "bdea10d0-4f36-48e8-c6fe-568ec34efa2f"
      },
      "execution_count": 6,
      "outputs": [
        {
          "output_type": "display_data",
          "data": {
            "text/plain": [
              "<Figure size 432x288 with 1 Axes>"
            ],
            "image/png": "[encoded data removed]"
          },
          "metadata": {
            "needs_background": "light"
          }
        }
      ]
    },
    {
      "cell_type": "code",
      "source": [
        "plt.pie(x, labels=y)\n",
        "plt.show()"
      ],
      "metadata": {
        "colab": {
          "base_uri": "https://localhost:8080/",
          "height": 0
        },
        "id": "iO7uh0g7RLcP",
        "outputId": "3503dfe5-ab02-431d-827f-b1513fc22f4e"
      },
      "execution_count": 7,
      "outputs": [
        {
          "output_type": "display_data",
          "data": {
            "text/plain": [
              "<Figure size 432x288 with 1 Axes>"
            ],
            "image/png": "[encoded data removed]"
          },
          "metadata": {}
        }
      ]
    },
    {
      "cell_type": "markdown",
      "metadata": {
        "id": "bG0XwtHIgEzM"
      },
      "source": [
        "## 1.2 Complex numbers in Python"
      ]
    },
    {
      "cell_type": "code",
      "execution_count": null,
      "metadata": {
        "id": "zjSyNKLHgEzN",
        "outputId": "57d3a4a7-d1ae-4038-b97f-692bba3511a2",
        "colab": {
          "base_uri": "https://localhost:8080/"
        }
      },
      "outputs": [
        {
          "output_type": "stream",
          "name": "stdout",
          "text": [
            "4 8 125\n"
          ]
        }
      ],
      "source": [
        "x,y,z=3,4,5\n",
        "x+=1 #x=x+1\n",
        "y*=2 #x=x*2\n",
        "z**=3 #z=z**3\n",
        "print(x,y,z)\n"
      ]
    },
    {
      "cell_type": "code",
      "execution_count": null,
      "metadata": {
        "id": "k3W-ZMHwgEzP",
        "outputId": "7b5d2bd1-6622-4521-fd80-79f1fdee0a3c",
        "colab": {
          "base_uri": "https://localhost:8080/"
        }
      },
      "outputs": [
        {
          "output_type": "stream",
          "name": "stdout",
          "text": [
            "請輸入圓的半徑314.159\n",
            "310062.24300558935\n"
          ]
        }
      ],
      "source": [
        "import math\n",
        "r=eval(input(\"請輸入圓的半徑\"))\n",
        "print(r*r*math.pi)\n"
      ]
    },
    {
      "cell_type": "code",
      "execution_count": 8,
      "metadata": {
        "id": "kvIVqG5tgEzQ",
        "outputId": "96094eb4-55d2-4d5f-a647-7b5b1caf1cbb",
        "colab": {
          "base_uri": "https://localhost:8080/"
        }
      },
      "outputs": [
        {
          "output_type": "stream",
          "name": "stdout",
          "text": [
            "0.0015926269999999576\n"
          ]
        }
      ],
      "source": [
        "x=3.141592627\n",
        "print(x-3.14) #比正確值略小"
      ]
    },
    {
      "cell_type": "code",
      "execution_count": 10,
      "metadata": {
        "id": "6eos_W10gEzQ",
        "outputId": "86cffafa-82b3-4c90-826d-c4870f330699",
        "colab": {
          "base_uri": "https://localhost:8080/"
        }
      },
      "outputs": [
        {
          "output_type": "stream",
          "name": "stdout",
          "text": [
            "17.0\n"
          ]
        }
      ],
      "source": [
        "x=(6*(1+2)**1-3+4/2)\n",
        "print(x)"
      ]
    },
    {
      "cell_type": "code",
      "execution_count": 12,
      "metadata": {
        "id": "lgalV23-gEzR",
        "outputId": "285ccb3d-99cc-42bf-f401-c4f16528bbff",
        "colab": {
          "base_uri": "https://localhost:8080/"
        }
      },
      "outputs": [
        {
          "output_type": "stream",
          "name": "stdout",
          "text": [
            "True\n",
            "False\n",
            "20\n"
          ]
        }
      ],
      "source": [
        "print(20==20)\n",
        "x, y = 10, 20\n",
        "print(x==y)  # == 關係比較\n",
        "x=y          # =  指派值\n",
        "print(x)"
      ]
    },
    {
      "cell_type": "code",
      "execution_count": 13,
      "metadata": {
        "id": "lBLMJ20jgEzS",
        "outputId": "c916aa26-3291-4867-bf3a-f1b78d8013a2",
        "colab": {
          "base_uri": "https://localhost:8080/"
        }
      },
      "outputs": [
        {
          "output_type": "stream",
          "name": "stdout",
          "text": [
            "False\n",
            "True\n",
            "False\n",
            "True\n"
          ]
        }
      ],
      "source": [
        "y=2010\n",
        "print(y%4==0 and y%100!=0 or y%400==0)\n",
        "y=2012\n",
        "print(y%4==0 and y%100!=0 or y%400==0)\n",
        "y=1900\n",
        "print(y%4==0 and y%100!=0 or y%400==0)\n",
        "y=2000\n",
        "print(y%4==0 and y%100!=0 or y%400==0)"
      ]
    },
    {
      "cell_type": "code",
      "execution_count": 14,
      "metadata": {
        "id": "Fz1xQyC7gEzT",
        "outputId": "f1eb7000-2231-44fd-8a72-357f40d1e227",
        "colab": {
          "base_uri": "https://localhost:8080/"
        }
      },
      "outputs": [
        {
          "output_type": "stream",
          "name": "stdout",
          "text": [
            "<class 'int'>\n",
            "<class 'float'>\n",
            "456\n",
            "123\n",
            "456\n"
          ]
        }
      ],
      "source": [
        "x=22\n",
        "print(type(x))\n",
        "y=float(x)+0.5 #強制型別轉換\n",
        "print(type(y))\n",
        "print(int(\"456\"))\n",
        "print(int(123.33))\n",
        "print(int(float(\"456.33\")))"
      ]
    },
    {
      "cell_type": "code",
      "execution_count": 15,
      "metadata": {
        "id": "ZPZfRrF6gEzT",
        "outputId": "f8a576da-47b8-4feb-e517-2ecf50078d17",
        "colab": {
          "base_uri": "https://localhost:8080/"
        }
      },
      "outputs": [
        {
          "output_type": "stream",
          "name": "stdout",
          "text": [
            "The value of x is 32.5 and y is 40000\n",
            "The value of x is 32.5 and y is 40000\n",
            "The value of x is 32.5 and y is 40000\n"
          ]
        }
      ],
      "source": [
        "#字串的型別轉換\n",
        "x=10*3.25  #x=32.5\n",
        "y=200*200  #y=40000\n",
        "s=\"The value of x is \" + str(x) + ' and y is ' + str(y)\n",
        "print(s)\n",
        "print(\"The value of x is\", x,\"and y is\", y)\n",
        "print(\"The value of x is {} and y is {}\".format(x,y))"
      ]
    },
    {
      "cell_type": "code",
      "execution_count": 16,
      "metadata": {
        "id": "74Aq4giPgEzU",
        "outputId": "46e41982-a411-4916-eed6-41de49529bb9",
        "colab": {
          "base_uri": "https://localhost:8080/"
        }
      },
      "outputs": [
        {
          "output_type": "stream",
          "name": "stdout",
          "text": [
            "This is a book\n",
            "Thisisabook\n"
          ]
        }
      ],
      "source": [
        "print(\"This\", \"is\", \"a\", \"book\")\n",
        "print(\"This\"+\"is\"+\"a\"+\"book\")"
      ]
    },
    {
      "cell_type": "code",
      "execution_count": 17,
      "metadata": {
        "id": "HKvWikAzgEzU",
        "outputId": "406b4dc1-0f3a-4e4b-d3a2-01871f7ba642",
        "colab": {
          "base_uri": "https://localhost:8080/"
        }
      },
      "outputs": [
        {
          "output_type": "stream",
          "name": "stdout",
          "text": [
            "This is a book\n",
            "123456.79\n",
            "123,456.79\n"
          ]
        }
      ],
      "source": [
        "print(\"This {} a book\".format(\"is\"))\n",
        "x=123456.7890\n",
        "print(\"{:.2f}\".format(x))  #小數點.後兩位\n",
        "print(\"{:,.2f}\".format(x)) #,小數點前用,分開"
      ]
    },
    {
      "cell_type": "code",
      "execution_count": 18,
      "metadata": {
        "id": "76VKBhuGgEzV",
        "outputId": "e03b05b2-8e08-46b9-c77c-bada370e6789",
        "colab": {
          "base_uri": "https://localhost:8080/"
        }
      },
      "outputs": [
        {
          "output_type": "stream",
          "name": "stdout",
          "text": [
            "This is         a       book\n",
            "6789.433\n"
          ]
        }
      ],
      "source": [
        "print(\"This %-10s a %10s\" % (\"is\", \"book\")) #字串占10格，靠右2格\n",
        "print(\"%7.3f\" % 6789.4333)"
      ]
    },
    {
      "cell_type": "markdown",
      "metadata": {
        "id": "m-xOO8BugEzV"
      },
      "source": [
        "## 1.3 Abstracting over _fields_"
      ]
    },
    {
      "cell_type": "code",
      "execution_count": 19,
      "metadata": {
        "id": "nenNBiwegEzW",
        "colab": {
          "base_uri": "https://localhost:8080/"
        },
        "outputId": "fb533ce9-7e0e-4709-d4a5-956b0ffcc7f1"
      },
      "outputs": [
        {
          "output_type": "stream",
          "name": "stdout",
          "text": [
            "b是比較大的數字\n"
          ]
        }
      ],
      "source": [
        "a=3\n",
        "b=4\n",
        "if a <= b:\n",
        "    print(\"b是比較大的數字\")\n",
        "else:\n",
        "    print(\"a是比較大的數字\")"
      ]
    },
    {
      "cell_type": "code",
      "execution_count": 20,
      "metadata": {
        "id": "OFlDMbQ4gEzW",
        "outputId": "a45f0737-3c11-4cdc-9f56-24bf17b6d6ab",
        "colab": {
          "base_uri": "https://localhost:8080/"
        }
      },
      "outputs": [
        {
          "output_type": "stream",
          "name": "stdout",
          "text": [
            "成績評鑑：\n",
            "甲等\n"
          ]
        }
      ],
      "source": [
        "grade=87\n",
        "print(\"成績評鑑：\")\n",
        "if grade >= 90:\n",
        "    print(\"優等\")\n",
        "elif grade >=80:\n",
        "    print(\"甲等\")\n",
        "elif grade >=70:\n",
        "    print(\"乙等\")\n",
        "elif grade >=60:\n",
        "    print(\"丙等\")\n",
        "else:\n",
        "    print(\"不及格\")"
      ]
    },
    {
      "cell_type": "code",
      "execution_count": 21,
      "metadata": {
        "id": "jJzSQW1FgEzW",
        "outputId": "7691d4d5-25cd-4da4-efe6-333d4e56f951",
        "colab": {
          "base_uri": "https://localhost:8080/"
        }
      },
      "outputs": [
        {
          "output_type": "stream",
          "name": "stdout",
          "text": [
            "1+2+3+...+10 = 55\n"
          ]
        }
      ],
      "source": [
        "#1+2+3...+10總和\n",
        "sum = 0\n",
        "for count in range(1, 11, 1): #從1開始，間隔1, 不包含11\n",
        "    sum += count\n",
        "print(\"1+2+3+...+10 =\", sum)"
      ]
    },
    {
      "cell_type": "code",
      "source": [
        "#range另外一種寫法\n",
        "#1+2+3...+10總和\n",
        "sum = 0\n",
        "for count in range(11): #1-10, 不包含11\n",
        "    sum += count\n",
        "print(\"1+2+3+...+10 =\", sum)"
      ],
      "metadata": {
        "colab": {
          "base_uri": "https://localhost:8080/"
        },
        "id": "XtvrmX_uSuPA",
        "outputId": "e8bc6a1a-7537-453c-deb9-101726202d27"
      },
      "execution_count": 22,
      "outputs": [
        {
          "output_type": "stream",
          "name": "stdout",
          "text": [
            "1+2+3+...+10 = 55\n"
          ]
        }
      ]
    },
    {
      "cell_type": "code",
      "source": [
        "mylist=\"for statement\"\n",
        "for c in mylist:\n",
        "    print(c)\n",
        "print(\"end list\")"
      ],
      "metadata": {
        "colab": {
          "base_uri": "https://localhost:8080/"
        },
        "id": "wQT8rhXjSuhG",
        "outputId": "601dbc7c-d9a9-4ad3-d57e-5c63dd7ef2eb"
      },
      "execution_count": 23,
      "outputs": [
        {
          "output_type": "stream",
          "name": "stdout",
          "text": [
            "f\n",
            "o\n",
            "r\n",
            " \n",
            "s\n",
            "t\n",
            "a\n",
            "t\n",
            "e\n",
            "m\n",
            "e\n",
            "n\n",
            "t\n",
            "end list\n"
          ]
        }
      ]
    },
    {
      "cell_type": "code",
      "source": [
        "for chicken in range(0,36):\n",
        "    rabbit=35-chicken\n",
        "    if (2*chicken+4*rabbit) == 94:\n",
        "        print(\"雞有\",chicken,\"隻,兔子有\",rabbit,\"隻\")\n",
        "        break\n",
        "else:\n",
        "    print(\"無解\")"
      ],
      "metadata": {
        "colab": {
          "base_uri": "https://localhost:8080/"
        },
        "id": "qV2YWN9ASzPB",
        "outputId": "89362080-c385-4f70-cf13-1d29412311e8"
      },
      "execution_count": 24,
      "outputs": [
        {
          "output_type": "stream",
          "name": "stdout",
          "text": [
            "雞有 23 隻,兔子有 12 隻\n"
          ]
        }
      ]
    },
    {
      "cell_type": "code",
      "source": [
        "import random\n",
        "number=random.randint(1,20)\n",
        "while True:\n",
        "    guess=int(input(\"請輸入1~20之間的數字-->\"))\n",
        "    if guess == number:\n",
        "        print(\"你猜對了，數字是\", number)\n",
        "        break\n",
        "    else:\n",
        "        print(\"你猜錯了\")"
      ],
      "metadata": {
        "id": "sNJnzlMWS3L6"
      },
      "execution_count": null,
      "outputs": []
    },
    {
      "cell_type": "markdown",
      "metadata": {
        "id": "V3LhZqvTgEzW"
      },
      "source": [
        "## 1.4 Playing with $\\mathbb{C}$"
      ]
    },
    {
      "cell_type": "markdown",
      "metadata": {
        "id": "2M-AMru-gEzX"
      },
      "source": [
        "**Task 1.4.1:** Assign to the variable `S` a list or set consisting of the complex numbers listed above. We have provided a module `plotting` for showing points in the complex plane. The module defines a procedure `plot`. Import this class from the module as follows:"
      ]
    },
    {
      "cell_type": "markdown",
      "metadata": {
        "id": "saAGD6NGgEzX"
      },
      "source": [
        "**I am using `matplotlib` in favor of the provided `plotting` module, so we can see the results inline.**"
      ]
    },
    {
      "cell_type": "markdown",
      "metadata": {
        "id": "8fZwas4YgEzX"
      },
      "source": [
        "Next, plot the points in `S` as follows:"
      ]
    },
    {
      "cell_type": "code",
      "execution_count": null,
      "metadata": {
        "id": "KSV-ows2gEzY"
      },
      "outputs": [],
      "source": [
        "import numpy as np\n",
        "%matplotlib inline\n",
        "import matplotlib\n",
        "import matplotlib.pyplot as plt\n",
        "import seaborn as sns\n",
        "\n",
        "sns.set()\n",
        "matplotlib.rcParams['figure.figsize'] = (8, 8)\n",
        "\n",
        "def plot_complex_points(complex_points, xlim=(0, 10), ylim=(0, 10)):\n",
        "    plt.scatter([p.real for p in complex_points], [p.imag for p in complex_points])\n",
        "    plt.xlim(xlim)\n",
        "    plt.ylim(ylim)"
      ]
    },
    {
      "cell_type": "code",
      "execution_count": null,
      "metadata": {
        "id": "qcb6v6CygEzY",
        "outputId": "42e00c4c-e2a5-472c-ba29-fa479d9821e6"
      },
      "outputs": [
        {
          "data": {
            "image/png": "[encoded data removed]",
            "text/plain": [
              "<matplotlib.figure.Figure at 0x1049dee48>"
            ]
          },
          "metadata": {},
          "output_type": "display_data"
        }
      ],
      "source": [
        "S = {2 + 2j, 3 + 2j, 1.75 + 1j, 2 + 1j, 2.25 + 1j, 2.5 + 1j, 2.75 + 1j, 3 + 1j, 3.25 + 1j}\n",
        "plot_complex_points(S)"
      ]
    },
    {
      "cell_type": "markdown",
      "metadata": {
        "id": "xfu_y268gEzY"
      },
      "source": [
        "### 1.4.1 The absolute value of a complex number"
      ]
    },
    {
      "cell_type": "code",
      "execution_count": null,
      "metadata": {
        "id": "MuXMX7NpgEzY",
        "outputId": "d674fb10-3952-46bb-9f2c-eeb8df762a7a"
      },
      "outputs": [
        {
          "data": {
            "text/plain": [
              "1.4142135623730951"
            ]
          },
          "execution_count": 17,
          "metadata": {},
          "output_type": "execute_result"
        }
      ],
      "source": [
        "abs(1 + 1j)"
      ]
    },
    {
      "cell_type": "code",
      "execution_count": null,
      "metadata": {
        "id": "2d4CdG2CgEzZ",
        "outputId": "1bcf8abd-41a3-494c-d2ef-241388b0e7c3"
      },
      "outputs": [
        {
          "data": {
            "text/plain": [
              "5.0"
            ]
          },
          "execution_count": 18,
          "metadata": {},
          "output_type": "execute_result"
        }
      ],
      "source": [
        "abs(3 + 4j)"
      ]
    },
    {
      "cell_type": "code",
      "execution_count": null,
      "metadata": {
        "id": "PJchQRofgEzZ",
        "outputId": "3b2259dc-48c4-4ac0-8436-c911a38d31d9"
      },
      "outputs": [
        {
          "data": {
            "text/plain": [
              "5.0"
            ]
          },
          "execution_count": 19,
          "metadata": {},
          "output_type": "execute_result"
        }
      ],
      "source": [
        "import math\n",
        "\n",
        "math.sqrt(3 ** 2 + 4**2)"
      ]
    },
    {
      "cell_type": "code",
      "execution_count": null,
      "metadata": {
        "id": "J_UZvULBgEzZ",
        "outputId": "e227924b-6504-4818-ed6c-c2deb9f0d313"
      },
      "outputs": [
        {
          "data": {
            "text/plain": [
              "(3-4j)"
            ]
          },
          "execution_count": 20,
          "metadata": {},
          "output_type": "execute_result"
        }
      ],
      "source": [
        "(3+4j).conjugate()"
      ]
    },
    {
      "cell_type": "markdown",
      "metadata": {
        "id": "cXgdGY2ngEzZ"
      },
      "source": [
        "### 1.4.2 Adding complex numbers"
      ]
    },
    {
      "cell_type": "markdown",
      "metadata": {
        "id": "wwOhXpo1gEzZ"
      },
      "source": [
        "**Task 1.4.3:** Create a new plot using a comprehension to provide a set of points derived from `S` by adding $1 + 2i$ to each"
      ]
    },
    {
      "cell_type": "code",
      "execution_count": null,
      "metadata": {
        "id": "KTvePYD_gEza",
        "outputId": "c0b39925-909c-407e-f96a-3bc178410009"
      },
      "outputs": [
        {
          "data": {
            "image/png": "[encoded data removed]",
            "text/plain": [
              "<matplotlib.figure.Figure at 0x1049de908>"
            ]
          },
          "metadata": {},
          "output_type": "display_data"
        }
      ],
      "source": [
        "plot_complex_points({1 + 2j + z for z in S})"
      ]
    },
    {
      "cell_type": "markdown",
      "metadata": {
        "id": "hcSXu86ZgEza"
      },
      "source": [
        "**Problem 1.4.5:** Show that, for any two distinct points $z_1$ and $z_2$,  \n",
        "* there is a translation that maps $z_1$ to $z_2$,\n",
        "* there is a translation that maps $z_2$ to $z_1$, and\n",
        "* there is _no_ translation that both maps $z_1$ to $z_2$ and $z_2$ to $z_1$"
      ]
    },
    {
      "cell_type": "markdown",
      "metadata": {
        "id": "UhyWZb6AgEza"
      },
      "source": [
        "* Use translation $z_0 = z_2 - z_1$: $z_1 + (z_2 - z_1) = z_2$\n",
        "* Use translation $z_0 = z_1 - z_2$: $z_2 + (z_1 - z_2) = z_1$\n",
        "* Take the first translation, $z_0 = z_2 - z_1$, and apply to the second case:  \n",
        "$z_2 + (z_2 - z_1) = 2z_2 - z_1 \\neq z_1$"
      ]
    },
    {
      "cell_type": "markdown",
      "metadata": {
        "id": "wR1E4BFggEza"
      },
      "source": [
        "**Problem 1.4.6:** Draw a diagram representing the complex number $z_0 = -3 + 3i$ using two arrows with their tails located at different points"
      ]
    },
    {
      "cell_type": "code",
      "execution_count": null,
      "metadata": {
        "id": "Knz4gimQgEza",
        "outputId": "61057437-cd8e-4daa-ac6e-41aac97274f8"
      },
      "outputs": [
        {
          "data": {
            "image/png": "[encoded data removed]",
            "text/plain": [
              "<matplotlib.figure.Figure at 0x109937748>"
            ]
          },
          "metadata": {},
          "output_type": "display_data"
        }
      ],
      "source": [
        "n = -3 + 3j\n",
        "\n",
        "t1 = -2 + 1j\n",
        "t2 = -3 - 4j\n",
        "\n",
        "plt.arrow(t1.real, t1.imag, n.real, n.imag, head_width = 0.5)\n",
        "plt.arrow(t2.real, t2.imag, n.real, n.imag, head_width = 0.5)\n",
        "plt.xlim(-10, 10)\n",
        "plt.ylim(-10, 10)\n",
        "plt.show()"
      ]
    },
    {
      "cell_type": "markdown",
      "metadata": {
        "id": "G3YPFTy3gEzb"
      },
      "source": [
        "### 1.4.3 Multiplying complex numbers by a positive real number"
      ]
    },
    {
      "cell_type": "markdown",
      "metadata": {
        "id": "znuElMYKgEzb"
      },
      "source": [
        "**Task 1.4.7:** Create a new plot titled \"My scaled points\" using a comprehension as in `Task 1.4.3`. The points in the new plot should be halves of the points in `S`."
      ]
    },
    {
      "cell_type": "code",
      "execution_count": null,
      "metadata": {
        "id": "nZ4eI-ZogEzb",
        "outputId": "82baff0a-0217-428e-a1ee-929d83337510"
      },
      "outputs": [
        {
          "data": {
            "image/png": "[encoded data removed]",
            "text/plain": [
              "<matplotlib.figure.Figure at 0x1049decf8>"
            ]
          },
          "metadata": {},
          "output_type": "display_data"
        }
      ],
      "source": [
        "plt.title('My scaled points')\n",
        "plot_complex_points({z / 2 for z in S})"
      ]
    },
    {
      "cell_type": "markdown",
      "metadata": {
        "id": "m9Cqdb-9gEzb"
      },
      "source": [
        "### 1.4.4 Multiplying complex numbers by a negative number: rotation by 180 degrees"
      ]
    },
    {
      "cell_type": "markdown",
      "metadata": {
        "id": "4fPmiHGhgEzb"
      },
      "source": [
        "For rotation by 90 degrees, use $h(z) = i \\cdot z$"
      ]
    },
    {
      "cell_type": "markdown",
      "metadata": {
        "id": "_oJ-YpI2gEzc"
      },
      "source": [
        "**Task 1.4.8:** Create a new plot in which the points of `S` are rotated by 90 degrees and scaled by 1/2. Use a comprehension in which the points of `S` are multiplied by a single complex number."
      ]
    },
    {
      "cell_type": "code",
      "execution_count": null,
      "metadata": {
        "id": "tjldqRWFgEzc",
        "outputId": "5eb7b5b1-f664-4d4f-abbe-b10b47a6f34b"
      },
      "outputs": [
        {
          "data": {
            "image/png": "[encoded data removed]",
            "text/plain": [
              "<matplotlib.figure.Figure at 0x10999b048>"
            ]
          },
          "metadata": {},
          "output_type": "display_data"
        }
      ],
      "source": [
        "plot_complex_points({z * (1j/2) for z in S}, xlim=(-5, 5), ylim=(-5, 5))"
      ]
    },
    {
      "cell_type": "markdown",
      "metadata": {
        "id": "YVE182jBgEzc"
      },
      "source": [
        "**Task 1.4.9:** Using a comprehension, create a new plot in which the points of `S` are rotated by 90 degrees, scaled by 1/2, and then shifted down by one unit and to the right two units. Use a comprehension in which the points of `S` are multiplied by one complex number and added to another."
      ]
    },
    {
      "cell_type": "code",
      "execution_count": null,
      "metadata": {
        "id": "04my5VrngEzc",
        "outputId": "7c3b8684-eddc-4bcb-b9ab-c7c686fd30b2"
      },
      "outputs": [
        {
          "data": {
            "image/png": "[encoded data removed]",
            "text/plain": [
              "<matplotlib.figure.Figure at 0x109a73c50>"
            ]
          },
          "metadata": {},
          "output_type": "display_data"
        }
      ],
      "source": [
        "plot_complex_points({z * (1j/2) + (2 - 1j) for z in S}, xlim=(-5, 5), ylim=(-5, 5))"
      ]
    },
    {
      "cell_type": "markdown",
      "metadata": {
        "id": "BIkia1VAgEzc"
      },
      "source": [
        "**Task 1.4.10:** We have provided a module `image` with a procedure `file2image(filename)` that reads in an image stored in a file in the `.png` format. Import this procedure and invoke it, providing as argument the name of a file containing an image in this format, assigning the returned value to variable `data`. An example grayscale image, `img01.png`, is available for download.  \n",
        "    The value of `data` is a list of lists, and `data[y][x]` is the intensity of pixel `(x, y)`. Pixel `(0, 0)` is at the bottom-left of the image and pixel `(width - 1, height - 1)` is at the top-right.  \n",
        "    Use a comprehension to assign to a list `pts` the set of complex numbers `x + yi` such that the image intensity of pixel `(x, y)` is less than 120, and plot the list `pts`."
      ]
    },
    {
      "cell_type": "markdown",
      "metadata": {
        "id": "pRJ8SMrJgEzd"
      },
      "source": [
        "**Note - this is not entirely true.  The value of `data[y][x]` is a tuple of intensities in the `RGB` spectrum, not grayscale.  I'm modifying the task to use the _average_ color intensity.**"
      ]
    },
    {
      "cell_type": "code",
      "execution_count": null,
      "metadata": {
        "id": "N8_mps7XgEzd"
      },
      "outputs": [],
      "source": [
        "import sys\n",
        "sys.path.append('../')\n",
        "\n",
        "from image import file2image\n",
        "\n",
        "data = file2image('img01.png')"
      ]
    },
    {
      "cell_type": "code",
      "execution_count": null,
      "metadata": {
        "id": "2zQ-4nCegEzd",
        "outputId": "ffc6b1cd-3e15-4086-e06d-aefccea5819e"
      },
      "outputs": [
        {
          "data": {
            "image/png": "[encoded data removed]",
            "text/plain": [
              "<matplotlib.figure.Figure at 0x102dfbc50>"
            ]
          },
          "metadata": {},
          "output_type": "display_data"
        }
      ],
      "source": [
        "pts = [(x + 1j * (len(data) - y)) for (y, row) in enumerate(data) for (x, intensity) in enumerate(row) if np.mean(intensity) < 120]\n",
        "plot_complex_points(pts, xlim=(-10, 200), ylim=(-10, 200))"
      ]
    },
    {
      "cell_type": "markdown",
      "metadata": {
        "id": "0Eau0V1igEzd"
      },
      "source": [
        "**Note: It also seems that the description is wrong about `height - 1` being in the top image row.  It actually looks like `0` is the top image row, hence the need to flip the `y` index above**"
      ]
    },
    {
      "cell_type": "markdown",
      "metadata": {
        "id": "uJIC0yBVgEzd"
      },
      "source": [
        "**Task 1.4.11:** Write a Python procedure `f(z)` that takes as argument a complex number `z` so that when `f(z)` is applied to each of the complex numbers in `S`, the set of resulting numbers is centered at the origin. Write a comprehension in terms of `S` and `f` whose value is the set of translated points, and plot the value."
      ]
    },
    {
      "cell_type": "markdown",
      "metadata": {
        "id": "RKeQsvZMgEzd"
      },
      "source": [
        "**Another note - the way this problem is strictly defined is garbage, since it's impossible to know ahead of time what the origin of a set of points will be only seeing one at a time.  \n",
        "    Since the purpose of the task seems to be translation to the origin, I'll just do that with the image.**"
      ]
    },
    {
      "cell_type": "code",
      "execution_count": null,
      "metadata": {
        "id": "Nb0z40VpgEze",
        "outputId": "2c21a3ca-c2bf-4023-e1b8-5e6557681b18"
      },
      "outputs": [
        {
          "data": {
            "image/png": "[encoded data removed]",
            "text/plain": [
              "<matplotlib.figure.Figure at 0x109c65b70>"
            ]
          },
          "metadata": {},
          "output_type": "display_data"
        }
      ],
      "source": [
        "def translate_to_origin(complex_points):\n",
        "    points_array = np.array(complex_points)\n",
        "    x_mid = (points_array.real.max() - points_array.real.min()) / 2\n",
        "    y_mid = (points_array.imag.max() - points_array.imag.min()) / 2\n",
        "    return points_array - (x_mid + y_mid * 1j)\n",
        "\n",
        "plot_complex_points(translate_to_origin(pts), xlim=(-100, 100), ylim=(-100, 100))"
      ]
    },
    {
      "cell_type": "markdown",
      "metadata": {
        "id": "_bWnhmRTgEze"
      },
      "source": [
        "### 1.4.6 The unit circle in the complex plane: _argument_ and angle"
      ]
    },
    {
      "cell_type": "markdown",
      "metadata": {
        "id": "rt4dGMmkgEze"
      },
      "source": [
        "**Task 1.4.17:** From the module `math`, import the definitions `e` and `pi`. Let `n` be the integer `20`. Let `w` be the complex number $e^{{2\\pi i}/{n}}$. Write a comprehension yielding the list consisting of $w^{0}, w^{1}, w^{2}, ..., w^{n - 1}$."
      ]
    },
    {
      "cell_type": "code",
      "execution_count": null,
      "metadata": {
        "id": "eGawFd2dgEze",
        "outputId": "5a6cbae1-7248-4e19-c6db-5c4c67d18a1f"
      },
      "outputs": [
        {
          "data": {
            "image/png": "[encoded data removed]",
            "text/plain": [
              "<matplotlib.figure.Figure at 0x109ffe588>"
            ]
          },
          "metadata": {},
          "output_type": "display_data"
        }
      ],
      "source": [
        "from math import e, pi\n",
        "\n",
        "n = 20\n",
        "plot_complex_points([e ** ((2 * pi * 1j) / n_i) for n_i in range(1, n)], xlim=(-2, 2), ylim=(-2, 2))"
      ]
    },
    {
      "cell_type": "markdown",
      "metadata": {
        "id": "nT9WvfrqgEze"
      },
      "source": [
        "**Task 1.4.18:** Recall from Task 1.4.1 the set `S` of complex numbers. Write a comprehension whose value is the set consisting of rotations by $\\pi / 4$ of the elements of `S`. Plot the value of this comprehension."
      ]
    },
    {
      "cell_type": "markdown",
      "metadata": {
        "id": "nrd_2GifgEze"
      },
      "source": [
        "### 1.4.10 Rotation by $\\tau$ radians"
      ]
    },
    {
      "cell_type": "code",
      "execution_count": null,
      "metadata": {
        "id": "aTN2HlafgEzf",
        "outputId": "2695d8a8-abb9-41f0-bb73-287d2211ed1a"
      },
      "outputs": [
        {
          "data": {
            "image/png": "[encoded data removed]",
            "text/plain": [
              "<matplotlib.figure.Figure at 0x10a020438>"
            ]
          },
          "metadata": {},
          "output_type": "display_data"
        }
      ],
      "source": [
        "def rotate(z, angle):\n",
        "    return z * (e ** (angle * 1j))\n",
        "plot_complex_points([rotate(z, pi/4) for z in S], xlim=(-4, 4), ylim=(-4, 4))"
      ]
    },
    {
      "cell_type": "markdown",
      "metadata": {
        "id": "-3JSn1ttgEzf"
      },
      "source": [
        "**Task 1.4.19:** Similarly, recall from Task 1.4.10 the list `pts` of points derived from an image.  \n",
        "    Plot the rotation by $\\pi / 4$ of the complex numbers comprising `pts`"
      ]
    },
    {
      "cell_type": "code",
      "execution_count": null,
      "metadata": {
        "id": "JzrWHBlygEzf",
        "outputId": "38423067-c61f-43b2-c1ee-667a19310527"
      },
      "outputs": [
        {
          "data": {
            "image/png": "[encoded data removed]",
            "text/plain": [
              "<matplotlib.figure.Figure at 0x10a025a90>"
            ]
          },
          "metadata": {},
          "output_type": "display_data"
        }
      ],
      "source": [
        "plot_complex_points([rotate(z, pi/4) for z in pts], xlim=(-200, 200), ylim=(-200, 200))"
      ]
    },
    {
      "cell_type": "markdown",
      "metadata": {
        "id": "l5ihsPi8gEzf"
      },
      "source": [
        "### 1.4.11 Combining operations"
      ]
    },
    {
      "cell_type": "markdown",
      "metadata": {
        "id": "YpQX0OOggEzf"
      },
      "source": [
        "**Task 1.4.20:** Write a comprehension that transforms the set `pts` by translating it so the image is centered, then rotating it by $\\pi / 4$, then scaling it by half. Plot the result."
      ]
    },
    {
      "cell_type": "code",
      "execution_count": null,
      "metadata": {
        "id": "Y9Ink_ArgEzf",
        "outputId": "a333e210-0f4b-483a-90ab-edc4c87ec743"
      },
      "outputs": [
        {
          "data": {
            "image/png": "[encoded data removed]",
            "text/plain": [
              "<matplotlib.figure.Figure at 0x109f9c668>"
            ]
          },
          "metadata": {},
          "output_type": "display_data"
        }
      ],
      "source": [
        "plot_complex_points([rotate(z, pi/4) / 2 for z in translate_to_origin(pts)], xlim=(-200, 200), ylim=(-200, 200))"
      ]
    },
    {
      "cell_type": "markdown",
      "metadata": {
        "id": "P_0SFtrwgEzf"
      },
      "source": [
        "## 1.5 Playing with `GF(2)`"
      ]
    },
    {
      "cell_type": "code",
      "execution_count": null,
      "metadata": {
        "id": "ibCKqECdgEzg",
        "outputId": "5c9f94da-6a32-40af-a6c2-3e421381dc2d"
      },
      "outputs": [
        {
          "data": {
            "text/plain": [
              "one"
            ]
          },
          "execution_count": 33,
          "metadata": {},
          "output_type": "execute_result"
        }
      ],
      "source": [
        "import sys\n",
        "sys.path.append('../')\n",
        "\n",
        "from GF2 import one # import an impl of Galois Field 2\n",
        "one * one"
      ]
    },
    {
      "cell_type": "code",
      "execution_count": null,
      "metadata": {
        "id": "h-OvKTMrgEzg",
        "outputId": "34533dd5-897b-4bed-9276-279358a33de6"
      },
      "outputs": [
        {
          "data": {
            "text/plain": [
              "0"
            ]
          },
          "execution_count": 34,
          "metadata": {},
          "output_type": "execute_result"
        }
      ],
      "source": [
        "one * 0"
      ]
    },
    {
      "cell_type": "code",
      "execution_count": null,
      "metadata": {
        "id": "xMBK7j5VgEzg",
        "outputId": "43d2a003-727e-49d3-82be-2dee804a9ddf"
      },
      "outputs": [
        {
          "data": {
            "text/plain": [
              "one"
            ]
          },
          "execution_count": 35,
          "metadata": {},
          "output_type": "execute_result"
        }
      ],
      "source": [
        "one + 0"
      ]
    },
    {
      "cell_type": "code",
      "execution_count": null,
      "metadata": {
        "id": "hEJrVOvFgEzg",
        "outputId": "a2d9ec20-85fd-4076-ef73-b080d29e27f1"
      },
      "outputs": [
        {
          "data": {
            "text/plain": [
              "0"
            ]
          },
          "execution_count": 36,
          "metadata": {},
          "output_type": "execute_result"
        }
      ],
      "source": [
        "one + one"
      ]
    },
    {
      "cell_type": "code",
      "execution_count": null,
      "metadata": {
        "id": "Z89Vlak1gEzg",
        "outputId": "f036da92-e395-49cb-95c7-1eeb214b2757"
      },
      "outputs": [
        {
          "data": {
            "text/plain": [
              "one"
            ]
          },
          "execution_count": 37,
          "metadata": {},
          "output_type": "execute_result"
        }
      ],
      "source": [
        "-one"
      ]
    },
    {
      "cell_type": "markdown",
      "metadata": {
        "id": "g3QSkcxjgEzg"
      },
      "source": [
        "### 1.5.1 Perfect secrecy revisited"
      ]
    },
    {
      "cell_type": "markdown",
      "metadata": {
        "id": "H5K_744ogEzh"
      },
      "source": [
        "**Problem 1.5.1:** An 11-symbol message has been encrypted as follows. Each symbol is represented by a number between 0 and 26 (`A -> 0, B -> 1, ..., Z -> 25`). Each number is represented by a five-bit binary sequence (`0 -> 0000, 1 -> 0001, ..., 26 -> 11010`). finally, the resulting sequence of 55 bits is encrypted using a flawed version of the one-time pad: the key is not 55 random bits but 11 copies of the same sequence of 5 random bits. The cyphertext is:  \n",
        "            `10101 00100 10101 01011 11001 00011 01011 10101 00100 11001 11010`  \n",
        "            Try to find the plaintext."
      ]
    },
    {
      "cell_type": "code",
      "execution_count": null,
      "metadata": {
        "id": "tKKUhgUYgEzh",
        "outputId": "12b3d411-5ed9-4df3-a9d0-45cf1ff0b5f0"
      },
      "outputs": [
        {
          "data": {
            "text/plain": [
              "['vevlzdlvez{',\n",
              " 'ufukyckufy|',\n",
              " 'xgxj|bjxg|y',\n",
              " 'whwi{aiwh{z',\n",
              " 'rarp~hpra~\\x7f',\n",
              " 'qbqo}goqb}\\x80',\n",
              " 'tctn\\x80fntc\\x80}',\n",
              " 'sdsm\\x7femsd\\x7f~',\n",
              " '~m~drld~mrs',\n",
              " '}n}cqkc}nqt',\n",
              " '\\x80o\\x80btjb\\x80otq',\n",
              " '\\x7fp\\x7fasia\\x7fpsr',\n",
              " 'zizhvphzivw',\n",
              " 'yjyguogyjux',\n",
              " '|k|fxnf|kxu',\n",
              " '{l{ewme{lwv',\n",
              " 'fuf|jt|fujk',\n",
              " 'eve{is{evil',\n",
              " 'hwhzlrzhwli',\n",
              " 'gxgykqygxkj',\n",
              " 'bqb\\x80nx\\x80bqno',\n",
              " 'ara\\x7fmw\\x7farmp',\n",
              " 'dsd~pv~dspm',\n",
              " 'ctc}ou}cton',\n",
              " 'n}ntb|tn}bc',\n",
              " 'm~msa{sm~ad',\n",
              " 'p\\x7fprdzrp\\x7fda',\n",
              " 'o\\x80oqcyqo\\x80cb',\n",
              " 'jyjxf\\x80xjyfg',\n",
              " 'iziwe\\x7fwizeh',\n",
              " 'l{lvh~vl{he',\n",
              " 'k|kug}uk|gf']"
            ]
          },
          "execution_count": 38,
          "metadata": {},
          "output_type": "execute_result"
        }
      ],
      "source": [
        "def int_to_bit_string(i):\n",
        "    return \"{0:b}\".format(i)\n",
        "\n",
        "def bit_string_to_int(bit_str):\n",
        "    return int(bit_str, 2)\n",
        "\n",
        "def letter_for_bit_string(bits_str):\n",
        "    return chr(bit_string_to_int(bits_str) + ord('a'))\n",
        "\n",
        "def decrypt_letter_using_key(letter_bits_str, key_bits_str):\n",
        "    # excl. or equivalent to GF(2)\n",
        "    decrypted_letter_int = bit_string_to_int(letter_bits_str) ^ bit_string_to_int(key_bits_str)\n",
        "    return letter_for_bit_string(int_to_bit_string(decrypted_letter_int))\n",
        "\n",
        "# try all 32 possible keys\n",
        "all_possible_keys = [int_to_bit_string(i) for i in range(2 ** 5)]\n",
        "\n",
        "encrypted_letters = '10101 00100 10101 01011 11001 00011 01011 10101 00100 11001 11010'.split(' ')\n",
        "decrypted_messages = [''.join([decrypt_letter_using_key(encrypted_letter, key) for encrypted_letter in encrypted_letters]) for key in all_possible_keys]\n",
        "\n",
        "decrypted_messages"
      ]
    },
    {
      "cell_type": "code",
      "execution_count": null,
      "metadata": {
        "id": "NFtReyC5gEzh",
        "outputId": "75a87e50-7780-4404-ea97-4829a505a740"
      },
      "outputs": [
        {
          "data": {
            "text/plain": [
              "'eve{is{evil'"
            ]
          },
          "execution_count": 39,
          "metadata": {},
          "output_type": "execute_result"
        }
      ],
      "source": [
        "decrypted_messages[17] # this is the only one that isn't nonsense!"
      ]
    },
    {
      "cell_type": "markdown",
      "metadata": {
        "id": "taFy8hZLgEzh"
      },
      "source": [
        "## 1.6 Review questions"
      ]
    },
    {
      "cell_type": "markdown",
      "metadata": {
        "id": "3pknZ20QgEzh"
      },
      "source": [
        "**Name three fields**"
      ]
    },
    {
      "cell_type": "markdown",
      "metadata": {
        "id": "--LYmSo2gEzh"
      },
      "source": [
        "The field of rational numbers, $\\mathbb{Q}$, the field of reals, $\\mathbb{R}$ and the field of complex numbers, $\\mathbb{C}$ (along with their addition and multiplication operations) are all fields."
      ]
    },
    {
      "cell_type": "markdown",
      "metadata": {
        "id": "JXyq4A5OgEzh"
      },
      "source": [
        "** What is the conjugate of a complex number? What does it have to do with the absolute value of a complex number?**"
      ]
    },
    {
      "cell_type": "markdown",
      "metadata": {
        "id": "ANzVIxC2gEzh"
      },
      "source": [
        "The conjugate of a complex number has the same real component but an inverted imaginary component.  \n",
        "The absolute value (or magnitude) of a complex number and its prior are the same, since the distance of both points from the origin on the complex plane is the same."
      ]
    },
    {
      "cell_type": "markdown",
      "metadata": {
        "id": "nagchimFgEzi"
      },
      "source": [
        "**How does complex-number addition work?**"
      ]
    },
    {
      "cell_type": "markdown",
      "metadata": {
        "id": "k8yAjtZ3gEzi"
      },
      "source": [
        "Complex-number addition is performed by simply adding the real and imaginary parts of each operand separately as in normal real-number addition.  "
      ]
    },
    {
      "cell_type": "markdown",
      "metadata": {
        "id": "cSjquHnqgEzi"
      },
      "source": [
        "**How does complex-number multiplication work?**"
      ]
    },
    {
      "cell_type": "markdown",
      "metadata": {
        "id": "LEutHTHNgEzi"
      },
      "source": [
        "Complex-number multiplication is performed by multiplying the real and imaginary parts of each operand separately as in normal real-number multiplication.  "
      ]
    },
    {
      "cell_type": "markdown",
      "metadata": {
        "id": "HdYtLJ-9gEzi"
      },
      "source": [
        "**How can translation be defined in terms of complex numbers?**"
      ]
    },
    {
      "cell_type": "markdown",
      "metadata": {
        "id": "xcwNMp8AgEzi"
      },
      "source": [
        "Complex-number addition is equivalent to translation in the complex plain by each of the number's components.  It can be visualized by translating from the origin in the complex plane to the first point, and then translating from this point by the value of the other operand.  The location of this result relative to the origin is the value of the complex addition result."
      ]
    },
    {
      "cell_type": "markdown",
      "metadata": {
        "id": "H2vuOSCEgEzi"
      },
      "source": [
        "**How can scaling be defined in terms of complex numbers?**"
      ]
    },
    {
      "cell_type": "markdown",
      "metadata": {
        "id": "sd1NYxf7gEzi"
      },
      "source": [
        "Complex-number multiplication is equivalent to scaling one operand by the other in the complex plain, relative to the origin."
      ]
    },
    {
      "cell_type": "markdown",
      "metadata": {
        "id": "MT4ui5CdgEzi"
      },
      "source": [
        "**How can rotation by 180 degrees be defined in terms of complex numbers?**"
      ]
    },
    {
      "cell_type": "markdown",
      "metadata": {
        "id": "GaQjpHNrgEzj"
      },
      "source": [
        "A rotation by 180 degrees in the complex plane is equivalent to multiplying by `-1` (or $i^{2}$)"
      ]
    },
    {
      "cell_type": "markdown",
      "metadata": {
        "id": "fFUfPU1wgEzj"
      },
      "source": [
        "**How can rotation by 90 degrees be defined in terms of complex numbers?**"
      ]
    },
    {
      "cell_type": "markdown",
      "metadata": {
        "id": "vEQGFOpfgEzj"
      },
      "source": [
        "A rotation by 90 degrees (counterclockwise) in the complex plane is equivalent to multiplying by $i$."
      ]
    },
    {
      "cell_type": "markdown",
      "metadata": {
        "id": "Yh0L5FWjgEzj"
      },
      "source": [
        "**How does addition of $GF(2)$ values work?**"
      ]
    },
    {
      "cell_type": "markdown",
      "metadata": {
        "id": "qmf6eLJ1gEzj"
      },
      "source": [
        "Addition of $GF(2)$ values works like addition modulo-2.  It is also equivalent to the logical $exclusive-or$ operation."
      ]
    },
    {
      "cell_type": "markdown",
      "metadata": {
        "id": "Z5uLKmuBgEzj"
      },
      "source": [
        "**How does multiplication of $GF(2)$ values work?**"
      ]
    },
    {
      "cell_type": "markdown",
      "metadata": {
        "id": "Q1LDUVzagEzj"
      },
      "source": [
        "Multiplication of $GF(2)$ values works exactly like normal multiplication with the integer `0` and `1` values.  It is also equivalent to the logical $and$ operation."
      ]
    },
    {
      "cell_type": "markdown",
      "metadata": {
        "id": "_3buMrKmgEzj"
      },
      "source": [
        "## 1.7 Problems"
      ]
    },
    {
      "cell_type": "markdown",
      "metadata": {
        "id": "YtvMadbWgEzj"
      },
      "source": [
        "### Python comprehension problems"
      ]
    },
    {
      "cell_type": "markdown",
      "metadata": {
        "id": "6gJyHWGXgEzk"
      },
      "source": [
        "Write each of the following three procedures using a comprehension:"
      ]
    },
    {
      "cell_type": "markdown",
      "metadata": {
        "id": "LP_8RB2SgEzk"
      },
      "source": [
        "**Problem 1.7.1:** `my_filter(L, num)`  \n",
        "_input:_ list of numbers and a positive integer.  \n",
        "_output:_ list of numbers not containing a multiple of `num`.  \n",
        "_example:_ given `L = [1, 2, 4, 5, 7]` and `num = 2`, return `[1, 5, 7]`."
      ]
    },
    {
      "cell_type": "code",
      "execution_count": null,
      "metadata": {
        "id": "KchjGywKgEzk",
        "outputId": "028ea3eb-1ae7-4e6a-ea96-820d7e655773"
      },
      "outputs": [
        {
          "data": {
            "text/plain": [
              "[1, 5, 7]"
            ]
          },
          "execution_count": 40,
          "metadata": {},
          "output_type": "execute_result"
        }
      ],
      "source": [
        "def my_filter(L, num):\n",
        "    return [item for item in L if item % num != 0]\n",
        "my_filter([1, 2, 4, 5, 7], 2)"
      ]
    },
    {
      "cell_type": "markdown",
      "metadata": {
        "id": "ZI75ph3fgEzk"
      },
      "source": [
        "**Problem 1.7.2:** `my_lists(L)`  \n",
        "_input:_ list `L` non-negative integers.\n",
        "_output:_ a list of lists: for every element $x$ in `L` create a list containing $1, 2, ..., x$.\n",
        "_example:_ given `L = [1, 2, 4]` return `[[1], [1, 2], [1, 2, 3, 4]]`. given `[0]` return `[[]]`."
      ]
    },
    {
      "cell_type": "code",
      "execution_count": null,
      "metadata": {
        "id": "gbrwb7TPgEzk",
        "outputId": "badbd8eb-f175-4686-fe2a-41207be005fd"
      },
      "outputs": [
        {
          "data": {
            "text/plain": [
              "[[1], [1, 2], [1, 2, 3, 4]]"
            ]
          },
          "execution_count": 41,
          "metadata": {},
          "output_type": "execute_result"
        }
      ],
      "source": [
        "def my_lists(L):\n",
        "    return [list(range(1, n + 1)) for n in L]\n",
        "my_lists([1, 2, 4])"
      ]
    },
    {
      "cell_type": "code",
      "execution_count": null,
      "metadata": {
        "id": "BnCteeUhgEzk",
        "outputId": "9d750883-05c3-4f82-b757-f2f7c7eee6b8"
      },
      "outputs": [
        {
          "data": {
            "text/plain": [
              "[[]]"
            ]
          },
          "execution_count": 42,
          "metadata": {},
          "output_type": "execute_result"
        }
      ],
      "source": [
        "my_lists([0])"
      ]
    },
    {
      "cell_type": "markdown",
      "metadata": {
        "id": "0mQsdvhcgEzk"
      },
      "source": [
        "**Problem 1.7.3:** `my_function_composition(f, g)`  \n",
        "_input:_ two functions $f$ and $g$, represented as dictionaries, such that $g \\circ f$ exists.\n",
        "_output:_ dictionary that represents the function $g \\circ f$.\n",
        "_example:_ given `f = {0: 'a', 1: 'b'}` and `g = {'a': 'apple', 'b': 'banana'}`, return `{0: 'apple', 1: 'banana'}`."
      ]
    },
    {
      "cell_type": "code",
      "execution_count": null,
      "metadata": {
        "id": "JY75119PgEzl",
        "outputId": "d801b3d6-4e60-4e74-baa4-b4f7114dbced"
      },
      "outputs": [
        {
          "data": {
            "text/plain": [
              "{0: 'apple', 1: 'banana'}"
            ]
          },
          "execution_count": 43,
          "metadata": {},
          "output_type": "execute_result"
        }
      ],
      "source": [
        "def my_function_composition(f, g):\n",
        "    return {k: g[f[k]] for k in f}\n",
        "my_function_composition(f={0: 'a', 1: 'b'}, g={'a': 'apple', 'b': 'banana'})"
      ]
    },
    {
      "cell_type": "markdown",
      "metadata": {
        "id": "oUOQ9eMYgEzl"
      },
      "source": [
        "### Python loop problems"
      ]
    },
    {
      "cell_type": "markdown",
      "metadata": {
        "id": "w5FLhfWkgEzl"
      },
      "source": [
        "For procedures in the following five problems, use the following format:  \n",
        "\n",
        "```\n",
        "def <ProcedureName>(L):\n",
        "    current = ...\n",
        "    for x in L:\n",
        "        current = ...\n",
        "    return current\n",
        "```\n",
        "\n",
        "The value your procedure initially assigns to `current` turns out to be the return value in the case when the input list `L` is empty. This provides us insight into how the answer should be defined in that case.  \n",
        "\n",
        "Note: You are not allowed to use Python built-in procedures `sum(*)` and `min(*)`."
      ]
    },
    {
      "cell_type": "markdown",
      "metadata": {
        "id": "9JHSH1kGgEzl"
      },
      "source": [
        "**Problem 1.7.4:** `my_sum(L)`  \n",
        "_input:_ list of numbers  \n",
        "_output:_ sum of numbers in the list"
      ]
    },
    {
      "cell_type": "code",
      "execution_count": null,
      "metadata": {
        "id": "Oz5VPe-jgEzl",
        "outputId": "b9602e80-3d59-42ad-fec2-4c813d4eb007"
      },
      "outputs": [
        {
          "data": {
            "text/plain": [
              "6"
            ]
          },
          "execution_count": 44,
          "metadata": {},
          "output_type": "execute_result"
        }
      ],
      "source": [
        "def my_sum(L):\n",
        "    current = 0\n",
        "    for x in L:\n",
        "        current += x\n",
        "    return current\n",
        "\n",
        "my_sum([1, 2, 3])"
      ]
    },
    {
      "cell_type": "markdown",
      "metadata": {
        "id": "7FpThhAJgEzo"
      },
      "source": [
        "**Problem 1.7.5:** `my_product(L)`  \n",
        "_input:_ list of numbers  \n",
        "_output:_ product of numbers in the list"
      ]
    },
    {
      "cell_type": "code",
      "execution_count": null,
      "metadata": {
        "id": "_yuku4vcgEzo",
        "outputId": "d81062fe-1ec5-424f-c7bd-97553ff97b32"
      },
      "outputs": [
        {
          "data": {
            "text/plain": [
              "6"
            ]
          },
          "execution_count": 45,
          "metadata": {},
          "output_type": "execute_result"
        }
      ],
      "source": [
        "def my_product(L):\n",
        "    current = 1\n",
        "    for x in L:\n",
        "        current *= x\n",
        "    return current\n",
        "\n",
        "my_product([1, 2, 3])"
      ]
    },
    {
      "cell_type": "code",
      "execution_count": null,
      "metadata": {
        "id": "SXChbK3ggEzp",
        "outputId": "13c3d7a5-37ff-41d9-9a6d-5d1011a96101"
      },
      "outputs": [
        {
          "data": {
            "text/plain": [
              "1"
            ]
          },
          "execution_count": 46,
          "metadata": {},
          "output_type": "execute_result"
        }
      ],
      "source": [
        "my_product([])"
      ]
    },
    {
      "cell_type": "markdown",
      "metadata": {
        "id": "5HQfE27hgEzp"
      },
      "source": [
        "**Problem 1.7.6:** `my_min(L)`  \n",
        "_input:_ list of numbers  \n",
        "_output:_ minimum of numbers in the list"
      ]
    },
    {
      "cell_type": "code",
      "execution_count": null,
      "metadata": {
        "id": "1_Go_WD4gEzp",
        "outputId": "44005881-3d29-4bb3-b587-997849e7cc81"
      },
      "outputs": [
        {
          "data": {
            "text/plain": [
              "1"
            ]
          },
          "execution_count": 47,
          "metadata": {},
          "output_type": "execute_result"
        }
      ],
      "source": [
        "def my_min(L):\n",
        "    current = None\n",
        "    for x in L:\n",
        "        current = x if current == None else min(current, x)\n",
        "    return current\n",
        "\n",
        "my_min([1, 2, 3])"
      ]
    },
    {
      "cell_type": "code",
      "execution_count": null,
      "metadata": {
        "id": "U3hA9VmWgEzp",
        "outputId": "adbe493d-49b0-4d3f-84f3-c4a7657427c4"
      },
      "outputs": [
        {
          "data": {
            "text/plain": [
              "-1"
            ]
          },
          "execution_count": 48,
          "metadata": {},
          "output_type": "execute_result"
        }
      ],
      "source": [
        "my_min([-1, 2])"
      ]
    },
    {
      "cell_type": "code",
      "execution_count": null,
      "metadata": {
        "id": "Ht8jwpDGgEzp",
        "outputId": "83a76879-f405-4445-9883-3b4bd1d2102c"
      },
      "outputs": [
        {
          "name": "stdout",
          "output_type": "stream",
          "text": [
            "None\n"
          ]
        }
      ],
      "source": [
        "print(my_min([]))"
      ]
    },
    {
      "cell_type": "markdown",
      "metadata": {
        "id": "x5vlfDkmgEzp"
      },
      "source": [
        "**Problem 1.7.7:** `my_concat(L)`  \n",
        "_input:_ list of strings  \n",
        "_output:_ concatenation of all the strings in `L`"
      ]
    },
    {
      "cell_type": "code",
      "execution_count": null,
      "metadata": {
        "id": "_RNrRIefgEzq",
        "outputId": "de1805cb-17b3-44a4-995d-80096dd5e770"
      },
      "outputs": [
        {
          "data": {
            "text/plain": [
              "'hibyehello'"
            ]
          },
          "execution_count": 50,
          "metadata": {},
          "output_type": "execute_result"
        }
      ],
      "source": [
        "def my_concat(L):\n",
        "    current = ''\n",
        "    for x in L:\n",
        "        current += x\n",
        "    return current\n",
        "\n",
        "my_concat(['hi', 'bye', 'hello'])"
      ]
    },
    {
      "cell_type": "markdown",
      "metadata": {
        "id": "2JoDmOT0gEzq"
      },
      "source": [
        "**Problem 1.7.8:** `my_union(L)`  \n",
        "_input:_ list of sets  \n",
        "_output:_ the union of all sets in `L`"
      ]
    },
    {
      "cell_type": "code",
      "execution_count": null,
      "metadata": {
        "id": "MDXuPj3cgEzq",
        "outputId": "03057c92-be49-487f-c594-ca089e78a4d0"
      },
      "outputs": [
        {
          "data": {
            "text/plain": [
              "{1, 2, 3, 4}"
            ]
          },
          "execution_count": 51,
          "metadata": {},
          "output_type": "execute_result"
        }
      ],
      "source": [
        "def my_union(L):\n",
        "    current = set()\n",
        "    for x in L:\n",
        "        current |= x\n",
        "    return current\n",
        "\n",
        "my_union([{1}, {2}, {2, 3, 4}])"
      ]
    },
    {
      "cell_type": "markdown",
      "metadata": {
        "id": "wldhSGjwgEzq"
      },
      "source": [
        "**Problem 1.7.9:** What should be the value of each of the following?  \n",
        "\n",
        "  **1. The sum of the numbers in an empty set.**  \n",
        "  `0`  \n",
        "  **2. The product of the numbers in an empty set.**  \n",
        "  `1`  \n",
        "  **3. The minimum of the numbers in an empty set.**  \n",
        "  `None`  \n",
        "  **4. The concatenation of an empty list of strings.**  \n",
        "  The empty string, `''`  \n",
        "  **5. The union of an empty list of sets.**  \n",
        "  The empty set, `{}` (or `set()` in Python)"
      ]
    },
    {
      "cell_type": "markdown",
      "metadata": {
        "id": "pDNYg1LvgEzq"
      },
      "source": [
        "### Complex addition practice"
      ]
    },
    {
      "cell_type": "markdown",
      "metadata": {
        "id": "PX7M4IqtgEzq"
      },
      "source": [
        "**Problem 1.7.10:** Each of the following problems asks for the sum of two complex numbers. For each, write the solution and illustrate it with a diagram like that of Figure 1.1. The arrows you draw should (roughly) correspond to the vectors being added.  \n",
        "    \n",
        "a. $(3 + 1i) + (2 + 2i)$  \n",
        "b. $(-1 + 2i) + (1 - 1i)$  \n",
        "c. $(2 + 0i) + (-3 + 0.001i)$  \n",
        "d. $4(0 + 2i) + (.001 + 1i)$  "
      ]
    },
    {
      "cell_type": "code",
      "execution_count": null,
      "metadata": {
        "id": "SJEb7UGcgEzq"
      },
      "outputs": [],
      "source": [
        "import matplotlib.pyplot as plt\n",
        "import numpy as np\n",
        "\n",
        "def plot_arrow(z1, z2, **args):\n",
        "    plt.arrow(z1.real, z1.imag, z2.real, z2.imag, head_length=args['head_width'], length_includes_head=True, fc='k', **args)\n",
        "\n",
        "def plot_addition(z1, z2):\n",
        "    all_zs = np.array([0, z1, z2, z1 + z2])\n",
        "\n",
        "    reals = all_zs.real\n",
        "    imags = all_zs.imag\n",
        "    real_range = reals.max() - reals.min()\n",
        "    imag_range = imags.max() - imags.min()\n",
        "    \n",
        "    linewidth = min(real_range, imag_range) / 2\n",
        "    headwidth= min(real_range, imag_range) / 20\n",
        "\n",
        "    plt.xlim(reals.min() - real_range * 0.1, reals.max() + real_range * 0.1)\n",
        "    plt.ylim(imags.min() - imag_range * 0.1, imags.max() + imag_range * 0.1)\n",
        "    plot_arrow(0 + 1j * 0, z1, head_width=headwidth, linewidth=linewidth)\n",
        "    plot_arrow(z1, z2, head_width=headwidth, linewidth=linewidth)\n",
        "    plot_arrow(0 + 1j * 0, z1 + z2, linestyle=':', head_width=headwidth, linewidth=linewidth)\n",
        "    plt.show()"
      ]
    },
    {
      "cell_type": "markdown",
      "metadata": {
        "id": "djxeylSjgEzr"
      },
      "source": [
        "a. $(3 + 1i) + (2 + 2i)$ = $5 + 3i$"
      ]
    },
    {
      "cell_type": "code",
      "execution_count": null,
      "metadata": {
        "id": "yY1wCdfsgEzr",
        "outputId": "62ef2852-ba70-49da-9a37-e66bd8f9f190"
      },
      "outputs": [
        {
          "data": {
            "image/png": "[encoded data removed]",
            "text/plain": [
              "<matplotlib.figure.Figure at 0x109fe7278>"
            ]
          },
          "metadata": {},
          "output_type": "display_data"
        }
      ],
      "source": [
        "plot_addition(3 + 1j, 2 + 2j)"
      ]
    },
    {
      "cell_type": "markdown",
      "metadata": {
        "id": "8kN4YWq2gEzr"
      },
      "source": [
        "b. $(-1 + 2i) + (1 - 1i) = i$"
      ]
    },
    {
      "cell_type": "code",
      "execution_count": null,
      "metadata": {
        "id": "l2orpBEVgEzr",
        "outputId": "427cbc94-5f2b-4600-cbc7-cbe394b46764"
      },
      "outputs": [
        {
          "data": {
            "image/png": "[encoded data removed]",
            "text/plain": [
              "<matplotlib.figure.Figure at 0x1098f2860>"
            ]
          },
          "metadata": {},
          "output_type": "display_data"
        }
      ],
      "source": [
        "plot_addition(-1 + 2j, 1  - 1j)"
      ]
    },
    {
      "cell_type": "markdown",
      "metadata": {
        "id": "HrCkJbOFgEzr"
      },
      "source": [
        "c. $(2 + 0i) + (-3 + 0.001i) = -1 + 0.001i$"
      ]
    },
    {
      "cell_type": "code",
      "execution_count": null,
      "metadata": {
        "id": "e8MtRZdHgEzr",
        "outputId": "fda281a0-d951-4a36-e2e4-9dc91b0d9bbf"
      },
      "outputs": [
        {
          "data": {
            "image/png": "[encoded data removed]",
            "text/plain": [
              "<matplotlib.figure.Figure at 0x1098581d0>"
            ]
          },
          "metadata": {},
          "output_type": "display_data"
        }
      ],
      "source": [
        "plot_addition(2 + 1j, -3 + 0.001j) # using 1j since the very small range is messing with the chart"
      ]
    },
    {
      "cell_type": "markdown",
      "metadata": {
        "id": "Yarh6X6lgEzs"
      },
      "source": [
        "d. $4(0 + 2i) + (.001 + 1i) = 0.001 + 9i$  "
      ]
    },
    {
      "cell_type": "markdown",
      "metadata": {
        "id": "cybyjhyEgEzs"
      },
      "source": [
        "### Multiplication of exponentials"
      ]
    },
    {
      "cell_type": "markdown",
      "metadata": {
        "id": "A0QVQN2qgEzs"
      },
      "source": [
        "**Problem 1.7.11:** Use the First Rule of Exponentiation to express the product of two exponentials as a single exponential. For example, $e^{( \\pi / 4) i} e^{( \\pi / 4) i} = e^{(\\pi / 2) i}$  \n",
        "\n",
        "**a. $e^{1i}e^{2i}$**  \n",
        "$e^{3i}$\n",
        "\n",
        "**b. $e^{(\\pi/4)i}e^{(2\\pi/3)i}$**  \n",
        "$e^{(11\\pi/12)i}$\n",
        "\n",
        "**c. $e^{-(\\pi/4)i}e^{(2\\pi/3)i}$**  \n",
        "$e^{(5\\pi/12)i}$"
      ]
    },
    {
      "cell_type": "markdown",
      "metadata": {
        "id": "cWcbr-XCgEzs"
      },
      "source": [
        "### Combining operations on complex numbers"
      ]
    },
    {
      "cell_type": "markdown",
      "metadata": {
        "id": "CxiyfcEMgEzs"
      },
      "source": [
        "**Problem 1.7.12:** Write a procedure `transform(a, b, L)` with the following spec:  \n",
        "\n",
        "_input:_ complex numbers `a` and ` b` and a list `L` of complex numbers  \n",
        "_output:_ the list of complex numbers obtained by applying $f(z) = az + b$ to each complex number in `L`\n"
      ]
    },
    {
      "cell_type": "code",
      "execution_count": null,
      "metadata": {
        "id": "Drk9yfldgEzs",
        "outputId": "07b6eb73-2c56-41d2-a6d1-4f9152cb40ac"
      },
      "outputs": [
        {
          "data": {
            "text/plain": [
              "[(3+2j), (5-4j)]"
            ]
          },
          "execution_count": 56,
          "metadata": {},
          "output_type": "execute_result"
        }
      ],
      "source": [
        "def transform(a, b, L):\n",
        "    return [a * z + b for z in L]\n",
        "\n",
        "transform(1, 2, [1 + 2j, 3 - 4j])"
      ]
    },
    {
      "cell_type": "markdown",
      "metadata": {
        "id": "9fy8zqr9gEzt"
      },
      "source": [
        "Next, for each of the following problems, explain which value to choose for $a$ and $b$ in order to achieve the specified transformation. If there is no way to achieve the transformation, explian.  \n",
        "\n",
        "**a. Translate `z` one unit up and one unit to the right, then rotate ninety degrees clockwise, then scale by two.**  \n",
        "\n",
        "There is no way to achieve this transformation, since the associativity is such that multiplication (scaling and rotating) will happen _before_ addition (translating).\n",
        "\n",
        "**b. Scale the real part by two and the imaginary part by three, then rotate by forty-five degrees counterclockwise, and then translate down two units and left three units.**  \n",
        "\n",
        "This is possible by choosing $a = (2 + 3i)e^{(\\pi / 4)i}$ and $b = -1 - 3i$\n"
      ]
    },
    {
      "cell_type": "code",
      "execution_count": null,
      "metadata": {
        "id": "r05rwOZ0gEzt",
        "outputId": "7cb0797f-76fd-4c9a-f3d6-141c53b56693"
      },
      "outputs": [
        {
          "data": {
            "image/png": "[encoded data removed]",
            "text/plain": [
              "<matplotlib.figure.Figure at 0x109fed8d0>"
            ]
          },
          "metadata": {},
          "output_type": "display_data"
        }
      ],
      "source": [
        "L = [1 + 2j, 3 - 4j]\n",
        "plot_complex_points(L, xlim=(-20, 20), ylim=(-20, 20))"
      ]
    },
    {
      "cell_type": "code",
      "execution_count": null,
      "metadata": {
        "id": "XROGZgL-gEzt",
        "outputId": "5e4561a1-1667-4432-db00-072e9b991bd2"
      },
      "outputs": [
        {
          "data": {
            "image/png": "[encoded data removed]",
            "text/plain": [
              "<matplotlib.figure.Figure at 0x109a857b8>"
            ]
          },
          "metadata": {},
          "output_type": "display_data"
        }
      ],
      "source": [
        "transformed_L = transform((2 + 3j) * (e ** ((pi / 4) * 1j)), -1 - 3j, L)\n",
        "plot_complex_points(transformed_L, xlim=(-20, 20), ylim=(-20, 20))"
      ]
    },
    {
      "cell_type": "markdown",
      "metadata": {
        "id": "9A68LN-pgEzt"
      },
      "source": [
        "### $GF(2)$ arithmetic"
      ]
    },
    {
      "cell_type": "markdown",
      "metadata": {
        "id": "oI43e6yHgEzt"
      },
      "source": [
        "**Problem 1.7.13:** For each of the following problems, calculate the answer over $GF(2)$  \n",
        "\n",
        "**a. $1 + 1 + 1 + 0$**  \n",
        "\n",
        "$1 + 1 + 1 + 0 = 1$  \n",
        "\n",
        "**b. $1 \\cdot 1 + 0 \\cdot 1 + 0 \\cdot 0 + 1 \\cdot 1$**  \n",
        "$1 \\cdot 1 + 0 \\cdot 1 + 0 \\cdot 0 + 1 \\cdot 1$  \n",
        "$= 1 + 0 + 0 + 1$  \n",
        "$= 0$  \n",
        "\n",
        "**c. $(1 + 1 + 1) \\cdot (1 + 1 + 1 + 1)$**  \n",
        "\n",
        "$(1 + 1 + 1) \\cdot (1 + 1 + 1 + 1)$  \n",
        "$= 1 \\cdot 0$  \n",
        "$= 0$  \n"
      ]
    }
  ],
  "metadata": {
    "kernelspec": {
      "display_name": "Python 3",
      "language": "python",
      "name": "python3"
    },
    "language_info": {
      "codemirror_mode": {
        "name": "ipython",
        "version": 3
      },
      "file_extension": ".py",
      "mimetype": "text/x-python",
      "name": "python",
      "nbconvert_exporter": "python",
      "pygments_lexer": "ipython3",
      "version": "3.6.4"
    },
    "colab": {
      "name": "「chapter_1.ipynb」的副本",
      "provenance": [],
      "collapsed_sections": [
        "YGwWIQp5gEzL",
        "bG0XwtHIgEzM",
        "xfu_y268gEzY",
        "cXgdGY2ngEzZ",
        "G3YPFTy3gEzb",
        "m9Cqdb-9gEzb",
        "_bWnhmRTgEze",
        "nrd_2GifgEze",
        "l5ihsPi8gEzf",
        "P_0SFtrwgEzf",
        "g3QSkcxjgEzg",
        "taFy8hZLgEzh",
        "_3buMrKmgEzj",
        "YtvMadbWgEzj",
        "oUOQ9eMYgEzl",
        "pDNYg1LvgEzq",
        "cybyjhyEgEzs",
        "cWcbr-XCgEzs",
        "9A68LN-pgEzt"
      ]
    }
  },
  "nbformat": 4,
  "nbformat_minor": 0
}